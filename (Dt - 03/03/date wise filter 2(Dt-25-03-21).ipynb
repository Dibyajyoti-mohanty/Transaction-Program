{
 "metadata": {
  "language_info": {
   "codemirror_mode": {
    "name": "ipython",
    "version": 3
   },
   "file_extension": ".py",
   "mimetype": "text/x-python",
   "name": "python",
   "nbconvert_exporter": "python",
   "pygments_lexer": "ipython3",
   "version": "3.9.2-final"
  },
  "orig_nbformat": 2,
  "kernelspec": {
   "name": "python3",
   "display_name": "Python 3.9.2 64-bit",
   "metadata": {
    "interpreter": {
     "hash": "f9f85f796d01129d0dd105a088854619f454435301f6ffec2fea96ecbd9be4ac"
    }
   }
  }
 },
 "nbformat": 4,
 "nbformat_minor": 2,
 "cells": [
  {
   "cell_type": "code",
   "execution_count": 10,
   "metadata": {},
   "outputs": [],
   "source": [
    "import Main_Project00 as main"
   ]
  },
  {
   "cell_type": "code",
   "execution_count": 9,
   "metadata": {},
   "outputs": [],
   "source": [
    "tr = [(('1210','120001','27/02/2021'),('apple',3),('grapes',4)),\n",
    "      (('1211','120002','27/02/2021'),('pears',6),('mango',8),('orange',6)),\n",
    "      (('1212','120003','27/02/2021'),('pears',2),('apple',3),('orange',4),('cherry',5),('mango',6),('apple',7)),\n",
    "      (('1213','120004','28/02/2021'),('orange',9),('pears',8),('pineapple',5)),\n",
    "      (('1214','120005','28/02/2021'),('grapes',3),('apple',7)),\n",
    "      (('1215','120006','02/03/2021'),('mango',12),('orange',13),('guava',8),('Strawberry',10),('cherry',7)),\n",
    "      (('1211','120007','03/03/2021'),('dates',15),('banana',10),('orange',10)),\n",
    "      (('1214','120008','04/03/2021'),('dates',13),('banana',10),('Blackberry',2)),\n",
    "      (('1215','120009','05/03/2021'),('dates',12),('apple',10),('mango',10),('cherry',8)),\n",
    "      (('1216','120010','05/03/2021'),('apple',6),('dates',8),('jelly',5),('jackfruit',50)),\n",
    "     (('1217','120011','05/03/2021'),('mango',6),('apple',8)),\n",
    "     (('1218','120012','06/03/2021'),('Blackberry',8),('Strawberry',6),('jackfruit',60),('mango',15),('apple',10),('WaterMelon',95))]\n",
    "\n",
    "\n",
    "\n",
    "cu = [('1210','Rajesh'),('1211','Rakesh'),('1212','Sahil'),\n",
    "      ('1213','Jack'),('1214','Steve'),('1215','Rohan',),\n",
    "      ('1216','Millan',),('1217','mikul'),('1218','smile')]\n",
    "\n",
    "\n",
    "item_detail = [('1001','apple',60),('1002','orange',40),('1003','pears',30),\n",
    "               ('1004','mango',50),('1005','grapes',45),('1006','guava',40),\n",
    "             ('1007','pineapple',60),('1008','dates',100),('1009','banana',10),\n",
    "               ('1010','Strawberry',150),('1011','Blackberry',110),\n",
    "             ('1012','cherry',90),('1013','jelly',20),('1014','jackfruit',40),('1015','WaterMelon',58)]\n",
    "\n",
    "\n",
    "\n",
    "\n",
    "\n",
    "tr_cu_un = []\n",
    "\n",
    "tr_item_un = []\n",
    "\n",
    "tr_un_bill = []\n",
    "\n",
    "tr_un_date = []"
   ]
  },
  {
   "cell_type": "code",
   "execution_count": 41,
   "metadata": {},
   "outputs": [
    {
     "output_type": "stream",
     "name": "stdout",
     "text": [
      "Date         Cu_name     Amount\n\n27/02/2021 1210 360\n360\n\n"
     ]
    }
   ],
   "source": [
    "c_date = '27/02/2021'\n",
    "item = ''\n",
    "quantity = 0\n",
    "tr_cu_id = ''\n",
    "bill = ''\n",
    "date = ''\n",
    "tr_cu_name = ''\n",
    "item_code = ''\n",
    "item_rate = 0\n",
    "amount = 0\n",
    "c_sum = 0\n",
    "s_amount = 0\n",
    "c = ''\n",
    "prn2 = 0\n",
    "c_name = ''\n",
    "\n",
    "print(\"{:<10}   {:<8}    {:>5}\".format('Date','Cu_name','Amount'))\n",
    "print()\n",
    "\n",
    "    \n",
    "for i in range(len(tr)):\n",
    "    for j in range(1,len(tr[i])):\n",
    "        item = tr[i][j][0]\n",
    "        quantity = tr[i][j][1]\n",
    "        tr_cu_id = tr[i][0][0]\n",
    "        bill = tr[i][0][1]\n",
    "        date = tr[i][0][2]\n",
    "\n",
    "\n",
    "        for k in range(len(cu)):\n",
    "            if tr_cu_id == cu[k][0]:\n",
    "                tr_cu_name = cu[k][1]\n",
    "        for l in range(len(item_detail)):\n",
    "            if item == item_detail[l][1]:\n",
    "                item_code = item_detail[l][0]\n",
    "                item_rate = item_detail[l][2]\n",
    "        amount = item_rate * quantity\n",
    "        \n",
    "        if date == '27/02/2021':\n",
    "            c_date = date\n",
    "            if tr_cu_id == '1210':\n",
    "                c_name = tr_cu_id\n",
    "                c_sum = c_sum + amount\n",
    "print(c_date,c_name,c_sum)\n",
    "print(c_sum)\n",
    "print(c)"
   ]
  },
  {
   "cell_type": "code",
   "execution_count": null,
   "metadata": {},
   "outputs": [],
   "source": [
    "# desired output\n",
    "\n",
    "# 27/02/2021    rajesh  360\n",
    "# 27/02/2021    rakesh  820\n",
    "# 27/02/2021    sahil   1570"
   ]
  },
  {
   "cell_type": "code",
   "execution_count": 14,
   "metadata": {},
   "outputs": [
    {
     "output_type": "stream",
     "name": "stdout",
     "text": [
      "Cu_Name    Cu_ID    Date        Bill       Item       Item_code   Item_rate    Quantity     Amount   a_sum\n\nSahil      1212    27/02/2021  120003     pears        1003          30            2           60       60\nSahil      1212    27/02/2021  120003     apple        1001          60            3          180      240\nSahil      1212    27/02/2021  120003     orange       1002          40            4          160      400\nSahil      1212    27/02/2021  120003     cherry       1012          90            5          450      850\nSahil      1212    27/02/2021  120003     mango        1004          50            6          300     1150\nSahil      1212    27/02/2021  120003     apple        1001          60            7          420     1570\n\nTotal ::                                                                                     1570\n\n"
     ]
    }
   ],
   "source": [
    "main.cust_wise_detail('1212')"
   ]
  }
 ]
}