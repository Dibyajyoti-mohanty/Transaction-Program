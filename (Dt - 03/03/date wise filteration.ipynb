{
 "metadata": {
  "language_info": {
   "codemirror_mode": {
    "name": "ipython",
    "version": 3
   },
   "file_extension": ".py",
   "mimetype": "text/x-python",
   "name": "python",
   "nbconvert_exporter": "python",
   "pygments_lexer": "ipython3",
   "version": "3.9.2-final"
  },
  "orig_nbformat": 2,
  "kernelspec": {
   "name": "python3",
   "display_name": "Python 3.9.2 64-bit",
   "metadata": {
    "interpreter": {
     "hash": "f9f85f796d01129d0dd105a088854619f454435301f6ffec2fea96ecbd9be4ac"
    }
   }
  }
 },
 "nbformat": 4,
 "nbformat_minor": 2,
 "cells": [
  {
   "cell_type": "code",
   "execution_count": 7,
   "metadata": {},
   "outputs": [],
   "source": [
    "import Main_Project00 as main"
   ]
  },
  {
   "cell_type": "code",
   "execution_count": 12,
   "metadata": {},
   "outputs": [],
   "source": [
    "tr = [(('1210','120001','27/02/2021'),('apple',3),('grapes',4)),\n",
    "      (('1211','120002','27/02/2021'),('pears',6),('mango',8),('orange',6)),\n",
    "      (('1212','120003','27/02/2021'),('pears',2),('apple',3),('orange',4),('cherry',5),('mango',6),('apple',7)),\n",
    "      (('1213','120004','28/02/2021'),('orange',9),('pears',8),('pineapple',5)),\n",
    "      (('1214','120005','28/02/2021'),('grapes',3),('apple',7)),\n",
    "      (('1215','120006','02/03/2021'),('mango',12),('orange',13),('guava',8),('Strawberry',10),('cherry',7)),\n",
    "      (('1211','120007','03/03/2021'),('dates',15),('banana',10),('orange',10)),\n",
    "      (('1214','120008','04/03/2021'),('dates',13),('banana',10),('Blackberry',2)),\n",
    "      (('1215','120009','05/03/2021'),('dates',12),('apple',10),('mango',10),('cherry',8)),\n",
    "      (('1216','120010','05/03/2021'),('apple',6),('dates',8),('jelly',5),('jackfruit',50)),\n",
    "     (('1217','120011','05/03/2021'),('mango',6),('apple',8)),\n",
    "     (('1218','120012','06/03/2021'),('Blackberry',8),('Strawberry',6),('jackfruit',60),('mango',15),('apple',10),('WaterMelon',95))]\n",
    "\n",
    "\n",
    "\n",
    "cu = [('1210','Rajesh'),('1211','Rakesh'),('1212','Sahil'),\n",
    "      ('1213','Jack'),('1214','Steve'),('1215','Rohan',),\n",
    "      ('1216','Millan',),('1217','mikul'),('1218','smile')]\n",
    "\n",
    "\n",
    "item_detail = [('1001','apple',60),('1002','orange',40),('1003','pears',30),\n",
    "               ('1004','mango',50),('1005','grapes',45),('1006','guava',40),\n",
    "             ('1007','pineapple',60),('1008','dates',100),('1009','banana',10),\n",
    "               ('1010','Strawberry',150),('1011','Blackberry',110),\n",
    "             ('1012','cherry',90),('1013','jelly',20),('1014','jackfruit',40),('1015','WaterMelon',58)]\n",
    "\n",
    "\n",
    "\n",
    "\n",
    "\n",
    "tr_cu_un = []\n",
    "\n",
    "tr_item_un = []\n",
    "\n",
    "tr_un_bill = []\n",
    "\n",
    "tr_un_date = []\n",
    "\n",
    "def cu_name_id(c_id):\n",
    "    c_id = c_id\n",
    "    for i in range(len(cu)):\n",
    "        cu_id = cu[i][0]\n",
    "        cu_name = cu[i][1]\n",
    "        if cu_id == c_id:\n",
    "            return cu_name\n",
    "        elif cu_name == c_id:\n",
    "            return cu_id \n",
    "\n",
    "def item_name_code(i_code):\n",
    "    i_code = i_code\n",
    "    for i in range(len(item_detail)):\n",
    "        tr_i_code = item_detail[i][0]\n",
    "        tr_i_name = item_detail[i][1]\n",
    "        if tr_i_code == i_code:\n",
    "            return tr_i_name\n",
    "        elif tr_i_name == i_code:\n",
    "            return tr_i_code\n",
    "\n",
    "\n",
    "for i in range(len(tr)):\n",
    "    for j in range(1,len(tr[i])):\n",
    "        cu_un_id = tr[i][0][0]\n",
    "        item_un_name = tr[i][j][0]\n",
    "        tr_bill = tr[i][0][1]\n",
    "        tr_date = tr[i][0][2]\n",
    "\n",
    "        if cu_un_id not in tr_cu_un:\n",
    "            tr_cu_un.append(cu_un_id)\n",
    "            \n",
    "\n",
    "        if item_un_name not in tr_item_un:\n",
    "            tr_item_un.append(item_un_name)\n",
    "\n",
    "\n",
    "        if tr_date not in tr_un_date:\n",
    "            tr_un_date.append(tr_date)\n",
    "        \n",
    "    tr_un_bill.append(tr_bill)\n",
    "\n",
    "def main_tr_db():\n",
    "\n",
    "    item = ''\n",
    "    quantity = 0\n",
    "    tr_cu_id = ''\n",
    "    bill = ''\n",
    "    date = ''\n",
    "    tr_cu_name = ''\n",
    "    item_code = ''\n",
    "    item_rate = 0\n",
    "    amount = 0\n",
    "    a_sum = 0\n",
    "    x = 0\n",
    "\n",
    "    print(\"{}     {}     {}  {:<8}  {:<10} {:>3} {:>3} {:>4} {:>5} \".format('bill','date','tr_cu_id','tr_cu_name','item','item_rate','quantity','amount','a_sum'))\n",
    "    print()\n",
    "\n",
    "    for i in range(len(tr)):\n",
    "        for j in range(1,len(tr[i])):\n",
    "            item = tr[i][j][0]\n",
    "            quantity = tr[i][j][1]\n",
    "            tr_cu_id = tr[i][0][0]\n",
    "            bill = tr[i][0][1]\n",
    "            date = tr[i][0][2]\n",
    "\n",
    "\n",
    "            for k in range(len(cu)):\n",
    "                if tr_cu_id == cu[k][0]:\n",
    "                    tr_cu_name = cu[k][1]\n",
    "            for l in range(len(item_detail)):\n",
    "                if item == item_detail[l][1]:\n",
    "                    item_code = item_detail[l][0]\n",
    "                    item_rate = item_detail[l][2]\n",
    "            amount = item_rate * quantity\n",
    "            a_sum = a_sum + amount\n",
    "            x = x+1\n",
    "\n",
    "\n",
    "\n",
    "\n",
    "            \n",
    "            print(\"{} {}  {}       {:<8}  {:<10} {:>3}        {:>3}     {:>4}   {:>5} \".format(bill,date,tr_cu_id,tr_cu_name,item,item_rate,quantity,amount,a_sum))\n",
    "    print()\n",
    "    print(\"Total ::                                                             {:>5}\".format(a_sum))\n",
    "\n",
    "#******************************************************************************************************************************************************\n"
   ]
  },
  {
   "cell_type": "code",
   "execution_count": 2,
   "metadata": {},
   "outputs": [
    {
     "output_type": "stream",
     "name": "stdout",
     "text": [
      "bill     date     tr_cu_id  tr_cu_name  item       item_rate quantity amount a_sum \n\n120001 27/02/2021  1210       Rajesh    apple       60          3      180     180 \n120001 27/02/2021  1210       Rajesh    grapes      45          4      180     360 \n120002 27/02/2021  1211       Rakesh    pears       30          6      180     540 \n120002 27/02/2021  1211       Rakesh    mango       50          8      400     940 \n120002 27/02/2021  1211       Rakesh    orange      40          6      240    1180 \n120003 27/02/2021  1212       Sahil     pears       30          2       60    1240 \n120003 27/02/2021  1212       Sahil     apple       60          3      180    1420 \n120003 27/02/2021  1212       Sahil     orange      40          4      160    1580 \n120003 27/02/2021  1212       Sahil     cherry      90          5      450    2030 \n120003 27/02/2021  1212       Sahil     mango       50          6      300    2330 \n120003 27/02/2021  1212       Sahil     apple       60          7      420    2750 \n120004 28/02/2021  1213       Jack      orange      40          9      360    3110 \n120004 28/02/2021  1213       Jack      pears       30          8      240    3350 \n120004 28/02/2021  1213       Jack      pineapple   60          5      300    3650 \n120005 28/02/2021  1214       Steve     grapes      45          3      135    3785 \n120005 28/02/2021  1214       Steve     apple       60          7      420    4205 \n120006 02/03/2021  1215       Rohan     mango       50         12      600    4805 \n120006 02/03/2021  1215       Rohan     orange      40         13      520    5325 \n120006 02/03/2021  1215       Rohan     guava       40          8      320    5645 \n120006 02/03/2021  1215       Rohan     Strawberry 150         10     1500    7145 \n120006 02/03/2021  1215       Rohan     cherry      90          7      630    7775 \n120007 03/03/2021  1211       Rakesh    dates      100         15     1500    9275 \n120007 03/03/2021  1211       Rakesh    banana      10         10      100    9375 \n120007 03/03/2021  1211       Rakesh    orange      40         10      400    9775 \n120008 04/03/2021  1214       Steve     dates      100         13     1300   11075 \n120008 04/03/2021  1214       Steve     banana      10         10      100   11175 \n120008 04/03/2021  1214       Steve     Blackberry 110          2      220   11395 \n120009 05/03/2021  1215       Rohan     dates      100         12     1200   12595 \n120009 05/03/2021  1215       Rohan     apple       60         10      600   13195 \n120009 05/03/2021  1215       Rohan     mango       50         10      500   13695 \n120009 05/03/2021  1215       Rohan     cherry      90          8      720   14415 \n120010 05/03/2021  1216       Millan    apple       60          6      360   14775 \n120010 05/03/2021  1216       Millan    dates      100          8      800   15575 \n120010 05/03/2021  1216       Millan    jelly       20          5      100   15675 \n120010 05/03/2021  1216       Millan    jackfruit   40         50     2000   17675 \n120011 05/03/2021  1217       mikul     mango       50          6      300   17975 \n120011 05/03/2021  1217       mikul     apple       60          8      480   18455 \n120012 06/03/2021  1218       smile     Blackberry 110          8      880   19335 \n120012 06/03/2021  1218       smile     Strawberry 150          6      900   20235 \n120012 06/03/2021  1218       smile     jackfruit   40         60     2400   22635 \n120012 06/03/2021  1218       smile     mango       50         15      750   23385 \n120012 06/03/2021  1218       smile     apple       60         10      600   23985 \n120012 06/03/2021  1218       smile     WaterMelon  58         95     5510   29495 \n\nTotal ::                                                             29495\n"
     ]
    }
   ],
   "source": [
    "main_tr_db()"
   ]
  },
  {
   "cell_type": "code",
   "execution_count": 3,
   "metadata": {},
   "outputs": [],
   "source": [
    "\n",
    "\n",
    "def item_date(i_name,c_date):\n",
    "    i_name = i_name\n",
    "    c_date = c_date\n",
    "\n",
    "    item = ''\n",
    "    quantity = 0\n",
    "    tr_cu_id = ''\n",
    "    bill = ''\n",
    "    date = ''\n",
    "    tr_cu_name = ''\n",
    "    item_code = ''\n",
    "    item_rate = 0\n",
    "    amount = 0\n",
    "    c_sum = 0\n",
    "    s_amount = 0\n",
    "    x = 0\n",
    "    prn2 = 0\n",
    "    \n",
    "\n",
    "    for i in range(len(tr)):\n",
    "        for j in range(1,len(tr[i])):\n",
    "            item = tr[i][j][0]\n",
    "            quantity = tr[i][j][1]\n",
    "            tr_cu_id = tr[i][0][0]\n",
    "            bill = tr[i][0][1]\n",
    "            date = tr[i][0][2]\n",
    "\n",
    "\n",
    "            for k in range(len(cu)):\n",
    "                if tr_cu_id == cu[k][0]:\n",
    "                    tr_cu_name = cu[k][1]\n",
    "            for l in range(len(item_detail)):\n",
    "                if item == item_detail[l][1]:\n",
    "                    item_code = item_detail[l][0]\n",
    "                    item_rate = item_detail[l][2]\n",
    "            amount = item_rate * quantity\n",
    "\n",
    "            if item == i_name:\n",
    "                if date == c_date:\n",
    "                    s_amount = s_amount + amount   \n",
    "                    prn2 = s_amount\n",
    "    return prn2\n",
    "                \n",
    "   \n",
    "\n",
    "\n",
    "\n"
   ]
  },
  {
   "cell_type": "code",
   "execution_count": 10,
   "metadata": {},
   "outputs": [
    {
     "output_type": "execute_result",
     "data": {
      "text/plain": [
       "780"
      ]
     },
     "metadata": {},
     "execution_count": 10
    }
   ],
   "source": [
    "item_date('apple','27/02/2021')"
   ]
  },
  {
   "cell_type": "code",
   "execution_count": 20,
   "metadata": {},
   "outputs": [],
   "source": [
    "\n",
    "\n",
    "def item_cust(i_name,c_name):\n",
    "    i_name = i_name\n",
    "    c_name = c_name\n",
    "\n",
    "    item = ''\n",
    "    quantity = 0\n",
    "    tr_cu_id = ''\n",
    "    bill = ''\n",
    "    date = ''\n",
    "    tr_cu_name = ''\n",
    "    item_code = ''\n",
    "    item_rate = 0\n",
    "    amount = 0\n",
    "    c_sum = 0\n",
    "    s_amount = 0\n",
    "    x = 0\n",
    "    prn2 = 0\n",
    "    \n",
    "\n",
    "    for i in range(len(tr)):\n",
    "        for j in range(1,len(tr[i])):\n",
    "            item = tr[i][j][0]\n",
    "            quantity = tr[i][j][1]\n",
    "            tr_cu_id = tr[i][0][0]\n",
    "            bill = tr[i][0][1]\n",
    "            date = tr[i][0][2]\n",
    "\n",
    "\n",
    "            for k in range(len(cu)):\n",
    "                if tr_cu_id == cu[k][0]:\n",
    "                    tr_cu_name = cu[k][1]\n",
    "            for l in range(len(item_detail)):\n",
    "                if item == item_detail[l][1]:\n",
    "                    item_code = item_detail[l][0]\n",
    "                    item_rate = item_detail[l][2]\n",
    "            amount = item_rate * quantity\n",
    "\n",
    "            if item == i_name:\n",
    "                if tr_cu_name == c_name:\n",
    "                    s_amount = s_amount + amount   \n",
    "                    prn2 = s_amount\n",
    "    return prn2\n",
    "            "
   ]
  },
  {
   "cell_type": "code",
   "execution_count": 22,
   "metadata": {},
   "outputs": [
    {
     "output_type": "execute_result",
     "data": {
      "text/plain": [
       "600"
      ]
     },
     "metadata": {},
     "execution_count": 22
    }
   ],
   "source": [
    "item_cust('apple','Sahil')"
   ]
  },
  {
   "cell_type": "code",
   "execution_count": 4,
   "metadata": {},
   "outputs": [],
   "source": [
    "def col_sum(c_date):\n",
    "    s = 0\n",
    "    c_date = c_date\n",
    "    for i in range(len(tr_item_un)):\n",
    "        k = tr_item_un[i]\n",
    "        a = item_date(k,c_date)\n",
    "        s = s + a\n",
    "    return s"
   ]
  },
  {
   "cell_type": "code",
   "execution_count": 5,
   "metadata": {},
   "outputs": [
    {
     "output_type": "stream",
     "name": "stdout",
     "text": [
      "Item_Name    27/02/2021    28/02/2021    02/03/2021    03/03/2021    04/03/2021    05/03/2021    06/03/2021   s_sum   C_sum \n\napple            780           420             0             0             0          1440           600       3240    3240\ngrapes           180           135             0             0             0             0             0        315    3555\npears            240           240             0             0             0             0             0        480    4035\nmango            700             0           600             0             0           800           750       2850    6885\norange           400           360           520           400             0             0             0       1680    8565\ncherry           450             0           630             0             0           720             0       1800   10365\npineapple          0           300             0             0             0             0             0        300   10665\nguava              0             0           320             0             0             0             0        320   10985\nStrawberry         0             0          1500             0             0             0           900       2400   13385\ndates              0             0             0          1500          1300          2000             0       4800   18185\nbanana             0             0             0           100           100             0             0        200   18385\nBlackberry         0             0             0             0           220             0           880       1100   19485\njelly              0             0             0             0             0           100             0        100   19585\njackfruit          0             0             0             0             0          2000          2400       4400   23985\nWaterMelon         0             0             0             0             0             0          5510       5510   29495\n\nCol_Total        2750          4205          7775          9775         11395         18455         29495     "
     ]
    }
   ],
   "source": [
    "\n",
    "\n",
    "print(\"{:<10}\".format('Item_Name '),end = '  ') #THSIS PRINT PRINTS THE ITEM NAME HEADING.\n",
    "\n",
    "for i in range(len(tr_un_date)):          #This loop prints only headings of customers.\n",
    "    i_date = tr_un_date[i]\n",
    "    print(\" {:<8}\".format(i_date),end = '   ')\n",
    "print(\"{:>5}   {:>5}\".format('s_sum','C_sum'),end = ' ')\n",
    "print()\n",
    "print()\n",
    "\n",
    "\n",
    "#THIS IS THE MAIN PROGRAM OR MAIN ENGINE.\n",
    "c_sum = 0\n",
    "for j in range(len(tr_item_un)):\n",
    "    m = tr_item_un[j]\n",
    "    sum1 = 0\n",
    "    print(\"{:<10}\".format(m),end = '  ')\n",
    "    for i in range(len(tr_un_date)):\n",
    "        a = tr_un_date[i]\n",
    "        u = item_date(m,a)\n",
    "        sum1 = sum1 + u\n",
    "        c_sum =  c_sum + u\n",
    "        print(\"   {:>5}\".format(u),end = '      ')\n",
    "    print(\"{:>5}  {:>6}\".format(sum1,c_sum))\n",
    "    \n",
    "print()\n",
    "print(\"{:<10}\".format('Col_Total '),end = '  ')     #THIS (PRINT) PRINTS THE COL_TOTAL AT THE END OF THE COLUMN\n",
    "\n",
    "sum_g = 0\n",
    "s = 0\n",
    "for j in range(len(tr_un_date)):\n",
    "    c_date  = tr_un_date[j]\n",
    "    for i in range(len(tr_item_un)):\n",
    "        k = tr_item_un[i]\n",
    "        a = item_date(k,c_date)\n",
    "        s = s + a\n",
    "    sum_g = sum_g + s\n",
    "    print(\" {:>8} \".format(s),end = '    ')\n",
    "#print(sum_g)"
   ]
  },
  {
   "cell_type": "code",
   "execution_count": 2,
   "metadata": {},
   "outputs": [],
   "source": []
  },
  {
   "cell_type": "code",
   "execution_count": 3,
   "metadata": {},
   "outputs": [
    {
     "output_type": "stream",
     "name": "stdout",
     "text": [
      "Item_Name   Rajesh   Rakesh   Sahil    Jack     Steve    Rohan    Millan   mikul    smile      Sum      C_Sum\n\napple         180        0      600        0      420      600      360      480      600     3240       3240\ngrapes        180        0        0        0      135        0        0        0        0      315       3555\npears           0      180       60      240        0        0        0        0        0      480       4035\nmango           0      400      300        0        0     1100        0      300      750     2850       6885\norange          0      640      160      360        0      520        0        0        0     1680       8565\ncherry          0        0      450        0        0     1350        0        0        0     1800      10365\npineapple       0        0        0      300        0        0        0        0        0      300      10665\nguava           0        0        0        0        0      320        0        0        0      320      10985\nStrawberry      0        0        0        0        0     1500        0        0      900     2400      13385\ndates           0     1500        0        0     1300     1200      800        0        0     4800      18185\nbanana          0      100        0        0      100        0        0        0        0      200      18385\nBlackberry      0        0        0        0      220        0        0        0      880     1100      19485\njelly           0        0        0        0        0        0      100        0        0      100      19585\njackfruit       0        0        0        0        0        0     2000        0     2400     4400      23985\nWaterMelon      0        0        0        0        0        0        0        0     5700     5700      29685\n\nCol_Total     360     2820     1570      900     2175     6590     3260      780    11230    29685\n"
     ]
    }
   ],
   "source": [
    "main.item_cust_matrix()"
   ]
  },
  {
   "cell_type": "code",
   "execution_count": 12,
   "metadata": {},
   "outputs": [
    {
     "output_type": "stream",
     "name": "stdout",
     "text": [
      "bill     date     tr_cu_id  tr_cu_name  item       item_rate quantity amount a_sum \n\n120001 27/02/2021  1210       Rajesh    apple       60          3      180     180 \n120001 27/02/2021  1210       Rajesh    grapes      45          4      180     360 \n120002 27/02/2021  1211       Rakesh    pears       30          6      180     540 \n120002 27/02/2021  1211       Rakesh    mango       50          8      400     940 \n120002 27/02/2021  1211       Rakesh    orange      40          6      240    1180 \n120003 27/02/2021  1212       Sahil     pears       30          2       60    1240 \n120003 27/02/2021  1212       Sahil     apple       60          3      180    1420 \n120003 27/02/2021  1212       Sahil     orange      40          4      160    1580 \n120003 27/02/2021  1212       Sahil     cherry      90          5      450    2030 \n120003 27/02/2021  1212       Sahil     mango       50          6      300    2330 \n120003 27/02/2021  1212       Sahil     apple       60          7      420    2750 \n120004 28/02/2021  1213       Jack      orange      40          9      360    3110 \n120004 28/02/2021  1213       Jack      pears       30          8      240    3350 \n120004 28/02/2021  1213       Jack      pineapple   60          5      300    3650 \n120005 28/02/2021  1214       Steve     grapes      45          3      135    3785 \n120005 28/02/2021  1214       Steve     apple       60          7      420    4205 \n120006 02/03/2021  1215       Rohan     mango       50         12      600    4805 \n120006 02/03/2021  1215       Rohan     orange      40         13      520    5325 \n120006 02/03/2021  1215       Rohan     guava       40          8      320    5645 \n120006 02/03/2021  1215       Rohan     Strawberry 150         10     1500    7145 \n120006 02/03/2021  1215       Rohan     cherry      90          7      630    7775 \n120007 03/03/2021  1211       Rakesh    dates      100         15     1500    9275 \n120007 03/03/2021  1211       Rakesh    banana      10         10      100    9375 \n120007 03/03/2021  1211       Rakesh    orange      40         10      400    9775 \n120008 04/03/2021  1214       Steve     dates      100         13     1300   11075 \n120008 04/03/2021  1214       Steve     banana      10         10      100   11175 \n120008 04/03/2021  1214       Steve     Blackberry 110          2      220   11395 \n120009 05/03/2021  1215       Rohan     dates      100         12     1200   12595 \n120009 05/03/2021  1215       Rohan     apple       60         10      600   13195 \n120009 05/03/2021  1215       Rohan     mango       50         10      500   13695 \n120009 05/03/2021  1215       Rohan     cherry      90          8      720   14415 \n120010 05/03/2021  1216       Millan    apple       60          6      360   14775 \n120010 05/03/2021  1216       Millan    dates      100          8      800   15575 \n120010 05/03/2021  1216       Millan    jelly       20          5      100   15675 \n120010 05/03/2021  1216       Millan    jackfruit   40         50     2000   17675 \n120011 05/03/2021  1217       mikul     mango       50          6      300   17975 \n120011 05/03/2021  1217       mikul     apple       60          8      480   18455 \n120012 06/03/2021  1218       smile     Blackberry 110          8      880   19335 \n120012 06/03/2021  1218       smile     Strawberry 150          6      900   20235 \n120012 06/03/2021  1218       smile     jackfruit   40         60     2400   22635 \n120012 06/03/2021  1218       smile     mango       50         15      750   23385 \n120012 06/03/2021  1218       smile     apple       60         10      600   23985 \n120012 06/03/2021  1218       smile     WaterMelon  60         95     5700   29685 \n\nTotal ::                                                             29685\n"
     ]
    }
   ],
   "source": [
    "main.main_tr_db()"
   ]
  },
  {
   "cell_type": "code",
   "execution_count": 23,
   "metadata": {},
   "outputs": [
    {
     "output_type": "stream",
     "name": "stdout",
     "text": [
      "Date        Item       Cu_name   Amount\n\n27/02/2021  apple      Rajesh     180\n27/02/2021  grapes     Rajesh     180\n27/02/2021  pears      Rakesh     180\n27/02/2021  mango      Rakesh     400\n27/02/2021  orange     Rakesh     240\n27/02/2021  pears      Sahil       60\n27/02/2021  apple      Sahil      180\n27/02/2021  orange     Sahil      160\n27/02/2021  cherry     Sahil      450\n27/02/2021  mango      Sahil      300\n27/02/2021  apple      Sahil      420\n\nTotal::                         2750\n"
     ]
    }
   ],
   "source": [
    "\n",
    "item = ''\n",
    "quantity = 0\n",
    "tr_cu_id = ''\n",
    "bill = ''\n",
    "date = ''\n",
    "tr_cu_name = ''\n",
    "item_code = ''\n",
    "item_rate = 0\n",
    "amount = 0\n",
    "c_sum = 0\n",
    "s_amount = 0\n",
    "x = 0\n",
    "prn2 = 0\n",
    "print(\"{:<10}  {:<10} {:<8}  {:>5}\".format('Date','Item','Cu_name','Amount'))\n",
    "print()\n",
    "for i in range(len(tr)):\n",
    "    for j in range(1,len(tr[i])):\n",
    "        item = tr[i][j][0]\n",
    "        quantity = tr[i][j][1]\n",
    "        tr_cu_id = tr[i][0][0]\n",
    "        bill = tr[i][0][1]\n",
    "        date = tr[i][0][2]\n",
    "\n",
    "\n",
    "        for k in range(len(cu)):\n",
    "            if tr_cu_id == cu[k][0]:\n",
    "                tr_cu_name = cu[k][1]\n",
    "        for l in range(len(item_detail)):\n",
    "            if item == item_detail[l][1]:\n",
    "                item_code = item_detail[l][0]\n",
    "                item_rate = item_detail[l][2]\n",
    "        amount = item_rate * quantity\n",
    "        \n",
    "\n",
    "        if date == '27/02/2021':\n",
    "            c_sum = c_sum + amount\n",
    "            print(\"{:<10}  {:<10} {:<8} {:>5}\".format(date,item,cu_name_id(tr_cu_id),amount))\n",
    "print()\n",
    "print(\"Total::                     {:>8}\".format(c_sum))\n",
    "\n"
   ]
  },
  {
   "cell_type": "code",
   "execution_count": 99,
   "metadata": {},
   "outputs": [],
   "source": [
    "def date_wise_summarized(c_date):\n",
    "    c_date = c_date\n",
    "\n",
    "    item = ''\n",
    "    quantity = 0\n",
    "    tr_cu_id = ''\n",
    "    bill = ''\n",
    "    date = ''\n",
    "    tr_cu_name = ''\n",
    "    item_code = ''\n",
    "    item_rate = 0\n",
    "    amount = 0\n",
    "    c_sum = 0\n",
    "    s_amount = 0\n",
    "    x = 0\n",
    "    prn2 = 0\n",
    "    print(\"{:<10}   {:<8}    {:>5}\".format('Date','Cu_name','Amount'))\n",
    "    print()\n",
    "    for i in range(len(tr)):\n",
    "        for j in range(1,len(tr[i])):\n",
    "            item = tr[i][j][0]\n",
    "            quantity = tr[i][j][1]\n",
    "            tr_cu_id = tr[i][0][0]\n",
    "            bill = tr[i][0][1]\n",
    "            date = tr[i][0][2]\n",
    "\n",
    "\n",
    "            for k in range(len(cu)):\n",
    "                if tr_cu_id == cu[k][0]:\n",
    "                    tr_cu_name = cu[k][1]\n",
    "            for l in range(len(item_detail)):\n",
    "                if item == item_detail[l][1]:\n",
    "                    item_code = item_detail[l][0]\n",
    "                    item_rate = item_detail[l][2]\n",
    "            amount = item_rate * quantity\n",
    "            \n",
    "\n",
    "            if date == c_date:\n",
    "                c_sum = c_sum + amount\n",
    "                print(\"{:<10}    {:<8} {:>5}\".format(date,cu_name_id(tr_cu_id),amount))\n",
    "    print()\n",
    "    print(\"Total::             {:>8}\".format(c_sum))\n",
    "\n"
   ]
  },
  {
   "cell_type": "code",
   "execution_count": 100,
   "metadata": {},
   "outputs": [
    {
     "output_type": "stream",
     "name": "stdout",
     "text": [
      "Date         Cu_name     Amount\n\n28/02/2021    Jack       360\n28/02/2021    Jack       240\n28/02/2021    Jack       300\n28/02/2021    Steve      135\n28/02/2021    Steve      420\n\nTotal::                 1455\n"
     ]
    }
   ],
   "source": [
    "date_wise_summarized('28/02/2021')"
   ]
  },
  {
   "cell_type": "code",
   "execution_count": 27,
   "metadata": {},
   "outputs": [
    {
     "output_type": "stream",
     "name": "stdout",
     "text": [
      "Date          Bill    Cu_ID   Cu_Name   Item       Item_code Item_rate  Qty     Amount   a_sum\n\n27/02/2021    120001   1210   Rajesh    apple       1001       60       3        180      180\n27/02/2021    120001   1210   Rajesh    grapes      1005       45       4        180      360\n27/02/2021    120002   1211   Rakesh    pears       1003       30       6        180      540\n27/02/2021    120002   1211   Rakesh    mango       1004       50       8        400      940\n27/02/2021    120002   1211   Rakesh    orange      1002       40       6        240     1180\n27/02/2021    120003   1212   Sahil     pears       1003       30       2         60     1240\n27/02/2021    120003   1212   Sahil     apple       1001       60       3        180     1420\n27/02/2021    120003   1212   Sahil     orange      1002       40       4        160     1580\n27/02/2021    120003   1212   Sahil     cherry      1012       90       5        450     2030\n27/02/2021    120003   1212   Sahil     mango       1004       50       6        300     2330\n27/02/2021    120003   1212   Sahil     apple       1001       60       7        420     2750\n\nTotal ::                                                                        2750\n\n"
     ]
    }
   ],
   "source": [
    "main.date_wise_detail('27/02/2021')"
   ]
  },
  {
   "cell_type": "code",
   "execution_count": 92,
   "metadata": {},
   "outputs": [],
   "source": [
    "def date_wise_summarized_items(c_date,i_name):\n",
    "    c_date = c_date\n",
    "    i_name = i_name\n",
    "\n",
    "    item = ''\n",
    "    quantity = 0\n",
    "    tr_cu_id = ''\n",
    "    bill = ''\n",
    "    date = ''\n",
    "    tr_cu_name = ''\n",
    "    item_code = ''\n",
    "    item_rate = 0\n",
    "    amount = 0\n",
    "    c_sum = 0\n",
    "    s_amount = 0\n",
    "    x = 0\n",
    "    prn2 = 0\n",
    "    print(\"{:<10}  {:<10}  {:>5}\".format('Date','Item','Amount'))\n",
    "    print()\n",
    "    for i in range(len(tr)):\n",
    "        for j in range(1,len(tr[i])):\n",
    "            item = tr[i][j][0]\n",
    "            quantity = tr[i][j][1]\n",
    "            tr_cu_id = tr[i][0][0]\n",
    "            bill = tr[i][0][1]\n",
    "            date = tr[i][0][2]\n",
    "\n",
    "\n",
    "            for k in range(len(cu)):\n",
    "                if tr_cu_id == cu[k][0]:\n",
    "                    tr_cu_name = cu[k][1]\n",
    "            for l in range(len(item_detail)):\n",
    "                if item == item_detail[l][1]:\n",
    "                    item_code = item_detail[l][0]\n",
    "                    item_rate = item_detail[l][2]\n",
    "            amount = item_rate * quantity\n",
    "            \n",
    "\n",
    "            if date == c_date:\n",
    "                if item == i_name:\n",
    "                    c_sum = c_sum + amount\n",
    "                    print(\"{:<10}  {:<10}  {:>5}\".format(date,item,amount))\n",
    "    print()\n",
    "    print(\"Total::              {:>8}\".format(c_sum))\n",
    "\n"
   ]
  },
  {
   "cell_type": "code",
   "execution_count": 93,
   "metadata": {},
   "outputs": [
    {
     "output_type": "stream",
     "name": "stdout",
     "text": [
      "Date        Item        Amount\n\n27/02/2021  apple         180\n27/02/2021  apple         180\n27/02/2021  apple         420\n\nTotal::                   780\n"
     ]
    }
   ],
   "source": [
    "date_wise_summarized_items('27/02/2021','apple')"
   ]
  },
  {
   "cell_type": "code",
   "execution_count": 41,
   "metadata": {},
   "outputs": [
    {
     "output_type": "stream",
     "name": "stdout",
     "text": [
      "  Date          Amount    a_sum\n\n27/02/2021      2750      2750\n28/02/2021      1455      4205\n02/03/2021      3570      7775\n03/03/2021      2000      9775\n04/03/2021      1620     11395\n05/03/2021      7060     18455\n06/03/2021     11230     29685\n\nTotal ::       29685\n"
     ]
    }
   ],
   "source": [
    "main.date_wise_summary()"
   ]
  },
  {
   "cell_type": "code",
   "execution_count": 62,
   "metadata": {},
   "outputs": [],
   "source": [
    "def date_wise_items_total(c_date,i_name):\n",
    "    c_date = c_date\n",
    "    i_name = i_name\n",
    "\n",
    "    item = ''\n",
    "    quantity = 0\n",
    "    tr_cu_id = ''\n",
    "    bill = ''\n",
    "    date = ''\n",
    "    tr_cu_name = ''\n",
    "    item_code = ''\n",
    "    item_rate = 0\n",
    "    amount = 0\n",
    "    c_sum = 0\n",
    "    s_amount = 0\n",
    "    x = 0\n",
    "    prn2 = 0\n",
    "    # print(\"{:<10}  {:<10}  {:>5}\".format('Date','Item','Amount'))\n",
    "    # print()\n",
    "    for i in range(len(tr)):\n",
    "        for j in range(1,len(tr[i])):\n",
    "            item = tr[i][j][0]\n",
    "            quantity = tr[i][j][1]\n",
    "            tr_cu_id = tr[i][0][0]\n",
    "            bill = tr[i][0][1]\n",
    "            date = tr[i][0][2]\n",
    "\n",
    "\n",
    "            for k in range(len(cu)):\n",
    "                if tr_cu_id == cu[k][0]:\n",
    "                    tr_cu_name = cu[k][1]\n",
    "            for l in range(len(item_detail)):\n",
    "                if item == item_detail[l][1]:\n",
    "                    item_code = item_detail[l][0]\n",
    "                    item_rate = item_detail[l][2]\n",
    "            amount = item_rate * quantity\n",
    "            \n",
    "\n",
    "            if date == c_date:\n",
    "                if item == i_name:\n",
    "                    c_sum = c_sum + amount\n",
    "                    #print(\"{:<10}  {:<10}  {:>5}\".format(date,item,amount))\n",
    "    #print()\n",
    "                    prn2 = (\"{:<10}  {:<10} {:>5}\".format(date,item,c_sum))\n",
    "    print(prn2)\n",
    "\n"
   ]
  },
  {
   "cell_type": "code",
   "execution_count": 90,
   "metadata": {},
   "outputs": [
    {
     "output_type": "stream",
     "name": "stdout",
     "text": [
      "27/02/2021  apple        780\n"
     ]
    }
   ],
   "source": [
    "date_wise_items_total('27/02/2021','apple')"
   ]
  },
  {
   "cell_type": "code",
   "execution_count": 35,
   "metadata": {},
   "outputs": [
    {
     "output_type": "execute_result",
     "data": {
      "text/plain": [
       "600"
      ]
     },
     "metadata": {},
     "execution_count": 35
    }
   ],
   "source": [
    "main.item_cust('apple','Sahil')"
   ]
  },
  {
   "cell_type": "code",
   "execution_count": 36,
   "metadata": {},
   "outputs": [
    {
     "output_type": "stream",
     "name": "stdout",
     "text": [
      "Date          Bill    Cu_ID   Cu_Name   Item       Item_code Item_rate  Qty     Amount   a_sum\n\n27/02/2021    120001   1210   Rajesh    apple       1001       60       3        180      180\n27/02/2021    120001   1210   Rajesh    grapes      1005       45       4        180      360\n27/02/2021    120002   1211   Rakesh    pears       1003       30       6        180      540\n27/02/2021    120002   1211   Rakesh    mango       1004       50       8        400      940\n27/02/2021    120002   1211   Rakesh    orange      1002       40       6        240     1180\n27/02/2021    120003   1212   Sahil     pears       1003       30       2         60     1240\n27/02/2021    120003   1212   Sahil     apple       1001       60       3        180     1420\n27/02/2021    120003   1212   Sahil     orange      1002       40       4        160     1580\n27/02/2021    120003   1212   Sahil     cherry      1012       90       5        450     2030\n27/02/2021    120003   1212   Sahil     mango       1004       50       6        300     2330\n27/02/2021    120003   1212   Sahil     apple       1001       60       7        420     2750\n\nTotal ::                                                                        2750\n\n"
     ]
    }
   ],
   "source": [
    "main.date_wise_detail('27/02/2021')"
   ]
  },
  {
   "cell_type": "code",
   "execution_count": 87,
   "metadata": {},
   "outputs": [
    {
     "output_type": "stream",
     "name": "stdout",
     "text": [
      "Date        Cu_name     Amount\n\n27/02/2021    Rajesh     180\n27/02/2021    Rajesh     180\n27/02/2021    Rakesh     180\n27/02/2021    Rakesh     400\n27/02/2021    Rakesh     240\n27/02/2021    Sahil       60\n27/02/2021    Sahil      180\n27/02/2021    Sahil      160\n27/02/2021    Sahil      450\n27/02/2021    Sahil      300\n27/02/2021    Sahil      420\n\nTotal::                 2750\n"
     ]
    }
   ],
   "source": [
    "date_wise_summarized('27/02/2021')"
   ]
  },
  {
   "cell_type": "code",
   "execution_count": 71,
   "metadata": {},
   "outputs": [
    {
     "output_type": "stream",
     "name": "stdout",
     "text": [
      "  Date          Amount    a_sum\n\n27/02/2021      2750      2750\n28/02/2021      1455      4205\n02/03/2021      3570      7775\n03/03/2021      2000      9775\n04/03/2021      1620     11395\n05/03/2021      7060     18455\n06/03/2021     11230     29685\n\nTotal ::       29685\n"
     ]
    }
   ],
   "source": [
    "main.date_wise_summary()"
   ]
  },
  {
   "cell_type": "code",
   "execution_count": 96,
   "metadata": {},
   "outputs": [
    {
     "output_type": "stream",
     "name": "stdout",
     "text": [
      "Date        Cu_name     Amount\n\n27/02/2021    Rajesh     180\n27/02/2021    Rajesh     180\n27/02/2021    Rakesh     180\n27/02/2021    Rakesh     400\n27/02/2021    Rakesh     240\n27/02/2021    Sahil       60\n27/02/2021    Sahil      180\n27/02/2021    Sahil      160\n27/02/2021    Sahil      450\n27/02/2021    Sahil      300\n27/02/2021    Sahil      420\n\nTotal::                 2750\n"
     ]
    }
   ],
   "source": [
    "date_wise_summarized('27/02/2021')"
   ]
  },
  {
   "cell_type": "code",
   "execution_count": 94,
   "metadata": {},
   "outputs": [
    {
     "output_type": "stream",
     "name": "stdout",
     "text": [
      "Date        Item        Amount\n\n27/02/2021  apple         180\n27/02/2021  apple         180\n27/02/2021  apple         420\n\nTotal::                   780\n"
     ]
    }
   ],
   "source": [
    "date_wise_summarized_items('27/02/2021','apple')"
   ]
  },
  {
   "cell_type": "code",
   "execution_count": 95,
   "metadata": {},
   "outputs": [
    {
     "output_type": "stream",
     "name": "stdout",
     "text": [
      "27/02/2021  apple        780\n"
     ]
    }
   ],
   "source": [
    "date_wise_items_total('27/02/2021','apple')"
   ]
  },
  {
   "cell_type": "code",
   "execution_count": 101,
   "metadata": {},
   "outputs": [],
   "source": [
    "def date_wise_summarized_cust(c_date,c_name):\n",
    "    c_date = c_date\n",
    "    c_name = c_name\n",
    "\n",
    "    item = ''\n",
    "    quantity = 0\n",
    "    tr_cu_id = ''\n",
    "    bill = ''\n",
    "    date = ''\n",
    "    tr_cu_name = ''\n",
    "    item_code = ''\n",
    "    item_rate = 0\n",
    "    amount = 0\n",
    "    c_sum = 0\n",
    "    s_amount = 0\n",
    "    x = 0\n",
    "    prn2 = 0\n",
    "    print(\"{:<10}  {:<10}  {:>5}\".format('Date','Item','Amount'))\n",
    "    print()\n",
    "    for i in range(len(tr)):\n",
    "        for j in range(1,len(tr[i])):\n",
    "            item = tr[i][j][0]\n",
    "            quantity = tr[i][j][1]\n",
    "            tr_cu_id = tr[i][0][0]\n",
    "            bill = tr[i][0][1]\n",
    "            date = tr[i][0][2]\n",
    "\n",
    "\n",
    "            for k in range(len(cu)):\n",
    "                if tr_cu_id == cu[k][0]:\n",
    "                    tr_cu_name = cu[k][1]\n",
    "            for l in range(len(item_detail)):\n",
    "                if item == item_detail[l][1]:\n",
    "                    item_code = item_detail[l][0]\n",
    "                    item_rate = item_detail[l][2]\n",
    "            amount = item_rate * quantity\n",
    "            \n",
    "\n",
    "            if date == c_date:\n",
    "                if cu_name_id(tr_cu_id) == c_name:\n",
    "                    c_sum = c_sum + amount\n",
    "                    print(\"{:<10}  {:<10}  {:>5}\".format(date,c_name,amount))\n",
    "    print()\n",
    "    print(\"Total::              {:>8}\".format(c_sum))\n",
    "\n"
   ]
  },
  {
   "cell_type": "code",
   "execution_count": 102,
   "metadata": {},
   "outputs": [
    {
     "output_type": "stream",
     "name": "stdout",
     "text": [
      "Date        Item        Amount\n\n27/02/2021  Sahil          60\n27/02/2021  Sahil         180\n27/02/2021  Sahil         160\n27/02/2021  Sahil         450\n27/02/2021  Sahil         300\n27/02/2021  Sahil         420\n\nTotal::                  1570\n"
     ]
    }
   ],
   "source": [
    "date_wise_summarized_cust('27/02/2021','Sahil')"
   ]
  },
  {
   "cell_type": "code",
   "execution_count": 106,
   "metadata": {},
   "outputs": [],
   "source": [
    "def date_wise_cust_total(c_date,c_name):\n",
    "    c_date = c_date\n",
    "    c_name = c_name\n",
    "\n",
    "    item = ''\n",
    "    quantity = 0\n",
    "    tr_cu_id = ''\n",
    "    bill = ''\n",
    "    date = ''\n",
    "    tr_cu_name = ''\n",
    "    item_code = ''\n",
    "    item_rate = 0\n",
    "    amount = 0\n",
    "    c_sum = 0\n",
    "    s_amount = 0\n",
    "    x = 0\n",
    "    prn2 = 0\n",
    "    # print(\"{:<10}  {:<10}  {:>5}\".format('Date','Item','Amount'))\n",
    "    # print()\n",
    "    for i in range(len(tr)):\n",
    "        for j in range(1,len(tr[i])):\n",
    "            item = tr[i][j][0]\n",
    "            quantity = tr[i][j][1]\n",
    "            tr_cu_id = tr[i][0][0]\n",
    "            bill = tr[i][0][1]\n",
    "            date = tr[i][0][2]\n",
    "\n",
    "\n",
    "            for k in range(len(cu)):\n",
    "                if tr_cu_id == cu[k][0]:\n",
    "                    tr_cu_name = cu[k][1]\n",
    "            for l in range(len(item_detail)):\n",
    "                if item == item_detail[l][1]:\n",
    "                    item_code = item_detail[l][0]\n",
    "                    item_rate = item_detail[l][2]\n",
    "            amount = item_rate * quantity\n",
    "            \n",
    "\n",
    "            if date == c_date:\n",
    "                if cu_name_id(tr_cu_id) == c_name:\n",
    "                    c_sum = c_sum + amount\n",
    "                    #print(\"{:<10}  {:<10}  {:>5}\".format(date,item,amount))\n",
    "    #print()\n",
    "                    prn2 = (\"{:<10}   {:<10} {:>5}\".format(date,c_name,c_sum))\n",
    "    print(prn2)\n",
    "\n"
   ]
  },
  {
   "cell_type": "code",
   "execution_count": 107,
   "metadata": {},
   "outputs": [
    {
     "output_type": "stream",
     "name": "stdout",
     "text": [
      "27/02/2021   Sahil       1570\n"
     ]
    }
   ],
   "source": [
    "date_wise_cust_total('27/02/2021','Sahil')"
   ]
  },
  {
   "cell_type": "code",
   "execution_count": 108,
   "metadata": {},
   "outputs": [
    {
     "output_type": "stream",
     "name": "stdout",
     "text": [
      "27/02/2021  apple        780\n"
     ]
    }
   ],
   "source": [
    "date_wise_items_total('27/02/2021','apple')"
   ]
  },
  {
   "cell_type": "code",
   "execution_count": 109,
   "metadata": {},
   "outputs": [
    {
     "output_type": "stream",
     "name": "stdout",
     "text": [
      "Date         Cu_name     Amount\n\n27/02/2021    Rajesh     180\n27/02/2021    Rajesh     180\n27/02/2021    Rakesh     180\n27/02/2021    Rakesh     400\n27/02/2021    Rakesh     240\n27/02/2021    Sahil       60\n27/02/2021    Sahil      180\n27/02/2021    Sahil      160\n27/02/2021    Sahil      450\n27/02/2021    Sahil      300\n27/02/2021    Sahil      420\n\nTotal::                 2750\n"
     ]
    }
   ],
   "source": [
    "date_wise_summarized('27/02/2021')"
   ]
  },
  {
   "cell_type": "code",
   "execution_count": 110,
   "metadata": {},
   "outputs": [
    {
     "output_type": "stream",
     "name": "stdout",
     "text": [
      "Date        Item        Amount\n\n27/02/2021  apple         180\n27/02/2021  apple         180\n27/02/2021  apple         420\n\nTotal::                   780\n"
     ]
    }
   ],
   "source": [
    "date_wise_summarized_items('27/02/2021','apple')"
   ]
  },
  {
   "cell_type": "code",
   "execution_count": 111,
   "metadata": {},
   "outputs": [
    {
     "output_type": "stream",
     "name": "stdout",
     "text": [
      "Cu_Name      Cu_ID   Amount_Sum    C_Sum\n\nRajesh       1210       360         360\nRakesh       1211      2820        3180\nSahil        1212      1570        4750\nJack         1213       900        5650\nSteve        1214      2175        7825\nRohan        1215      6590       14415\nMillan       1216      3260       17675\nmikul        1217       780       18455\nsmile        1218     11230       29685\n\nTotal ::                          29685\n"
     ]
    }
   ],
   "source": [
    "main.cust_wise_summary()"
   ]
  },
  {
   "cell_type": "code",
   "execution_count": 112,
   "metadata": {},
   "outputs": [
    {
     "output_type": "stream",
     "name": "stdout",
     "text": [
      "  Date          Amount    a_sum\n\n27/02/2021      2750      2750\n28/02/2021      1455      4205\n02/03/2021      3570      7775\n03/03/2021      2000      9775\n04/03/2021      1620     11395\n05/03/2021      7060     18455\n06/03/2021     11230     29685\n\nTotal ::       29685\n"
     ]
    }
   ],
   "source": [
    "main.date_wise_summary()"
   ]
  },
  {
   "cell_type": "code",
   "execution_count": 113,
   "metadata": {},
   "outputs": [
    {
     "output_type": "stream",
     "name": "stdout",
     "text": [
      "  Item_name    Item_Code   Item_Rate   Quantity   T_Amount   C_Sum\n\n  apple          1001         60         54         3240      3240\n  grapes         1005         45          7          315      3555\n  pears          1003         30         16          480      4035\n  mango          1004         50         57         2850      6885\n  orange         1002         40         42         1680      8565\n  cherry         1012         90         20         1800     10365\n  pineapple      1007         60          5          300     10665\n  guava          1006         40          8          320     10985\n  Strawberry     1010        150         16         2400     13385\n  dates          1008        100         48         4800     18185\n  banana         1009         10         20          200     18385\n  Blackberry     1011        110         10         1100     19485\n  jelly          1013         20          5          100     19585\n  jackfruit      1014         40        110         4400     23985\n  WaterMelon     1001         60         95         5700     29685\n\nTotal ::                                           29685\n\n"
     ]
    }
   ],
   "source": [
    "main.item_wise_summary()"
   ]
  },
  {
   "cell_type": "code",
   "execution_count": 114,
   "metadata": {},
   "outputs": [
    {
     "output_type": "stream",
     "name": "stdout",
     "text": [
      " Bill       Date     Cu_ID   Cu_Name   Amount_Sum  C_Sum\n\n120001   27/02/2021  1210    Rajesh       360       360\n120002   27/02/2021  1211    Rakesh       820      1180\n120003   27/02/2021  1212    Sahil       1570      2750\n120004   28/02/2021  1213    Jack         900      3650\n120005   28/02/2021  1214    Steve        555      4205\n120006   02/03/2021  1215    Rohan       3570      7775\n120007   03/03/2021  1211    Rakesh      2000      9775\n120008   04/03/2021  1214    Steve       1620     11395\n120009   05/03/2021  1215    Rohan       3020     14415\n120010   05/03/2021  1216    Millan      3260     17675\n120011   05/03/2021  1217    mikul        780     18455\n120012   06/03/2021  1218    smile      11230     29685\n\nTotal ::                                29685\n"
     ]
    }
   ],
   "source": [
    "main.bill_wise_summary()"
   ]
  },
  {
   "cell_type": "code",
   "execution_count": 144,
   "metadata": {},
   "outputs": [],
   "source": [
    "def date_wise_cust_summarized(c_date):\n",
    "    c_date = c_date\n",
    "\n",
    "    item = ''\n",
    "    quantity = 0\n",
    "    tr_cu_id = ''\n",
    "    bill = ''\n",
    "    date = ''\n",
    "    tr_cu_name = ''\n",
    "    item_code = ''\n",
    "    item_rate = 0\n",
    "    amount = 0\n",
    "    c_sum = 0\n",
    "    s_amount = 0\n",
    "    x = 0\n",
    "    prn2 = 0\n",
    "    \n",
    "    print(\"{:<10}   {:<8}    {:>5}\".format('Date','Cu_name','Amount'))\n",
    "    print()\n",
    "    \n",
    "    for i in range(len(tr)):\n",
    "        for j in range(1,len(tr[i])):\n",
    "            item = tr[i][j][0]\n",
    "            quantity = tr[i][j][1]\n",
    "            tr_cu_id = tr[i][0][0]\n",
    "            bill = tr[i][0][1]\n",
    "            date = tr[i][0][2]\n",
    "\n",
    "\n",
    "            for k in range(len(cu)):\n",
    "                if tr_cu_id == cu[k][0]:\n",
    "                    tr_cu_name = cu[k][1]\n",
    "            for l in range(len(item_detail)):\n",
    "                if item == item_detail[l][1]:\n",
    "                    item_code = item_detail[l][0]\n",
    "                    item_rate = item_detail[l][2]\n",
    "            amount = item_rate * quantity\n",
    "            \n",
    "\n",
    "            if date == c_date:\n",
    "                c_sum = c_sum + amount\n",
    "                print(\"{:<10}    {:<8} {:>5}\".format(date,cu_name_id(tr_cu_id),amount))\n",
    "    print()\n",
    "    print(\"                   {:>8}\".format(c_sum))\n",
    "    \n",
    "\n"
   ]
  },
  {
   "cell_type": "code",
   "execution_count": 145,
   "metadata": {},
   "outputs": [
    {
     "output_type": "stream",
     "name": "stdout",
     "text": [
      "Date         Cu_name     Amount\n\n27/02/2021    Rajesh     180\n27/02/2021    Rajesh     180\n27/02/2021    Rakesh     180\n27/02/2021    Rakesh     400\n27/02/2021    Rakesh     240\n27/02/2021    Sahil       60\n27/02/2021    Sahil      180\n27/02/2021    Sahil      160\n27/02/2021    Sahil      450\n27/02/2021    Sahil      300\n27/02/2021    Sahil      420\n\n                       2750\n"
     ]
    }
   ],
   "source": [
    "date_wise_cust_summarized('27/02/2021')"
   ]
  },
  {
   "cell_type": "code",
   "execution_count": 166,
   "metadata": {},
   "outputs": [],
   "source": [
    "def date_wise_cust_summarized(c_date):\n",
    "    c_date = c_date\n",
    "\n",
    "    item = ''\n",
    "    quantity = 0\n",
    "    tr_cu_id = ''\n",
    "    bill = ''\n",
    "    date = ''\n",
    "    tr_cu_name = ''\n",
    "    item_code = ''\n",
    "    item_rate = 0\n",
    "    amount = 0\n",
    "    c_sum = 0\n",
    "    s_amount = 0\n",
    "    c = ''\n",
    "    prn2 = 0\n",
    "    c_name = ''\n",
    "    \n",
    "    print(\"{:<10}   {:<8}    {:>5}\".format('Date','Cu_name','Amount'))\n",
    "    print()\n",
    "    \n",
    "    for i in range(len(tr)):\n",
    "        for j in range(1,len(tr[i])):\n",
    "            item = tr[i][j][0]\n",
    "            quantity = tr[i][j][1]\n",
    "            tr_cu_id = tr[i][0][0]\n",
    "            bill = tr[i][0][1]\n",
    "            date = tr[i][0][2]\n",
    "\n",
    "\n",
    "            for k in range(len(cu)):\n",
    "                if tr_cu_id == cu[k][0]:\n",
    "                    tr_cu_name = cu[k][1]\n",
    "            for l in range(len(item_detail)):\n",
    "                if item == item_detail[l][1]:\n",
    "                    item_code = item_detail[l][0]\n",
    "                    item_rate = item_detail[l][2]\n",
    "            amount = item_rate * quantity\n",
    "            \n",
    "\n",
    "            if date == c_date:\n",
    "                c = c_date\n",
    "                c_name = cu_name_id(tr_cu_id)\n",
    "                c_sum = c_sum + amount\n",
    "        print(\"{:<10}    {:<8} {:>5}\".format(c,c_name,c_sum))\n",
    "    print()\n",
    "    print(\"                   {:>8}\".format(c_sum))\n",
    "    \n",
    "\n"
   ]
  },
  {
   "cell_type": "code",
   "execution_count": 163,
   "metadata": {},
   "outputs": [
    {
     "output_type": "stream",
     "name": "stdout",
     "text": [
      "Date         Cu_name     Amount\n\n27/02/2021    Rajesh     360\n27/02/2021    Rakesh    1180\n27/02/2021    Sahil     2750\n27/02/2021    Sahil     2750\n27/02/2021    Sahil     2750\n27/02/2021    Sahil     2750\n27/02/2021    Sahil     2750\n27/02/2021    Sahil     2750\n27/02/2021    Sahil     2750\n27/02/2021    Sahil     2750\n27/02/2021    Sahil     2750\n27/02/2021    Sahil     2750\n\n                       2750\n"
     ]
    }
   ],
   "source": [
    "date_wise_cust_summarized('27/02/2021')"
   ]
  },
  {
   "cell_type": "code",
   "execution_count": 199,
   "metadata": {},
   "outputs": [],
   "source": [
    "def date_wise_cust_summarized(c_date):\n",
    "    c_date = c_date\n",
    "\n",
    "    item = ''\n",
    "    quantity = 0\n",
    "    tr_cu_id = ''\n",
    "    bill = ''\n",
    "    date = ''\n",
    "    tr_cu_name = ''\n",
    "    item_code = ''\n",
    "    item_rate = 0\n",
    "    amount = 0\n",
    "    c_sum = 0\n",
    "    s_amount = 0\n",
    "    c = ''\n",
    "    prn2 = 0\n",
    "    c_name = ''\n",
    "    \n",
    "    print(\"{:<10}   {:<8}    {:>5}\".format('Date','Cu_name','Amount'))\n",
    "    print()\n",
    "\n",
    "    for i in range(len(tr)):\n",
    "        for j in range(1,len(tr[i])):\n",
    "            item = tr[i][j][0]\n",
    "            quantity = tr[i][j][1]\n",
    "            tr_cu_id = tr[i][0][0]\n",
    "            bill = tr[i][0][1]\n",
    "            date = tr[i][0][2]\n",
    "\n",
    "\n",
    "            for k in range(len(cu)):\n",
    "                if tr_cu_id == cu[k][0]:\n",
    "                    tr_cu_name = cu[k][1]\n",
    "            for l in range(len(item_detail)):\n",
    "                if item == item_detail[l][1]:\n",
    "                    item_code = item_detail[l][0]\n",
    "                    item_rate = item_detail[l][2]\n",
    "            amount = item_rate * quantity\n",
    "            \n",
    "\n",
    "            if date == c_date:\n",
    "                c_name = cu_name_id(tr_cu_id)\n",
    "                c_sum = c_sum + amount\n",
    "                print(\"{:<10}    {:<8} {:>5}\".format(date,c_name,amount))\n",
    "    print()\n",
    "    print(\"                   {:>8}\".format(c_sum))\n",
    "    \n",
    "\n"
   ]
  },
  {
   "cell_type": "code",
   "execution_count": 188,
   "metadata": {},
   "outputs": [
    {
     "output_type": "stream",
     "name": "stdout",
     "text": [
      "Date         Cu_name     Amount\n\n27/02/2021    Rajesh     180\n27/02/2021    Rajesh     180\n27/02/2021    Rakesh     180\n27/02/2021    Rakesh     400\n27/02/2021    Rakesh     240\n27/02/2021    Sahil       60\n27/02/2021    Sahil      180\n27/02/2021    Sahil      160\n27/02/2021    Sahil      450\n27/02/2021    Sahil      300\n27/02/2021    Sahil      420\n\n                       2750\n"
     ]
    }
   ],
   "source": [
    "date_wise_cust_summarized('27/02/2021')"
   ]
  },
  {
   "cell_type": "code",
   "execution_count": 197,
   "metadata": {},
   "outputs": [],
   "source": [
    "def cust_wise_summary():\n",
    "\n",
    "    item = ''\n",
    "    quantity = 0\n",
    "    tr_cu_id = ''\n",
    "    bill = ''\n",
    "    date = ''\n",
    "    tr_cu_name = ''\n",
    "    item_code = ''\n",
    "    item_rate = 0\n",
    "    amount = 0\n",
    "    c_sum = 0\n",
    "    x = 0\n",
    "\n",
    "    print(\"{:<8}     {:<6}  {:>6}   {:>6}\".format('Cu_Name','Cu_ID','Amount_Sum','C_Sum'))\n",
    "    print()\n",
    "\n",
    "    for u in range(len(tr_cu_un)):\n",
    "        cust_id = tr_cu_un[u]\n",
    "        a_sum = 0\n",
    "\n",
    "        for i in range(len(tr)):\n",
    "            for j in range(1,len(tr[i])):\n",
    "                item = tr[i][j][0]\n",
    "                quantity = tr[i][j][1]\n",
    "                tr_cu_id = tr[i][0][0]\n",
    "                bill = tr[i][0][1]\n",
    "                date = tr[i][0][2]\n",
    "\n",
    "\n",
    "                for k in range(len(cu)):\n",
    "                    if tr_cu_id == cu[k][0]:\n",
    "                        tr_cu_name = cu[k][1]\n",
    "                for l in range(len(item_detail)):\n",
    "                    if item == item_detail[l][1]:\n",
    "                        item_code = item_detail[l][0]\n",
    "                        item_rate = item_detail[l][2]\n",
    "                amount = item_rate * quantity\n",
    "\n",
    "                if tr_cu_id == cust_id:\n",
    "                    a_sum = a_sum + amount\n",
    "                    t_name = tr_cu_name\n",
    "                    t_id = tr_cu_id\n",
    "                    t_bill = bill \n",
    "                    t_date = date\n",
    "                    t_name = tr_cu_name\n",
    "        c_sum = c_sum + a_sum\n",
    "        print(\"{:<8}     {:<6}  {:>6}      {:>6}\".format(t_name,t_id,a_sum,c_sum))\n",
    "    print()\n",
    "    print(\"Total ::                         {:>6}\".format(c_sum))\n"
   ]
  },
  {
   "cell_type": "code",
   "execution_count": 205,
   "metadata": {},
   "outputs": [
    {
     "output_type": "stream",
     "name": "stdout",
     "text": [
      "Cu_Name      Cu_ID   Amount_Sum    C_Sum\n\nSahil        1212         0           0\n\nTotal ::                              0\n"
     ]
    }
   ],
   "source": [
    "tem = ''\n",
    "quantity = 0\n",
    "tr_cu_id = ''\n",
    "bill = ''\n",
    "date = ''\n",
    "tr_cu_name = ''\n",
    "item_code = ''\n",
    "item_rate = 0\n",
    "amount = 0\n",
    "c_sum = 0\n",
    "x = 0\n",
    "\n",
    "print(\"{:<8}     {:<6}  {:>6}   {:>6}\".format('Cu_Name','Cu_ID','Amount_Sum','C_Sum'))\n",
    "print()\n",
    "\n",
    "for u in range(len(tr_cu_un)):\n",
    "    cust_id = tr_cu_un[u]\n",
    "    a_sum = 0\n",
    "\n",
    "    for i in range(len(tr)):\n",
    "        for j in range(1,len(tr[i])):\n",
    "            item = tr[i][j][0]\n",
    "            quantity = tr[i][j][1]\n",
    "            tr_cu_id = tr[i][0][0]\n",
    "            bill = tr[i][0][1]\n",
    "            date = tr[i][0][2]\n",
    "\n",
    "\n",
    "            for k in range(len(cu)):\n",
    "                if tr_cu_id == cu[k][0]:\n",
    "                    tr_cu_name = cu[k][1]\n",
    "            for l in range(len(item_detail)):\n",
    "                if item == item_detail[l][1]:\n",
    "                    item_code = item_detail[l][0]\n",
    "                    item_rate = item_detail[l][2]\n",
    "            amount = item_rate * quantity\n",
    "\n",
    "    if tr_cu_id == '1212':\n",
    "        a_sum = a_sum + amount\n",
    "        t_name = tr_cu_name\n",
    "        t_id = tr_cu_id\n",
    "        t_bill = bill \n",
    "        t_date = date\n",
    "        t_name = tr_cu_name\n",
    "c_sum = c_sum + a_sum\n",
    "print(\"{:<8}     {:<6}  {:>6}      {:>6}\".format(t_name,t_id,a_sum,c_sum))\n",
    "print()\n",
    "print(\"Total ::                         {:>6}\".format(c_sum))\n"
   ]
  },
  {
   "cell_type": "code",
   "execution_count": 228,
   "metadata": {},
   "outputs": [
    {
     "output_type": "stream",
     "name": "stdout",
     "text": [
      "Date         Cu_name     Amount\n\n27/02/2021 1210 180\n27/02/2021 1210 180\n27/02/2021 1211 180\n27/02/2021 1211 400\n27/02/2021 1211 240\n27/02/2021 1212 60\n27/02/2021 1212 180\n27/02/2021 1212 160\n27/02/2021 1212 450\n27/02/2021 1212 300\n27/02/2021 1212 420\n"
     ]
    }
   ],
   "source": [
    "c_date = '27/02/2021'\n",
    "item = ''\n",
    "quantity = 0\n",
    "tr_cu_id = ''\n",
    "bill = ''\n",
    "date = ''\n",
    "tr_cu_name = ''\n",
    "item_code = ''\n",
    "item_rate = 0\n",
    "amount = 0\n",
    "c_sum = 0\n",
    "s_amount = 0\n",
    "c = ''\n",
    "prn2 = 0\n",
    "c_name = ''\n",
    "\n",
    "print(\"{:<10}   {:<8}    {:>5}\".format('Date','Cu_name','Amount'))\n",
    "print()\n",
    "\n",
    "for i in range(len(tr)):\n",
    "    for j in range(1,len(tr[i])):\n",
    "        item = tr[i][j][0]\n",
    "        quantity = tr[i][j][1]\n",
    "        tr_cu_id = tr[i][0][0]\n",
    "        bill = tr[i][0][1]\n",
    "        date = tr[i][0][2]\n",
    "\n",
    "\n",
    "        for k in range(len(cu)):\n",
    "            if tr_cu_id == cu[k][0]:\n",
    "                tr_cu_name = cu[k][1]\n",
    "        for l in range(len(item_detail)):\n",
    "            if item == item_detail[l][1]:\n",
    "                item_code = item_detail[l][0]\n",
    "                item_rate = item_detail[l][2]\n",
    "        amount = item_rate * quantity\n",
    "        \n",
    "        if date == '27/02/2021':\n",
    "            c_sum = c_sum + amount\n",
    "            print(date,tr_cu_id,amount)"
   ]
  },
  {
   "cell_type": "code",
   "execution_count": 214,
   "metadata": {},
   "outputs": [
    {
     "output_type": "stream",
     "name": "stdout",
     "text": [
      "Cu_Name    Cu_ID    Date        Bill       Item       Item_code   Item_rate    Quantity     Amount   a_sum\n\nRajesh     1210    27/02/2021  120001     apple        1001          60            3          180      180\nRajesh     1210    27/02/2021  120001     grapes       1005          45            4          180      360\n\nTotal ::                                                                                      360\n\n\n\nCu_Name    Cu_ID    Date        Bill       Item       Item_code   Item_rate    Quantity     Amount   a_sum\n\nRakesh     1211    27/02/2021  120002     pears        1003          30            6          180      180\nRakesh     1211    27/02/2021  120002     mango        1004          50            8          400      580\nRakesh     1211    27/02/2021  120002     orange       1002          40            6          240      820\nRakesh     1211    03/03/2021  120007     dates        1008         100           15         1500     2320\nRakesh     1211    03/03/2021  120007     banana       1009          10           10          100     2420\nRakesh     1211    03/03/2021  120007     orange       1002          40           10          400     2820\n\nTotal ::                                                                                     2820\n\n\n\nCu_Name    Cu_ID    Date        Bill       Item       Item_code   Item_rate    Quantity     Amount   a_sum\n\nSahil      1212    27/02/2021  120003     pears        1003          30            2           60       60\nSahil      1212    27/02/2021  120003     apple        1001          60            3          180      240\nSahil      1212    27/02/2021  120003     orange       1002          40            4          160      400\nSahil      1212    27/02/2021  120003     cherry       1012          90            5          450      850\nSahil      1212    27/02/2021  120003     mango        1004          50            6          300     1150\nSahil      1212    27/02/2021  120003     apple        1001          60            7          420     1570\n\nTotal ::                                                                                     1570\n\n\n\nCu_Name    Cu_ID    Date        Bill       Item       Item_code   Item_rate    Quantity     Amount   a_sum\n\nJack       1213    28/02/2021  120004     orange       1002          40            9          360      360\nJack       1213    28/02/2021  120004     pears        1003          30            8          240      600\nJack       1213    28/02/2021  120004     pineapple    1007          60            5          300      900\n\nTotal ::                                                                                      900\n\n\n\nCu_Name    Cu_ID    Date        Bill       Item       Item_code   Item_rate    Quantity     Amount   a_sum\n\nSteve      1214    28/02/2021  120005     grapes       1005          45            3          135      135\nSteve      1214    28/02/2021  120005     apple        1001          60            7          420      555\nSteve      1214    04/03/2021  120008     dates        1008         100           13         1300     1855\nSteve      1214    04/03/2021  120008     banana       1009          10           10          100     1955\nSteve      1214    04/03/2021  120008     Blackberry   1011         110            2          220     2175\n\nTotal ::                                                                                     2175\n\n\n\nCu_Name    Cu_ID    Date        Bill       Item       Item_code   Item_rate    Quantity     Amount   a_sum\n\nRohan      1215    02/03/2021  120006     mango        1004          50           12          600      600\nRohan      1215    02/03/2021  120006     orange       1002          40           13          520     1120\nRohan      1215    02/03/2021  120006     guava        1006          40            8          320     1440\nRohan      1215    02/03/2021  120006     Strawberry   1010         150           10         1500     2940\nRohan      1215    02/03/2021  120006     cherry       1012          90            7          630     3570\nRohan      1215    05/03/2021  120009     dates        1008         100           12         1200     4770\nRohan      1215    05/03/2021  120009     apple        1001          60           10          600     5370\nRohan      1215    05/03/2021  120009     mango        1004          50           10          500     5870\nRohan      1215    05/03/2021  120009     cherry       1012          90            8          720     6590\n\nTotal ::                                                                                     6590\n\n\n\nCu_Name    Cu_ID    Date        Bill       Item       Item_code   Item_rate    Quantity     Amount   a_sum\n\nMillan     1216    05/03/2021  120010     apple        1001          60            6          360      360\nMillan     1216    05/03/2021  120010     dates        1008         100            8          800     1160\nMillan     1216    05/03/2021  120010     jelly        1013          20            5          100     1260\nMillan     1216    05/03/2021  120010     jackfruit    1014          40           50         2000     3260\n\nTotal ::                                                                                     3260\n\n\n\nCu_Name    Cu_ID    Date        Bill       Item       Item_code   Item_rate    Quantity     Amount   a_sum\n\nmikul      1217    05/03/2021  120011     mango        1004          50            6          300      300\nmikul      1217    05/03/2021  120011     apple        1001          60            8          480      780\n\nTotal ::                                                                                      780\n\n\n\nCu_Name    Cu_ID    Date        Bill       Item       Item_code   Item_rate    Quantity     Amount   a_sum\n\nsmile      1218    06/03/2021  120012     Blackberry   1011         110            8          880      880\nsmile      1218    06/03/2021  120012     Strawberry   1010         150            6          900     1780\nsmile      1218    06/03/2021  120012     jackfruit    1014          40           60         2400     4180\nsmile      1218    06/03/2021  120012     mango        1004          50           15          750     4930\nsmile      1218    06/03/2021  120012     apple        1001          60           10          600     5530\nsmile      1218    06/03/2021  120012     WaterMelon   1001          60           95         5700    11230\n\nTotal ::                                                                                    11230\n\n\n\n"
     ]
    }
   ],
   "source": [
    "main.cust_wise_detail_all()"
   ]
  },
  {
   "cell_type": "code",
   "execution_count": null,
   "metadata": {},
   "outputs": [],
   "source": []
  },
  {
   "cell_type": "code",
   "execution_count": null,
   "metadata": {},
   "outputs": [],
   "source": []
  },
  {
   "cell_type": "code",
   "execution_count": null,
   "metadata": {},
   "outputs": [],
   "source": []
  },
  {
   "cell_type": "code",
   "execution_count": null,
   "metadata": {},
   "outputs": [],
   "source": []
  },
  {
   "cell_type": "code",
   "execution_count": null,
   "metadata": {},
   "outputs": [],
   "source": []
  },
  {
   "cell_type": "code",
   "execution_count": null,
   "metadata": {},
   "outputs": [],
   "source": []
  },
  {
   "cell_type": "code",
   "execution_count": null,
   "metadata": {},
   "outputs": [],
   "source": []
  },
  {
   "cell_type": "code",
   "execution_count": null,
   "metadata": {},
   "outputs": [],
   "source": []
  },
  {
   "cell_type": "code",
   "execution_count": null,
   "metadata": {},
   "outputs": [],
   "source": []
  },
  {
   "cell_type": "code",
   "execution_count": null,
   "metadata": {},
   "outputs": [],
   "source": []
  },
  {
   "cell_type": "code",
   "execution_count": null,
   "metadata": {},
   "outputs": [],
   "source": []
  },
  {
   "cell_type": "code",
   "execution_count": null,
   "metadata": {},
   "outputs": [],
   "source": []
  },
  {
   "cell_type": "code",
   "execution_count": null,
   "metadata": {},
   "outputs": [],
   "source": []
  },
  {
   "cell_type": "code",
   "execution_count": null,
   "metadata": {},
   "outputs": [],
   "source": []
  },
  {
   "cell_type": "code",
   "execution_count": null,
   "metadata": {},
   "outputs": [],
   "source": []
  },
  {
   "cell_type": "code",
   "execution_count": null,
   "metadata": {},
   "outputs": [],
   "source": []
  },
  {
   "cell_type": "code",
   "execution_count": null,
   "metadata": {},
   "outputs": [],
   "source": []
  },
  {
   "cell_type": "code",
   "execution_count": null,
   "metadata": {},
   "outputs": [],
   "source": []
  },
  {
   "cell_type": "code",
   "execution_count": null,
   "metadata": {},
   "outputs": [],
   "source": []
  },
  {
   "cell_type": "code",
   "execution_count": null,
   "metadata": {},
   "outputs": [],
   "source": []
  },
  {
   "cell_type": "code",
   "execution_count": null,
   "metadata": {},
   "outputs": [],
   "source": []
  },
  {
   "cell_type": "code",
   "execution_count": null,
   "metadata": {},
   "outputs": [],
   "source": []
  },
  {
   "cell_type": "code",
   "execution_count": null,
   "metadata": {},
   "outputs": [],
   "source": []
  },
  {
   "cell_type": "code",
   "execution_count": null,
   "metadata": {},
   "outputs": [],
   "source": []
  }
 ]
}