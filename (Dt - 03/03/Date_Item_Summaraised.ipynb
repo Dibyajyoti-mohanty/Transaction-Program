{
 "metadata": {
  "language_info": {
   "codemirror_mode": {
    "name": "ipython",
    "version": 3
   },
   "file_extension": ".py",
   "mimetype": "text/x-python",
   "name": "python",
   "nbconvert_exporter": "python",
   "pygments_lexer": "ipython3",
   "version": "3.9.2-final"
  },
  "orig_nbformat": 2,
  "kernelspec": {
   "name": "python3",
   "display_name": "Python 3.9.2 64-bit",
   "metadata": {
    "interpreter": {
     "hash": "f9f85f796d01129d0dd105a088854619f454435301f6ffec2fea96ecbd9be4ac"
    }
   }
  }
 },
 "nbformat": 4,
 "nbformat_minor": 2,
 "cells": [
  {
   "cell_type": "code",
   "execution_count": 1,
   "metadata": {},
   "outputs": [],
   "source": [
    "tr = [(('1210','120001','27/02/2021'),('apple',3),('grapes',4)),\n",
    "      (('1211','120002','27/02/2021'),('pears',6),('mango',8),('orange',6)),\n",
    "      (('1212','120003','27/02/2021'),('pears',2),('apple',3),('orange',4),('cherry',5),('mango',6),('apple',7)),\n",
    "      (('1213','120004','28/02/2021'),('orange',9),('pears',8),('pineapple',5)),\n",
    "      (('1214','120005','28/02/2021'),('grapes',3),('apple',7)),\n",
    "      (('1215','120006','02/03/2021'),('mango',12),('orange',13),('guava',8),('Strawberry',10),('cherry',7)),\n",
    "      (('1211','120007','03/03/2021'),('dates',15),('banana',10),('orange',10)),\n",
    "      (('1214','120008','04/03/2021'),('dates',13),('banana',10),('Blackberry',2)),\n",
    "      (('1215','120009','05/03/2021'),('dates',12),('apple',10),('mango',10),('cherry',8)),\n",
    "      (('1216','120010','05/03/2021'),('apple',6),('dates',8),('jelly',5),('jackfruit',50)),\n",
    "     (('1217','120011','05/03/2021'),('mango',6),('apple',8)),\n",
    "     (('1218','120012','06/03/2021'),('Blackberry',8),('Strawberry',6),('jackfruit',60),('mango',15),('apple',10),('WaterMelon',95))]\n",
    "\n",
    "\n",
    "\n",
    "cu = [('1210','Rajesh'),('1211','Rakesh'),('1212','Sahil'),\n",
    "      ('1213','Jack'),('1214','Steve'),('1215','Rohan',),\n",
    "      ('1216','Millan',),('1217','mikul'),('1218','smile')]\n",
    "\n",
    "\n",
    "item_detail = [('1001','apple',60),('1002','orange',40),('1003','pears',30),\n",
    "               ('1004','mango',50),('1005','grapes',45),('1006','guava',40),\n",
    "             ('1007','pineapple',60),('1008','dates',100),('1009','banana',10),\n",
    "               ('1010','Strawberry',150),('1011','Blackberry',110),\n",
    "             ('1012','cherry',90),('1013','jelly',20),('1014','jackfruit',40),('1015','WaterMelon',58)]\n",
    "\n",
    "\n",
    "\n",
    "\n",
    "\n",
    "tr_cu_un = []\n",
    "\n",
    "tr_item_un = []\n",
    "\n",
    "tr_un_bill = []\n",
    "\n",
    "tr_un_date = []\n",
    "\n",
    "def cu_name_id(c_id):\n",
    "    c_id = c_id\n",
    "    for i in range(len(cu)):\n",
    "        cu_id = cu[i][0]\n",
    "        cu_name = cu[i][1]\n",
    "        if cu_id == c_id:\n",
    "            return cu_name\n",
    "        elif cu_name == c_id:\n",
    "            return cu_id \n",
    "\n",
    "def item_name_code(i_code):\n",
    "    i_code = i_code\n",
    "    for i in range(len(item_detail)):\n",
    "        tr_i_code = item_detail[i][0]\n",
    "        tr_i_name = item_detail[i][1]\n",
    "        if tr_i_code == i_code:\n",
    "            return tr_i_name\n",
    "        elif tr_i_name == i_code:\n",
    "            return tr_i_code\n",
    "\n",
    "\n",
    "for i in range(len(tr)):\n",
    "    for j in range(1,len(tr[i])):\n",
    "        cu_un_id = tr[i][0][0]\n",
    "        item_un_name = tr[i][j][0]\n",
    "        tr_bill = tr[i][0][1]\n",
    "        tr_date = tr[i][0][2]\n",
    "\n",
    "        if cu_un_id not in tr_cu_un:\n",
    "            tr_cu_un.append(cu_un_id)\n",
    "            \n",
    "\n",
    "        if item_un_name not in tr_item_un:\n",
    "            tr_item_un.append(item_un_name)\n",
    "\n",
    "\n",
    "        if tr_date not in tr_un_date:\n",
    "            tr_un_date.append(tr_date)\n",
    "        \n",
    "    tr_un_bill.append(tr_bill)\n",
    "\n",
    "def main_tr_db():\n",
    "\n",
    "    item = ''\n",
    "    quantity = 0\n",
    "    tr_cu_id = ''\n",
    "    bill = ''\n",
    "    date = ''\n",
    "    tr_cu_name = ''\n",
    "    item_code = ''\n",
    "    item_rate = 0\n",
    "    amount = 0\n",
    "    a_sum = 0\n",
    "    x = 0\n",
    "\n",
    "    print(\"{}     {}     {}  {:<8}  {:<10} {:>3} {:>3} {:>4} {:>5} \".format('bill','date','tr_cu_id','tr_cu_name','item','item_rate','quantity','amount','a_sum'))\n",
    "    print()\n",
    "\n",
    "    for i in range(len(tr)):\n",
    "        for j in range(1,len(tr[i])):\n",
    "            item = tr[i][j][0]\n",
    "            quantity = tr[i][j][1]\n",
    "            tr_cu_id = tr[i][0][0]\n",
    "            bill = tr[i][0][1]\n",
    "            date = tr[i][0][2]\n",
    "\n",
    "\n",
    "            for k in range(len(cu)):\n",
    "                if tr_cu_id == cu[k][0]:\n",
    "                    tr_cu_name = cu[k][1]\n",
    "            for l in range(len(item_detail)):\n",
    "                if item == item_detail[l][1]:\n",
    "                    item_code = item_detail[l][0]\n",
    "                    item_rate = item_detail[l][2]\n",
    "            amount = item_rate * quantity\n",
    "            a_sum = a_sum + amount\n",
    "            x = x+1\n",
    "\n",
    "\n",
    "\n",
    "\n",
    "            \n",
    "            print(\"{} {}  {}       {:<8}  {:<10} {:>3}        {:>3}     {:>4}   {:>5} \".format(bill,date,tr_cu_id,tr_cu_name,item,item_rate,quantity,amount,a_sum))\n",
    "    print()\n",
    "    print(\"Total ::                                                             {:>5}\".format(a_sum))\n",
    "\n",
    "#******************************************************************************************************************************************************\n"
   ]
  },
  {
   "cell_type": "code",
   "execution_count": 11,
   "metadata": {},
   "outputs": [
    {
     "output_type": "stream",
     "name": "stdout",
     "text": [
      "bill     date     tr_cu_id  tr_cu_name  item       item_rate quantity amount a_sum \n\n120001 27/02/2021  1210       Rajesh    apple       60          3      180     180 \n120001 27/02/2021  1210       Rajesh    grapes      45          4      180     360 \n120002 27/02/2021  1211       Rakesh    pears       30          6      180     540 \n120002 27/02/2021  1211       Rakesh    mango       50          8      400     940 \n120002 27/02/2021  1211       Rakesh    orange      40          6      240    1180 \n120003 27/02/2021  1212       Sahil     pears       30          2       60    1240 \n120003 27/02/2021  1212       Sahil     apple       60          3      180    1420 \n120003 27/02/2021  1212       Sahil     orange      40          4      160    1580 \n120003 27/02/2021  1212       Sahil     cherry      90          5      450    2030 \n120003 27/02/2021  1212       Sahil     mango       50          6      300    2330 \n120003 27/02/2021  1212       Sahil     apple       60          7      420    2750 \n120004 28/02/2021  1213       Jack      orange      40          9      360    3110 \n120004 28/02/2021  1213       Jack      pears       30          8      240    3350 \n120004 28/02/2021  1213       Jack      pineapple   60          5      300    3650 \n120005 28/02/2021  1214       Steve     grapes      45          3      135    3785 \n120005 28/02/2021  1214       Steve     apple       60          7      420    4205 \n120006 02/03/2021  1215       Rohan     mango       50         12      600    4805 \n120006 02/03/2021  1215       Rohan     orange      40         13      520    5325 \n120006 02/03/2021  1215       Rohan     guava       40          8      320    5645 \n120006 02/03/2021  1215       Rohan     Strawberry 150         10     1500    7145 \n120006 02/03/2021  1215       Rohan     cherry      90          7      630    7775 \n120007 03/03/2021  1211       Rakesh    dates      100         15     1500    9275 \n120007 03/03/2021  1211       Rakesh    banana      10         10      100    9375 \n120007 03/03/2021  1211       Rakesh    orange      40         10      400    9775 \n120008 04/03/2021  1214       Steve     dates      100         13     1300   11075 \n120008 04/03/2021  1214       Steve     banana      10         10      100   11175 \n120008 04/03/2021  1214       Steve     Blackberry 110          2      220   11395 \n120009 05/03/2021  1215       Rohan     dates      100         12     1200   12595 \n120009 05/03/2021  1215       Rohan     apple       60         10      600   13195 \n120009 05/03/2021  1215       Rohan     mango       50         10      500   13695 \n120009 05/03/2021  1215       Rohan     cherry      90          8      720   14415 \n120010 05/03/2021  1216       Millan    apple       60          6      360   14775 \n120010 05/03/2021  1216       Millan    dates      100          8      800   15575 \n120010 05/03/2021  1216       Millan    jelly       20          5      100   15675 \n120010 05/03/2021  1216       Millan    jackfruit   40         50     2000   17675 \n120011 05/03/2021  1217       mikul     mango       50          6      300   17975 \n120011 05/03/2021  1217       mikul     apple       60          8      480   18455 \n120012 06/03/2021  1218       smile     Blackberry 110          8      880   19335 \n120012 06/03/2021  1218       smile     Strawberry 150          6      900   20235 \n120012 06/03/2021  1218       smile     jackfruit   40         60     2400   22635 \n120012 06/03/2021  1218       smile     mango       50         15      750   23385 \n120012 06/03/2021  1218       smile     apple       60         10      600   23985 \n120012 06/03/2021  1218       smile     WaterMelon  58         95     5510   29495 \n\nTotal ::                                                             29495\n"
     ]
    }
   ],
   "source": [
    "main_tr_db()"
   ]
  },
  {
   "cell_type": "code",
   "execution_count": 3,
   "metadata": {},
   "outputs": [],
   "source": [
    "\n",
    "\n",
    "def item_date(i_name,c_date):\n",
    "    i_name = i_name\n",
    "    c_date = c_date\n",
    "\n",
    "    item = ''\n",
    "    quantity = 0\n",
    "    tr_cu_id = ''\n",
    "    bill = ''\n",
    "    date = ''\n",
    "    tr_cu_name = ''\n",
    "    item_code = ''\n",
    "    item_rate = 0\n",
    "    amount = 0\n",
    "    c_sum = 0\n",
    "    s_amount = 0\n",
    "    x = 0\n",
    "    prn2 = 0\n",
    "    \n",
    "\n",
    "    for i in range(len(tr)):\n",
    "        for j in range(1,len(tr[i])):\n",
    "            item = tr[i][j][0]\n",
    "            quantity = tr[i][j][1]\n",
    "            tr_cu_id = tr[i][0][0]\n",
    "            bill = tr[i][0][1]\n",
    "            date = tr[i][0][2]\n",
    "\n",
    "\n",
    "            for k in range(len(cu)):\n",
    "                if tr_cu_id == cu[k][0]:\n",
    "                    tr_cu_name = cu[k][1]\n",
    "            for l in range(len(item_detail)):\n",
    "                if item == item_detail[l][1]:\n",
    "                    item_code = item_detail[l][0]\n",
    "                    item_rate = item_detail[l][2]\n",
    "            amount = item_rate * quantity\n",
    "\n",
    "            if item == i_name:\n",
    "                if date == c_date:\n",
    "                    s_amount = s_amount + amount   \n",
    "                    prn2 = s_amount\n",
    "    return prn2\n",
    "                \n",
    "   \n",
    "\n",
    "\n",
    "\n"
   ]
  },
  {
   "cell_type": "code",
   "execution_count": 4,
   "metadata": {},
   "outputs": [
    {
     "output_type": "execute_result",
     "data": {
      "text/plain": [
       "240"
      ]
     },
     "metadata": {},
     "execution_count": 4
    }
   ],
   "source": [
    "item_date('pears','27/02/2021')"
   ]
  },
  {
   "cell_type": "code",
   "execution_count": 5,
   "metadata": {},
   "outputs": [
    {
     "output_type": "stream",
     "name": "stdout",
     "text": [
      "27/02/2021\n28/02/2021\n02/03/2021\n03/03/2021\n04/03/2021\n05/03/2021\n06/03/2021\n"
     ]
    }
   ],
   "source": [
    "for i in range(len(tr_un_date)):\n",
    "    print(tr_un_date[i])"
   ]
  },
  {
   "cell_type": "code",
   "execution_count": 6,
   "metadata": {},
   "outputs": [
    {
     "output_type": "stream",
     "name": "stdout",
     "text": [
      "bill     date     tr_cu_id  tr_cu_name  item       item_rate quantity amount a_sum \n\n120001 27/02/2021  1210       Rajesh    apple       60          3      180     180 \n120001 27/02/2021  1210       Rajesh    grapes      45          4      180     360 \n120002 27/02/2021  1211       Rakesh    pears       30          6      180     540 \n120002 27/02/2021  1211       Rakesh    mango       50          8      400     940 \n120002 27/02/2021  1211       Rakesh    orange      40          6      240    1180 \n120003 27/02/2021  1212       Sahil     pears       30          2       60    1240 \n120003 27/02/2021  1212       Sahil     apple       60          3      180    1420 \n120003 27/02/2021  1212       Sahil     orange      40          4      160    1580 \n120003 27/02/2021  1212       Sahil     cherry      90          5      450    2030 \n120003 27/02/2021  1212       Sahil     mango       50          6      300    2330 \n120003 27/02/2021  1212       Sahil     apple       60          7      420    2750 \n120004 28/02/2021  1213       Jack      orange      40          9      360    3110 \n120004 28/02/2021  1213       Jack      pears       30          8      240    3350 \n120004 28/02/2021  1213       Jack      pineapple   60          5      300    3650 \n120005 28/02/2021  1214       Steve     grapes      45          3      135    3785 \n120005 28/02/2021  1214       Steve     apple       60          7      420    4205 \n120006 02/03/2021  1215       Rohan     mango       50         12      600    4805 \n120006 02/03/2021  1215       Rohan     orange      40         13      520    5325 \n120006 02/03/2021  1215       Rohan     guava       40          8      320    5645 \n120006 02/03/2021  1215       Rohan     Strawberry 150         10     1500    7145 \n120006 02/03/2021  1215       Rohan     cherry      90          7      630    7775 \n120007 03/03/2021  1211       Rakesh    dates      100         15     1500    9275 \n120007 03/03/2021  1211       Rakesh    banana      10         10      100    9375 \n120007 03/03/2021  1211       Rakesh    orange      40         10      400    9775 \n120008 04/03/2021  1214       Steve     dates      100         13     1300   11075 \n120008 04/03/2021  1214       Steve     banana      10         10      100   11175 \n120008 04/03/2021  1214       Steve     Blackberry 110          2      220   11395 \n120009 05/03/2021  1215       Rohan     dates      100         12     1200   12595 \n120009 05/03/2021  1215       Rohan     apple       60         10      600   13195 \n120009 05/03/2021  1215       Rohan     mango       50         10      500   13695 \n120009 05/03/2021  1215       Rohan     cherry      90          8      720   14415 \n120010 05/03/2021  1216       Millan    apple       60          6      360   14775 \n120010 05/03/2021  1216       Millan    dates      100          8      800   15575 \n120010 05/03/2021  1216       Millan    jelly       20          5      100   15675 \n120010 05/03/2021  1216       Millan    jackfruit   40         50     2000   17675 \n120011 05/03/2021  1217       mikul     mango       50          6      300   17975 \n120011 05/03/2021  1217       mikul     apple       60          8      480   18455 \n120012 06/03/2021  1218       smile     Blackberry 110          8      880   19335 \n120012 06/03/2021  1218       smile     Strawberry 150          6      900   20235 \n120012 06/03/2021  1218       smile     jackfruit   40         60     2400   22635 \n120012 06/03/2021  1218       smile     mango       50         15      750   23385 \n120012 06/03/2021  1218       smile     apple       60         10      600   23985 \n120012 06/03/2021  1218       smile     WaterMelon  58         95     5510   29495 \n\nTotal ::                                                             29495\n"
     ]
    }
   ],
   "source": [
    "main_tr_db()"
   ]
  },
  {
   "cell_type": "code",
   "execution_count": 12,
   "metadata": {},
   "outputs": [
    {
     "output_type": "stream",
     "name": "stdout",
     "text": [
      " 27/02/2021   28/02/2021   02/03/2021   03/03/2021   04/03/2021   05/03/2021   06/03/2021  \n\n"
     ]
    }
   ],
   "source": [
    "for i in range(len(tr_un_date)):          #This loop prints only headings of Dates.\n",
    "    i_date = tr_un_date[i]\n",
    "    print(\" {:<8}\".format(i_date),end = '  ')\n",
    "print()\n",
    "print()\n"
   ]
  },
  {
   "cell_type": "code",
   "execution_count": 8,
   "metadata": {},
   "outputs": [
    {
     "output_type": "stream",
     "name": "stdout",
     "text": [
      " 27/02/2021    28/02/2021    02/03/2021    03/03/2021    04/03/2021    05/03/2021    06/03/2021   \n\n     780           420             0             0             0          1440           600      \n     180           135             0             0             0             0             0      \n"
     ]
    }
   ],
   "source": [
    "for i in range(len(tr_un_date)):          #This loop prints only headings of all Dates.\n",
    "    i_date = tr_un_date[i]\n",
    "    print(\" {:<8}\".format(i_date),end = '   ')\n",
    "print()\n",
    "print()\n",
    "\n",
    "\n",
    "\n",
    "for i in range(len(tr_un_date)):\n",
    "    a = tr_un_date[i]\n",
    "    u = item_date('apple',a)\n",
    "    print(\"   {:>5}\".format(u),end = '      ')\n",
    "print()\n",
    "\n",
    "for i in range(len(tr_un_date)):\n",
    "    a = tr_un_date[i]\n",
    "    u = item_date('grapes',a)\n",
    "    print(\"   {:>5}\".format(u),end = '      ')\n",
    "print()"
   ]
  },
  {
   "cell_type": "code",
   "execution_count": 9,
   "metadata": {},
   "outputs": [],
   "source": [
    "\n",
    "# def col_sum(i_name):\n",
    "#     s = 0\n",
    "#     i_name = i_name\n",
    "#     for i in range(len(tr_un_date)):\n",
    "#         k = tr_un_date[i]\n",
    "#         a = item_date(i_name,k)\n",
    "#         pr_h = \"{:<10} {:>3}\".format(k,a)\n",
    "#         pr_o = \"{:>3}\".format(a)\n",
    "#         s = s + a\n",
    "#     return s"
   ]
  },
  {
   "cell_type": "code",
   "execution_count": 10,
   "metadata": {},
   "outputs": [
    {
     "output_type": "error",
     "ename": "SyntaxError",
     "evalue": "expression cannot contain assignment, perhaps you meant \"==\"? (<ipython-input-10-42b50df7d22e>, line 3)",
     "traceback": [
      "\u001b[0;36m  File \u001b[0;32m\"<ipython-input-10-42b50df7d22e>\"\u001b[0;36m, line \u001b[0;32m3\u001b[0m\n\u001b[0;31m    print(a,end= = '  ')\u001b[0m\n\u001b[0m            ^\u001b[0m\n\u001b[0;31mSyntaxError\u001b[0m\u001b[0;31m:\u001b[0m expression cannot contain assignment, perhaps you meant \"==\"?\n"
     ]
    }
   ],
   "source": [
    "for i in range(len(tr_un_date)):\n",
    "    a = col_sum(tr_un_date[i])\n",
    "    print(a,end= = '  ')"
   ]
  },
  {
   "cell_type": "code",
   "execution_count": 131,
   "metadata": {},
   "outputs": [
    {
     "output_type": "stream",
     "name": "stdout",
     "text": [
      "             27/02/2021    28/02/2021    02/03/2021    03/03/2021    04/03/2021    05/03/2021    06/03/2021   \n\napple            780           420             0             0             0          1440           600       3240    3240\ngrapes           180           135             0             0             0             0             0        315    3555\npears            240           240             0             0             0             0             0        480    4035\nmango            700             0           600             0             0           800           750       2850    6885\norange           400           360           520           400             0             0             0       1680    8565\ncherry           450             0           630             0             0           720             0       1800   10365\npineapple          0           300             0             0             0             0             0        300   10665\nguava              0             0           320             0             0             0             0        320   10985\nStrawberry         0             0          1500             0             0             0           900       2400   13385\ndates              0             0             0          1500          1300          2000             0       4800   18185\nbanana             0             0             0           100           100             0             0        200   18385\nBlackberry         0             0             0             0           220             0           880       1100   19485\njelly              0             0             0             0             0           100             0        100   19585\njackfruit          0             0             0             0             0          2000          2400       4400   23985\nWaterMelon         0             0             0             0             0             0          5510       5510   29495\n"
     ]
    }
   ],
   "source": [
    "\n",
    "print(\"{:<10}\".format(' '),end = '  ')\n",
    "for i in range(len(tr_un_date)):          #This loop prints only headings of customers.\n",
    "    i_date = tr_un_date[i]\n",
    "    print(\" {:<8}\".format(i_date),end = '   ')\n",
    "print()\n",
    "print()\n",
    "\n",
    "c_sum = 0\n",
    "for j in range(len(tr_item_un)):\n",
    "    m = tr_item_un[j]\n",
    "    sum1 = 0\n",
    "    print(\"{:<10}\".format(m),end = '  ')\n",
    "    for i in range(len(tr_un_date)):\n",
    "        a = tr_un_date[i]\n",
    "        u = item_date(m,a)\n",
    "        sum1 = sum1 + u\n",
    "        c_sum =  c_sum + u\n",
    "        print(\"   {:>5}\".format(u),end = '      ')\n",
    "    print(\"{:>5}  {:>6}\".format(sum1,c_sum))\n",
    "    #print()"
   ]
  },
  {
   "cell_type": "code",
   "execution_count": 132,
   "metadata": {},
   "outputs": [
    {
     "output_type": "stream",
     "name": "stdout",
     "text": [
      "Item_Name    27/02/2021    28/02/2021    02/03/2021    03/03/2021    04/03/2021    05/03/2021    06/03/2021   \n\napple            780           420             0             0             0          1440           600       3240    3240\ngrapes           180           135             0             0             0             0             0        315    3555\npears            240           240             0             0             0             0             0        480    4035\nmango            700             0           600             0             0           800           750       2850    6885\norange           400           360           520           400             0             0             0       1680    8565\ncherry           450             0           630             0             0           720             0       1800   10365\npineapple          0           300             0             0             0             0             0        300   10665\nguava              0             0           320             0             0             0             0        320   10985\nStrawberry         0             0          1500             0             0             0           900       2400   13385\ndates              0             0             0          1500          1300          2000             0       4800   18185\nbanana             0             0             0           100           100             0             0        200   18385\nBlackberry         0             0             0             0           220             0           880       1100   19485\njelly              0             0             0             0             0           100             0        100   19585\njackfruit          0             0             0             0             0          2000          2400       4400   23985\nWaterMelon         0             0             0             0             0             0          5510       5510   29495\n"
     ]
    }
   ],
   "source": [
    "\n",
    "print(\"{:<10}\".format('Item_Name '),end = '  ')\n",
    "for i in range(len(tr_un_date)):          #This loop prints only headings of customers.\n",
    "    i_date = tr_un_date[i]\n",
    "    print(\" {:<8}\".format(i_date),end = '   ')\n",
    "print()\n",
    "print()\n",
    "\n",
    "c_sum = 0\n",
    "for j in range(len(tr_item_un)):\n",
    "    m = tr_item_un[j]\n",
    "    sum1 = 0\n",
    "    print(\"{:<10}\".format(m),end = '  ')\n",
    "    for i in range(len(tr_un_date)):\n",
    "        a = tr_un_date[i]\n",
    "        u = item_date(m,a)\n",
    "        sum1 = sum1 + u\n",
    "        c_sum =  c_sum + u\n",
    "        print(\"   {:>5}\".format(u),end = '      ')\n",
    "    print(\"{:>5}  {:>6}\".format(sum1,c_sum))\n",
    "    #print()"
   ]
  },
  {
   "cell_type": "code",
   "execution_count": 15,
   "metadata": {},
   "outputs": [],
   "source": [
    "def col_sum(c_date):\n",
    "    s = 0\n",
    "    c_date = c_date\n",
    "    for i in range(len(tr_item_un)):\n",
    "        k = tr_item_un[i]\n",
    "        a = item_date(k,c_date)\n",
    "        s = s + a\n",
    "    return s"
   ]
  },
  {
   "cell_type": "code",
   "execution_count": 16,
   "metadata": {},
   "outputs": [
    {
     "output_type": "execute_result",
     "data": {
      "text/plain": [
       "2750"
      ]
     },
     "metadata": {},
     "execution_count": 16
    }
   ],
   "source": [
    "col_sum('27/02/2021')"
   ]
  },
  {
   "cell_type": "code",
   "execution_count": 17,
   "metadata": {},
   "outputs": [
    {
     "output_type": "stream",
     "name": "stdout",
     "text": [
      "Item_Name    27/02/2021    28/02/2021    02/03/2021    03/03/2021    04/03/2021    05/03/2021    06/03/2021   s_sum   C_sum \n\napple            780           420             0             0             0          1440           600       3240    3240\ngrapes           180           135             0             0             0             0             0        315    3555\npears            240           240             0             0             0             0             0        480    4035\nmango            700             0           600             0             0           800           750       2850    6885\norange           400           360           520           400             0             0             0       1680    8565\ncherry           450             0           630             0             0           720             0       1800   10365\npineapple          0           300             0             0             0             0             0        300   10665\nguava              0             0           320             0             0             0             0        320   10985\nStrawberry         0             0          1500             0             0             0           900       2400   13385\ndates              0             0             0          1500          1300          2000             0       4800   18185\nbanana             0             0             0           100           100             0             0        200   18385\nBlackberry         0             0             0             0           220             0           880       1100   19485\njelly              0             0             0             0             0           100             0        100   19585\njackfruit          0             0             0             0             0          2000          2400       4400   23985\nWaterMelon         0             0             0             0             0             0          5510       5510   29495\n\nCol_Total       2750          1455          3570          2000          1620          7060         11040      29495\n"
     ]
    }
   ],
   "source": [
    "\n",
    "print(\"{:<10}\".format('Item_Name '),end = '  ')\n",
    "for i in range(len(tr_un_date)):          #This loop prints only headings of customers.\n",
    "    i_date = tr_un_date[i]\n",
    "    print(\" {:<8}\".format(i_date),end = '   ')\n",
    "print(\"{:>5}   {:>5}\".format('s_sum','C_sum'),end = ' ')\n",
    "print()\n",
    "print()\n",
    "\n",
    "c_sum = 0\n",
    "for j in range(len(tr_item_un)):\n",
    "    m = tr_item_un[j]\n",
    "    sum1 = 0\n",
    "    print(\"{:<10}\".format(m),end = '  ')\n",
    "    for i in range(len(tr_un_date)):\n",
    "        a = tr_un_date[i]\n",
    "        u = item_date(m,a)\n",
    "        sum1 = sum1 + u\n",
    "        c_sum =  c_sum + u\n",
    "        print(\"   {:>5}\".format(u),end = '      ')\n",
    "    print(\"{:>5}  {:>6}\".format(sum1,c_sum))\n",
    "    \n",
    "print()\n",
    "print(\"{:<10}\".format('Col_Total '),end = '  ')\n",
    "for i in range(len(tr_un_date)):\n",
    "    a = col_sum(tr_un_date[i])\n",
    "    print(\"{:>8}   \".format(a),end = '   ')\n",
    "print(c_sum)"
   ]
  },
  {
   "cell_type": "code",
   "execution_count": 33,
   "metadata": {},
   "outputs": [
    {
     "output_type": "stream",
     "name": "stdout",
     "text": [
      "Item_Name    27/02/2021    28/02/2021    02/03/2021    03/03/2021    04/03/2021    05/03/2021    06/03/2021    s_sum      C_sum \n\napple            780           420             0             0             0          1440           600        3240       3240\ngrapes           180           135             0             0             0             0             0         315       3555\npears            240           240             0             0             0             0             0         480       4035\nmango            700             0           600             0             0           800           750        2850       6885\norange           400           360           520           400             0             0             0        1680       8565\ncherry           450             0           630             0             0           720             0        1800      10365\npineapple          0           300             0             0             0             0             0         300      10665\nguava              0             0           320             0             0             0             0         320      10985\nStrawberry         0             0          1500             0             0             0           900        2400      13385\ndates              0             0             0          1500          1300          2000             0        4800      18185\nbanana             0             0             0           100           100             0             0         200      18385\nBlackberry         0             0             0             0           220             0           880        1100      19485\njelly              0             0             0             0             0           100             0         100      19585\njackfruit          0             0             0             0             0          2000          2400        4400      23985\nWaterMelon         0             0             0             0             0             0          5510        5510      29495\n\nCol_Total       2750          1455          3570          2000          1620          7060         11040       29495\n"
     ]
    }
   ],
   "source": [
    "\n",
    "print(\"{:<10}\".format('Item_Name '),end = '  ')\n",
    "\n",
    "for i in range(len(tr_un_date)):          #This loop prints only headings of customers.\n",
    "    i_date = tr_un_date[i]\n",
    "    print(\" {:<8}\".format(i_date),end = '   ')\n",
    "print(\" {:>5}      {:>5}\".format('s_sum','C_sum'),end = ' ')\n",
    "print()\n",
    "print()\n",
    "\n",
    "c_sum = 0\n",
    "for j in range(len(tr_item_un)):\n",
    "    m = tr_item_un[j]\n",
    "    sum1 = 0\n",
    "    print(\"{:<10}\".format(m),end = '  ')\n",
    "    for i in range(len(tr_un_date)):\n",
    "        a = tr_un_date[i]\n",
    "        u = item_date(m,a)\n",
    "        sum1 = sum1 + u\n",
    "        c_sum =  c_sum + u\n",
    "        print(\"   {:>5}\".format(u),end = '      ')\n",
    "    print(\" {:>5}     {:>6}\".format(sum1,c_sum))\n",
    "    \n",
    "print()\n",
    "\n",
    "print(\"{:<10}\".format('Col_Total '),end = '  ')\n",
    "\n",
    "for i in range(len(tr_un_date)):\n",
    "    a = col_sum(tr_un_date[i])\n",
    "    print(\"{:>8}   \".format(a),end = '   ')\n",
    "print(\"{:>6}\".format(c_sum))"
   ]
  },
  {
   "cell_type": "code",
   "execution_count": 14,
   "metadata": {},
   "outputs": [
    {
     "output_type": "stream",
     "name": "stdout",
     "text": [
      "Item_Name    27/02/2021    28/02/2021    02/03/2021    03/03/2021    04/03/2021    05/03/2021    06/03/2021   s_sum   C_sum \n\napple            780           420             0             0             0          1440           600       3240    3240\ngrapes           180           135             0             0             0             0             0        315    3555\npears            240           240             0             0             0             0             0        480    4035\nmango            700             0           600             0             0           800           750       2850    6885\norange           400           360           520           400             0             0             0       1680    8565\ncherry           450             0           630             0             0           720             0       1800   10365\npineapple          0           300             0             0             0             0             0        300   10665\nguava              0             0           320             0             0             0             0        320   10985\nStrawberry         0             0          1500             0             0             0           900       2400   13385\ndates              0             0             0          1500          1300          2000             0       4800   18185\nbanana             0             0             0           100           100             0             0        200   18385\nBlackberry         0             0             0             0           220             0           880       1100   19485\njelly              0             0             0             0             0           100             0        100   19585\njackfruit          0             0             0             0             0          2000          2400       4400   23985\nWaterMelon         0             0             0             0             0             0          5510       5510   29495\n\nCol_Total        2750          4205          7775          9775         11395         18455         29495     "
     ]
    }
   ],
   "source": [
    "\n",
    "\n",
    "print(\"{:<10}\".format('Item_Name '),end = '  ') #THSIS PRINT PRINTS THE ITEM NAME HEADING.\n",
    "\n",
    "for i in range(len(tr_un_date)):          #This loop prints only headings of customers.\n",
    "    i_date = tr_un_date[i]\n",
    "    print(\" {:<8}\".format(i_date),end = '   ')\n",
    "print(\"{:>5}   {:>5}\".format('s_sum','C_sum'),end = ' ')\n",
    "print()\n",
    "print()\n",
    "\n",
    "\n",
    "#THIS IS THE MAIN PROGRAM OR MAIN ENGINE.\n",
    "c_sum = 0\n",
    "for j in range(len(tr_item_un)):\n",
    "    m = tr_item_un[j]\n",
    "    sum1 = 0\n",
    "    print(\"{:<10}\".format(m),end = '  ')\n",
    "    for i in range(len(tr_un_date)):\n",
    "        a = tr_un_date[i]\n",
    "        u = item_date(m,a)\n",
    "        sum1 = sum1 + u\n",
    "        c_sum =  c_sum + u\n",
    "        print(\"   {:>5}\".format(u),end = '      ')\n",
    "    print(\"{:>5}  {:>6}\".format(sum1,c_sum))\n",
    "    \n",
    "print()\n",
    "print(\"{:<10}\".format('Col_Total '),end = '  ')     #THIS (PRINT) PRINTS THE COL_TOTAL AT THE END OF THE COLUMN\n",
    "\n",
    "sum_g = 0\n",
    "s = 0\n",
    "for j in range(len(tr_un_date)):\n",
    "    c_date  = tr_un_date[j]\n",
    "    for i in range(len(tr_item_un)):\n",
    "        k = tr_item_un[i]\n",
    "        a = item_date(k,c_date)\n",
    "        s = s + a\n",
    "    sum_g = sum_g + s\n",
    "    print(\" {:>8} \".format(s),end = '    ')\n",
    "#print(sum_g)"
   ]
  },
  {
   "cell_type": "code",
   "execution_count": 13,
   "metadata": {},
   "outputs": [
    {
     "output_type": "execute_result",
     "data": {
      "text/plain": [
       "0"
      ]
     },
     "metadata": {},
     "execution_count": 13
    }
   ],
   "source": [
    "item_date('27/02/2021','apple')"
   ]
  },
  {
   "cell_type": "code",
   "execution_count": 15,
   "metadata": {},
   "outputs": [
    {
     "output_type": "stream",
     "name": "stdout",
     "text": [
      "New Changes\n"
     ]
    }
   ],
   "source": [
    "print('New Changes')"
   ]
  },
  {
   "cell_type": "code",
   "execution_count": 6,
   "metadata": {},
   "outputs": [
    {
     "output_type": "execute_result",
     "data": {
      "text/plain": [
       "b'python!'"
      ]
     },
     "metadata": {},
     "execution_count": 6
    }
   ],
   "source": [
    "l = 'python!'\n",
    "l.encode()"
   ]
  },
  {
   "cell_type": "code",
   "execution_count": null,
   "metadata": {},
   "outputs": [],
   "source": []
  }
 ]
}