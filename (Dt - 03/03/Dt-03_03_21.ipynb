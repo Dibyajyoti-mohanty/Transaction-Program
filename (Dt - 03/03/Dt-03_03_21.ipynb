{
 "metadata": {
  "language_info": {
   "codemirror_mode": {
    "name": "ipython",
    "version": 3
   },
   "file_extension": ".py",
   "mimetype": "text/x-python",
   "name": "python",
   "nbconvert_exporter": "python",
   "pygments_lexer": "ipython3",
   "version": "3.9.2-final"
  },
  "orig_nbformat": 2,
  "kernelspec": {
   "name": "python3",
   "display_name": "Python 3.9.2 64-bit",
   "metadata": {
    "interpreter": {
     "hash": "f9f85f796d01129d0dd105a088854619f454435301f6ffec2fea96ecbd9be4ac"
    }
   }
  }
 },
 "nbformat": 4,
 "nbformat_minor": 2,
 "cells": [
  {
   "cell_type": "code",
   "execution_count": 1,
   "metadata": {},
   "outputs": [],
   "source": [
    "tr = [(('1210','120001','27/02/2021'),('apple',3),('grapes',4)),\n",
    "      (('1211','120002','27/02/2021'),('pears',6),('mango',8),('orange',6)),\n",
    "      (('1212','120003','27/02/2021'),('pears',2),('apple',3),('orange',4),('cherry',5),('mango',6),('apple',7)),\n",
    "      (('1213','120004','28/02/2021'),('orange',9),('pears',8),('pineapple',5)),\n",
    "      (('1214','120005','28/02/2021'),('grapes',3),('apple',7)),\n",
    "      (('1215','120006','02/03/2021'),('mango',12),('orange',13),('guava',8),('Strawberry',10),('cherry',7)),\n",
    "      (('1211','120007','03/03/2021'),('dates',15),('banana',10),('orange',10)),\n",
    "      (('1214','120008','04/03/2021'),('dates',13),('banana',10),('Blackberry',2)),\n",
    "      (('1215','120009','05/03/2021'),('dates',12),('apple',10),('mango',10),('cherry',8)),\n",
    "      (('1216','120010','05/03/2021'),('apple',6),('dates',8),('jelly',5),('jackfruit',50)),\n",
    "     (('1217','120011','05/03/2021'),('mango',6),('apple',8)),\n",
    "     (('1218','120012','06/03/2021'),('Blackberry',8),('Strawberry',6),('jackfruit',60),('mango',15),('apple',10),('WaterMelon',95))]\n",
    "\n",
    "\n",
    "\n",
    "cu = [('1210','Rajesh'),('1211','Rakesh'),('1212','Sahil'),\n",
    "      ('1213','Jack'),('1214','Steve'),('1215','Rohan',),\n",
    "      ('1216','Millan',),('1217','mikul'),('1218','smile')]\n",
    "\n",
    "\n",
    "item_detail = [('1001','apple',60),('1002','orange',40),('1003','pears',30),\n",
    "               ('1004','mango',50),('1005','grapes',45),('1006','guava',40),\n",
    "             ('1007','pineapple',60),('1008','dates',100),('1009','banana',10),\n",
    "               ('1010','Strawberry',150),('1011','Blackberry',110),\n",
    "             ('1012','cherry',90),('1013','jelly',20),('1014','jackfruit',40),('1015','WaterMelon',58)]\n",
    "\n",
    "\n",
    "\n",
    "\n",
    "\n",
    "tr_cu_un = []\n",
    "\n",
    "tr_item_un = []\n",
    "\n",
    "tr_un_bill = []\n",
    "\n",
    "tr_un_date = []\n",
    "\n",
    "def cu_name_id(c_id):\n",
    "    c_id = c_id\n",
    "    for i in range(len(cu)):\n",
    "        cu_id = cu[i][0]\n",
    "        cu_name = cu[i][1]\n",
    "        if cu_id == c_id:\n",
    "            return cu_name\n",
    "        elif cu_name == c_id:\n",
    "            return cu_id \n",
    "\n",
    "def item_name_code(i_code):\n",
    "    i_code = i_code\n",
    "    for i in range(len(item_detail)):\n",
    "        tr_i_code = item_detail[i][0]\n",
    "        tr_i_name = item_detail[i][1]\n",
    "        if tr_i_code == i_code:\n",
    "            return tr_i_name\n",
    "        elif tr_i_name == i_code:\n",
    "            return tr_i_code\n",
    "\n",
    "\n",
    "for i in range(len(tr)):\n",
    "    for j in range(1,len(tr[i])):\n",
    "        cu_un_id = tr[i][0][0]\n",
    "        item_un_name = tr[i][j][0]\n",
    "        tr_bill = tr[i][0][1]\n",
    "        tr_date = tr[i][0][2]\n",
    "\n",
    "        if cu_un_id not in tr_cu_un:\n",
    "            tr_cu_un.append(cu_un_id)\n",
    "            \n",
    "\n",
    "        if item_un_name not in tr_item_un:\n",
    "            tr_item_un.append(item_un_name)\n",
    "\n",
    "\n",
    "        if tr_date not in tr_un_date:\n",
    "            tr_un_date.append(tr_date)\n",
    "        \n",
    "    tr_un_bill.append(tr_bill)\n",
    "\n",
    "def main_tr_db():\n",
    "\n",
    "    item = ''\n",
    "    quantity = 0\n",
    "    tr_cu_id = ''\n",
    "    bill = ''\n",
    "    date = ''\n",
    "    tr_cu_name = ''\n",
    "    item_code = ''\n",
    "    item_rate = 0\n",
    "    amount = 0\n",
    "    a_sum = 0\n",
    "    x = 0\n",
    "\n",
    "    print(\"{}     {}     {}  {:<8}  {:<10} {:>3} {:>3} {:>4} {:>5} \".format('bill','date','tr_cu_id','tr_cu_name','item','item_rate','quantity','amount','a_sum'))\n",
    "    print()\n",
    "\n",
    "    for i in range(len(tr)):\n",
    "        for j in range(1,len(tr[i])):\n",
    "            item = tr[i][j][0]\n",
    "            quantity = tr[i][j][1]\n",
    "            tr_cu_id = tr[i][0][0]\n",
    "            bill = tr[i][0][1]\n",
    "            date = tr[i][0][2]\n",
    "\n",
    "\n",
    "            for k in range(len(cu)):\n",
    "                if tr_cu_id == cu[k][0]:\n",
    "                    tr_cu_name = cu[k][1]\n",
    "            for l in range(len(item_detail)):\n",
    "                if item == item_detail[l][1]:\n",
    "                    item_code = item_detail[l][0]\n",
    "                    item_rate = item_detail[l][2]\n",
    "            amount = item_rate * quantity\n",
    "            a_sum = a_sum + amount\n",
    "            x = x+1\n",
    "\n",
    "\n",
    "\n",
    "\n",
    "            \n",
    "            print(\"{} {}  {}       {:<8}  {:<10} {:>3}        {:>3}     {:>4}   {:>5} \".format(bill,date,tr_cu_id,tr_cu_name,item,item_rate,quantity,amount,a_sum))\n",
    "    print()\n",
    "    print(\"Total ::                                                             {:>5}\".format(a_sum))\n",
    "\n",
    "#******************************************************************************************************************************************************\n"
   ]
  },
  {
   "cell_type": "code",
   "execution_count": null,
   "metadata": {},
   "outputs": [],
   "source": []
  },
  {
   "cell_type": "code",
   "execution_count": 2,
   "metadata": {},
   "outputs": [],
   "source": [
    "\n",
    "\n",
    "def item_cust(i_name,c_name):\n",
    "    i_name = i_name\n",
    "    c_name = c_name\n",
    "\n",
    "    item = ''\n",
    "    quantity = 0\n",
    "    tr_cu_id = ''\n",
    "    bill = ''\n",
    "    date = ''\n",
    "    tr_cu_name = ''\n",
    "    item_code = ''\n",
    "    item_rate = 0\n",
    "    amount = 0\n",
    "    c_sum = 0\n",
    "    s_amount = 0\n",
    "    x = 0\n",
    "    prn2 = 0\n",
    "    \n",
    "\n",
    "    for i in range(len(tr)):\n",
    "        for j in range(1,len(tr[i])):\n",
    "            item = tr[i][j][0]\n",
    "            quantity = tr[i][j][1]\n",
    "            tr_cu_id = tr[i][0][0]\n",
    "            bill = tr[i][0][1]\n",
    "            date = tr[i][0][2]\n",
    "\n",
    "\n",
    "            for k in range(len(cu)):\n",
    "                if tr_cu_id == cu[k][0]:\n",
    "                    tr_cu_name = cu[k][1]\n",
    "            for l in range(len(item_detail)):\n",
    "                if item == item_detail[l][1]:\n",
    "                    item_code = item_detail[l][0]\n",
    "                    item_rate = item_detail[l][2]\n",
    "            amount = item_rate * quantity\n",
    "\n",
    "            if item == i_name:\n",
    "                if tr_cu_name == c_name:\n",
    "                    s_amount = s_amount + amount   \n",
    "                    prn2 = s_amount\n",
    "    return prn2\n",
    "                \n",
    "   \n",
    "\n",
    "\n",
    "\n"
   ]
  },
  {
   "cell_type": "code",
   "execution_count": 3,
   "metadata": {},
   "outputs": [
    {
     "output_type": "execute_result",
     "data": {
      "text/plain": [
       "600"
      ]
     },
     "metadata": {},
     "execution_count": 3
    }
   ],
   "source": [
    "item_cust('apple','Sahil')"
   ]
  },
  {
   "cell_type": "code",
   "execution_count": 4,
   "metadata": {},
   "outputs": [],
   "source": [
    "#Note That\n",
    "# Last date of billing of a customer.\n",
    "# for how many days the customer haven't vist the store."
   ]
  },
  {
   "cell_type": "code",
   "execution_count": 5,
   "metadata": {},
   "outputs": [
    {
     "output_type": "execute_result",
     "data": {
      "text/plain": [
       "800"
      ]
     },
     "metadata": {},
     "execution_count": 5
    }
   ],
   "source": [
    "item_cust('dates','Millan')"
   ]
  },
  {
   "cell_type": "code",
   "execution_count": 6,
   "metadata": {},
   "outputs": [
    {
     "output_type": "execute_result",
     "data": {
      "text/plain": [
       "'1004'"
      ]
     },
     "metadata": {},
     "execution_count": 6
    }
   ],
   "source": [
    "item_name_code('mango')"
   ]
  },
  {
   "cell_type": "code",
   "execution_count": 7,
   "metadata": {},
   "outputs": [
    {
     "output_type": "execute_result",
     "data": {
      "text/plain": [
       "['1210', '1211', '1212', '1213', '1214', '1215', '1216', '1217', '1218']"
      ]
     },
     "metadata": {},
     "execution_count": 7
    }
   ],
   "source": [
    "tr_cu_un"
   ]
  },
  {
   "cell_type": "code",
   "execution_count": 8,
   "metadata": {},
   "outputs": [
    {
     "output_type": "execute_result",
     "data": {
      "text/plain": [
       "['apple',\n",
       " 'grapes',\n",
       " 'pears',\n",
       " 'mango',\n",
       " 'orange',\n",
       " 'cherry',\n",
       " 'pineapple',\n",
       " 'guava',\n",
       " 'Strawberry',\n",
       " 'dates',\n",
       " 'banana',\n",
       " 'Blackberry',\n",
       " 'jelly',\n",
       " 'jackfruit',\n",
       " 'WaterMelon']"
      ]
     },
     "metadata": {},
     "execution_count": 8
    }
   ],
   "source": [
    "tr_item_un"
   ]
  },
  {
   "cell_type": "code",
   "execution_count": 9,
   "metadata": {},
   "outputs": [
    {
     "output_type": "stream",
     "name": "stdout",
     "text": [
      "180  0  600  0  420  600  360  480  600  "
     ]
    }
   ],
   "source": [
    "\n",
    "\n",
    "for i in range(len(tr_cu_un)):\n",
    "    n = cu_name_id(tr_cu_un[i])\n",
    "    # print(n,end = '  ')\n",
    "    it = item_cust('apple',n)\n",
    "    print(it,end = '  ')"
   ]
  },
  {
   "cell_type": "code",
   "execution_count": 10,
   "metadata": {},
   "outputs": [
    {
     "output_type": "stream",
     "name": "stdout",
     "text": [
      "Rajesh   Rakesh   Sahil    Jack     Steve    Rohan    Millan   mikul    smile    \n\n  180       0     600       0     420     600     360     480     600   \n  180       0       0       0     135       0       0       0       0   \n    0     180      60     240       0       0       0       0       0   \n    0     400     300       0       0    1100       0     300     750   \n    0     640     160     360       0     520       0       0       0   \n    0       0     450       0       0    1350       0       0       0   \n"
     ]
    }
   ],
   "source": [
    "\n",
    "for i in range(len(tr_cu_un)):          #This loop prints only headings of customers.\n",
    "    cm_name = cu_name_id(tr_cu_un[i])\n",
    "    print(\"{:<7}\".format(cm_name),end = '  ')\n",
    "print()\n",
    "print()\n",
    "\n",
    "for i in range(len(tr_cu_un)):\n",
    "    n = cu_name_id(tr_cu_un[i])\n",
    "    # print(n,end = '  ')\n",
    "    it = item_cust('apple',n)\n",
    "    print(\" {:>4}\".format(it),end = '   ')\n",
    "print()\n",
    "\n",
    "\n",
    "\n",
    "for i in range(len(tr_cu_un)):\n",
    "    n = cu_name_id(tr_cu_un[i])\n",
    "    # print(n,end = '  ')\n",
    "    it = item_cust('grapes',n)\n",
    "    print(\" {:>4}\".format(it),end = '   ')\n",
    "print()\n",
    "\n",
    "\n",
    "for i in range(len(tr_cu_un)):\n",
    "    n = cu_name_id(tr_cu_un[i])\n",
    "    # print(n,end = '  ')\n",
    "    it = item_cust('pears',n)\n",
    "    print(\" {:>4}\".format(it),end = '   ')\n",
    "print()\n",
    "\n",
    "\n",
    "for i in range(len(tr_cu_un)):\n",
    "    n = cu_name_id(tr_cu_un[i])\n",
    "    # print(n,end = '  ')\n",
    "    it = item_cust('mango',n)\n",
    "    print(\" {:>4}\".format(it),end = '   ')\n",
    "print()\n",
    "\n",
    "\n",
    "\n",
    "for i in range(len(tr_cu_un)):\n",
    "    n = cu_name_id(tr_cu_un[i])\n",
    "    # print(n,end = '  ')\n",
    "    it = item_cust('orange',n)\n",
    "    print(\" {:>4}\".format(it),end = '   ')\n",
    "print()\n",
    "\n",
    "\n",
    "\n",
    "for i in range(len(tr_cu_un)):\n",
    "    n = cu_name_id(tr_cu_un[i])\n",
    "    # print(n,end = '  ')\n",
    "    it = item_cust('cherry',n)\n",
    "    print(\" {:>4}\".format(it),end = '   ')\n",
    "print()\n"
   ]
  },
  {
   "cell_type": "code",
   "execution_count": 11,
   "metadata": {},
   "outputs": [
    {
     "output_type": "stream",
     "name": "stdout",
     "text": [
      "Rajesh   Rakesh   Sahil    Jack     Steve    Rohan    Millan   mikul    smile    \n\n  180        0      600        0      420      600      360      480      600    \n  180        0        0        0      135        0        0        0        0    \n    0      180       60      240        0        0        0        0        0    \n    0      400      300        0        0     1100        0      300      750    \n    0      640      160      360        0      520        0        0        0    \n    0        0      450        0        0     1350        0        0        0    \n    0        0        0      300        0        0        0        0        0    \n    0        0        0        0        0      320        0        0        0    \n    0        0        0        0        0     1500        0        0      900    \n    0     1500        0        0     1300     1200      800        0        0    \n    0      100        0        0      100        0        0        0        0    \n    0        0        0        0      220        0        0        0      880    \n    0        0        0        0        0        0      100        0        0    \n    0        0        0        0        0        0     2000        0     2400    \n    0        0        0        0        0        0        0        0     5510    \n"
     ]
    }
   ],
   "source": [
    "for i in range(len(tr_cu_un)):\n",
    "    cm_name = cu_name_id(tr_cu_un[i])\n",
    "    print(\"{:<7} \".format(cm_name),end = ' ')\n",
    "print()\n",
    "print()\n",
    "\n",
    "for j in range(len(tr_item_un)):\n",
    "    m = tr_item_un[j]\n",
    "    for i in range(len(tr_cu_un)):\n",
    "        n = cu_name_id(tr_cu_un[i])\n",
    "        it = item_cust(m,n)\n",
    "        print(\"{:>5} \".format(it),end = '   ')\n",
    "    print()\n"
   ]
  },
  {
   "cell_type": "code",
   "execution_count": 12,
   "metadata": {},
   "outputs": [
    {
     "output_type": "stream",
     "name": "stdout",
     "text": [
      "360\n0\n1200\n0\n840\n1200\n720\n960\n1200\n"
     ]
    }
   ],
   "source": [
    "x = 0\n",
    "a = 0\n",
    "for i in range(len(tr_cu_un)):\n",
    "    m = cu_name_id(tr_cu_un[i])\n",
    "    a = item_cust('apple',m)\n",
    "    print(a+a)\n",
    "    "
   ]
  },
  {
   "cell_type": "code",
   "execution_count": 13,
   "metadata": {},
   "outputs": [
    {
     "output_type": "execute_result",
     "data": {
      "text/plain": [
       "700"
      ]
     },
     "metadata": {},
     "execution_count": 13
    }
   ],
   "source": [
    "item_cust('apple','Sahil')+100"
   ]
  },
  {
   "cell_type": "code",
   "execution_count": 14,
   "metadata": {},
   "outputs": [
    {
     "output_type": "stream",
     "name": "stdout",
     "text": [
      "Jack\n"
     ]
    }
   ],
   "source": [
    "tr_cu_un\n",
    "u = cu_name_id(tr_cu_un[3])\n",
    "print(u)"
   ]
  },
  {
   "cell_type": "code",
   "execution_count": 15,
   "metadata": {},
   "outputs": [
    {
     "output_type": "execute_result",
     "data": {
      "text/plain": [
       "['apple',\n",
       " 'grapes',\n",
       " 'pears',\n",
       " 'mango',\n",
       " 'orange',\n",
       " 'cherry',\n",
       " 'pineapple',\n",
       " 'guava',\n",
       " 'Strawberry',\n",
       " 'dates',\n",
       " 'banana',\n",
       " 'Blackberry',\n",
       " 'jelly',\n",
       " 'jackfruit',\n",
       " 'WaterMelon']"
      ]
     },
     "metadata": {},
     "execution_count": 15
    }
   ],
   "source": [
    "tr_item_un"
   ]
  },
  {
   "cell_type": "code",
   "execution_count": 16,
   "metadata": {},
   "outputs": [
    {
     "output_type": "stream",
     "name": "stdout",
     "text": [
      "apple      600\ngrapes       0\npears       60\nmango      300\norange     160\ncherry     450\npineapple    0\nguava        0\nStrawberry   0\ndates        0\nbanana       0\nBlackberry   0\njelly        0\njackfruit    0\nWaterMelon   0\n"
     ]
    }
   ],
   "source": [
    "p = 0\n",
    "for i in range(len(tr_item_un)):\n",
    "    l = tr_item_un[i]\n",
    "    #p = item_cust(l,'Sahil')\n",
    "    x = item_cust(l,'Sahil')\n",
    "    print(\"{:<10} {:>3}\".format(l,x))\n"
   ]
  },
  {
   "cell_type": "code",
   "execution_count": 17,
   "metadata": {},
   "outputs": [
    {
     "output_type": "error",
     "ename": "TypeError",
     "evalue": "unsupported operand type(s) for +: 'int' and 'str'",
     "traceback": [
      "\u001b[0;31m---------------------------------------------------------------------------\u001b[0m",
      "\u001b[0;31mTypeError\u001b[0m                                 Traceback (most recent call last)",
      "\u001b[0;32m<ipython-input-17-779262ae094b>\u001b[0m in \u001b[0;36m<module>\u001b[0;34m\u001b[0m\n\u001b[0;32m----> 1\u001b[0;31m \u001b[0;36m10\u001b[0m \u001b[0;34m+\u001b[0m \u001b[0;34m''\u001b[0m\u001b[0;34m\u001b[0m\u001b[0;34m\u001b[0m\u001b[0m\n\u001b[0m",
      "\u001b[0;31mTypeError\u001b[0m: unsupported operand type(s) for +: 'int' and 'str'"
     ]
    }
   ],
   "source": [
    "10 + ''"
   ]
  },
  {
   "cell_type": "code",
   "execution_count": 211,
   "metadata": {},
   "outputs": [
    {
     "output_type": "stream",
     "name": "stdout",
     "text": [
      "  180      0    600      0    420    600    360    480  2640\n"
     ]
    }
   ],
   "source": [
    "sum1 = 0\n",
    "for i in range(len(tr_cu_un)):\n",
    "    n = cu_name_id(tr_cu_un[i])\n",
    "    it = item_cust('apple',n)\n",
    "    sum1 = sum1 + it\n",
    "    print(\"{:>5} \".format(it),end = ' ')\n",
    "print(sum1)"
   ]
  },
  {
   "cell_type": "code",
   "execution_count": 23,
   "metadata": {},
   "outputs": [],
   "source": [
    "\n",
    "\n",
    "# for j in range(len(tr_cu_un)):\n",
    "#     name = cu_name_id(tr_cu_un[j])\n",
    "\n",
    "def col_sum(cst_name):\n",
    "    s = 0\n",
    "    cst_name = cst_name\n",
    "    for i in range(len(tr_item_un)):\n",
    "        k = tr_item_un[i]\n",
    "        a = item_cust(k,cst_name)\n",
    "        pr_h = \"{:<10} {:>3}\".format(k,a)\n",
    "        pr_o = \"{:>3}\".format(a)\n",
    "        s = s + a\n",
    "    return s"
   ]
  },
  {
   "cell_type": "code",
   "execution_count": 24,
   "metadata": {},
   "outputs": [
    {
     "output_type": "execute_result",
     "data": {
      "text/plain": [
       "2820"
      ]
     },
     "metadata": {},
     "execution_count": 24
    }
   ],
   "source": [
    "col_sum('Rakesh')"
   ]
  },
  {
   "cell_type": "code",
   "execution_count": 313,
   "metadata": {},
   "outputs": [
    {
     "output_type": "execute_result",
     "data": {
      "text/plain": [
       "'Rakesh'"
      ]
     },
     "metadata": {},
     "execution_count": 313
    }
   ],
   "source": [
    "tr_cu_un\n",
    "cu_name_id(tr_cu_un[1])"
   ]
  },
  {
   "cell_type": "code",
   "execution_count": 317,
   "metadata": {},
   "outputs": [
    {
     "output_type": "stream",
     "name": "stdout",
     "text": [
      "360 2820 1570 900 2175 6590 3260 780 "
     ]
    }
   ],
   "source": [
    "\n",
    "for i in range(len(tr_cu_un)):\n",
    "    q = cu_name_id(tr_cu_un[i])\n",
    "    pr = col_sum(q)\n",
    "    print(pr,end = ' ')"
   ]
  },
  {
   "cell_type": "code",
   "execution_count": 303,
   "metadata": {},
   "outputs": [
    {
     "output_type": "stream",
     "name": "stdout",
     "text": [
      "360\n  0\n  0\n  0\n  0\n  0\n  0\n  0\n  0\n800\n  0\n  0\n100\n2000\n3260\n"
     ]
    }
   ],
   "source": [
    "s = 0\n",
    "for i in range(len(tr_item_un)):\n",
    "    k = tr_item_un[i]\n",
    "    a = item_cust(k,'Millan')\n",
    "    pr_h = \"{:<10} {:>3}\".format(k,a)\n",
    "    pr_o = \"{:>3}\".format(a)\n",
    "    s = s + a\n",
    "    print(pr_o)\n",
    "print(s)"
   ]
  },
  {
   "cell_type": "code",
   "execution_count": 239,
   "metadata": {},
   "outputs": [],
   "source": [
    "for i in range(len(tr_cu_un)):\n",
    "    nm = cu_name_id(tr_cu_un)\n",
    "    "
   ]
  },
  {
   "cell_type": "code",
   "execution_count": 25,
   "metadata": {},
   "outputs": [
    {
     "output_type": "stream",
     "name": "stdout",
     "text": [
      "Rajesh   Rakesh   Sahil    Jack     Steve    Rohan    Millan   mikul    \n\n  180        0      600        0      420      600      360      480     2640       2640\n  180        0        0        0      135        0        0        0      315       2955\n    0      180       60      240        0        0        0        0      480       3435\n    0      400      300        0        0     1100        0      300     2100       5535\n    0      640      160      360        0      520        0        0     1680       7215\n    0        0      450        0        0     1350        0        0     1800       9015\n    0        0        0      300        0        0        0        0      300       9315\n    0        0        0        0        0      320        0        0      320       9635\n    0        0        0        0        0     1500        0        0     1500      11135\n    0     1500        0        0     1300     1200      800        0     4800      15935\n    0      100        0        0      100        0        0        0      200      16135\n    0        0        0        0      220        0        0        0      220      16355\n    0        0        0        0        0        0      100        0      100      16455\n    0        0        0        0        0        0     2000        0     2000      18455\n\n  360     2820     1570      900     2175     6590     3260      780    "
     ]
    }
   ],
   "source": [
    "\n",
    "for i in range(len(tr_cu_un)):\n",
    "    cm_name = cu_name_id(tr_cu_un[i])\n",
    "    print(\"{:<7} \".format(cm_name),end = ' ')\n",
    "print()\n",
    "print()\n",
    "\n",
    "sum_g = 0   #This is for cumulative total sum\n",
    "it = 0\n",
    "co_sum = 0\n",
    "\n",
    "\n",
    "for j in range(len(tr_item_un)):\n",
    "    sum1 = 0   #This is for each total sum\n",
    "    ina = tr_item_un[j]\n",
    "\n",
    "    for i in range(len(tr_cu_un)):\n",
    "        n = cu_name_id(tr_cu_un[i])\n",
    "        it = item_cust(ina,n)\n",
    "        sum1 = sum1 + it\n",
    "        sum_g = sum_g + it\n",
    "        print(\"{:>5} \".format(it),end = '   ')\n",
    "    print(\"{:>5} {:>10}\".format(sum1,sum_g))\n",
    "\n",
    "\n",
    "\n",
    "\n",
    "print()\n",
    "\n",
    "for i in range(len(tr_cu_un)):\n",
    "    q = cu_name_id(tr_cu_un[i])\n",
    "    pr = col_sum(q)\n",
    "    print(\"{:>5} \".format(pr),end = '   ')\n",
    "    \n",
    "    \n",
    "    "
   ]
  },
  {
   "cell_type": "code",
   "execution_count": 90,
   "metadata": {},
   "outputs": [
    {
     "output_type": "stream",
     "name": "stdout",
     "text": [
      "            Rajesh   Rakesh   Sahil    Jack     Steve    Rohan    Millan   mikul    smile    \n\napple         180        0      600        0      420      600      360      480      600     3240       3240\ngrapes        180        0        0        0      135        0        0        0        0      315       3555\npears           0      180       60      240        0        0        0        0        0      480       4035\nmango           0      400      300        0        0     1100        0      300      750     2850       6885\norange          0      640      160      360        0      520        0        0        0     1680       8565\ncherry          0        0      450        0        0     1350        0        0        0     1800      10365\npineapple       0        0        0      300        0        0        0        0        0      300      10665\nguava           0        0        0        0        0      320        0        0        0      320      10985\nStrawberry      0        0        0        0        0     1500        0        0      900     2400      13385\ndates           0     1500        0        0     1300     1200      800        0        0     4800      18185\nbanana          0      100        0        0      100        0        0        0        0      200      18385\nBlackberry      0        0        0        0      220        0        0        0      880     1100      19485\njelly           0        0        0        0        0        0      100        0        0      100      19585\njackfruit       0        0        0        0        0        0     2000        0     2400     4400      23985\nWaterMelon      0        0        0        0        0        0        0        0     5510     5510      29495\n\n              360     2820     1570      900     2175     6590     3260      780    11040    "
     ]
    }
   ],
   "source": [
    "\n",
    "print(\"{:<10}\".format(' '),end = '  ')\n",
    "\n",
    "for i in range(len(tr_cu_un)):\n",
    "    cm_name = cu_name_id(tr_cu_un[i])\n",
    "    print(\"{:<7} \".format(cm_name),end = ' ')\n",
    "print()\n",
    "print()\n",
    "\n",
    "sum_g = 0   #This is for cumulative total sum\n",
    "it = 0\n",
    "q = ''\n",
    "\n",
    "#MAIN ENGINE.\n",
    "\n",
    "for j in range(len(tr_item_un)):\n",
    "    sum1 = 0   #This is for each total sum\n",
    "    ina = tr_item_un[j]\n",
    "\n",
    "    print(\"{:<10}\".format(ina),end = '  ')\n",
    "\n",
    "    for i in range(len(tr_cu_un)):\n",
    "        n = cu_name_id(tr_cu_un[i])\n",
    "        it = item_cust(ina,n)\n",
    "        sum1 = sum1 + it\n",
    "        sum_g = sum_g + it\n",
    "        print(\"{:>5} \".format(it),end = '   ')\n",
    "    print(\"{:>5} {:>10}\".format(sum1,sum_g))\n",
    "\n",
    "\n",
    "print()\n",
    "\n",
    "#THIS PARTICULAR CODE IS FOR PRINTING COLUMN TOTAL.\n",
    "\n",
    "print(\"{:<10}\".format(' '),end = '  ')\n",
    "\n",
    "for i in range(len(tr_cu_un)):\n",
    "    s = 0\n",
    "    for j in range(len(tr_item_un)):\n",
    "        sum1 = 0   #This is for each total sum\n",
    "        ina = tr_item_un[j]\n",
    "        q = cu_name_id(tr_cu_un[i])\n",
    "        ina = tr_item_un[j]\n",
    "        a = item_cust(ina,q)     \n",
    "        s = s + a\n",
    "    print(\"{:>5} \".format(s),end = '   ')\n",
    "\n",
    "\n",
    "\n",
    "\n",
    "# for i in range(len(tr_cu_un)):\n",
    "#     q = cu_name_id(tr_cu_un[i])\n",
    "#     pr = col_sum(q)\n",
    "  #   print(\"{:>5} \".format(s),end = '   ')\n",
    "      \n",
    "    \n",
    "    "
   ]
  },
  {
   "cell_type": "code",
   "execution_count": 25,
   "metadata": {},
   "outputs": [
    {
     "output_type": "stream",
     "name": "stdout",
     "text": [
      "            Rajesh   Rakesh   Sahil    Jack     Steve    Rohan    Millan   mikul    smile    \n\napple         180        0      600        0      420      600      360      480      600     3240       3240\ngrapes        180        0        0        0      135        0        0        0        0      315       3555\npears           0      180       60      240        0        0        0        0        0      480       4035\nmango           0      400      300        0        0     1100        0      300      750     2850       6885\norange          0      640      160      360        0      520        0        0        0     1680       8565\ncherry          0        0      450        0        0     1350        0        0        0     1800      10365\npineapple       0        0        0      300        0        0        0        0        0      300      10665\nguava           0        0        0        0        0      320        0        0        0      320      10985\nStrawberry      0        0        0        0        0     1500        0        0      900     2400      13385\ndates           0     1500        0        0     1300     1200      800        0        0     4800      18185\nbanana          0      100        0        0      100        0        0        0        0      200      18385\nBlackberry      0        0        0        0      220        0        0        0      880     1100      19485\njelly           0        0        0        0        0        0      100        0        0      100      19585\njackfruit       0        0        0        0        0        0     2000        0     2400     4400      23985\nWaterMelon      0        0        0        0        0        0        0        0     5510     5510      29495\n\n              360     2820     1570      900     2175     6590     3260      780    11040    "
     ]
    }
   ],
   "source": [
    "\n",
    "\n",
    "\n",
    "print(\"{:<10}\".format(' '),end = '  ')\n",
    "for i in range(len(tr_cu_un)):\n",
    "    cm_name = cu_name_id(tr_cu_un[i])\n",
    "    print(\"{:<7} \".format(cm_name),end = ' ')\n",
    "print()\n",
    "print()\n",
    "\n",
    "sum_g = 0   #This is for cumulative total sum\n",
    "it = 0\n",
    "co_sum = 0\n",
    "\n",
    "\n",
    "for j in range(len(tr_item_un)):\n",
    "    sum1 = 0   #This is for each total sum\n",
    "    ina = tr_item_un[j]\n",
    "    print(\"{:<10}\".format(ina),end = '  ')\n",
    "\n",
    "    for i in range(len(tr_cu_un)):\n",
    "        n = cu_name_id(tr_cu_un[i])\n",
    "        it = item_cust(ina,n)\n",
    "        sum1 = sum1 + it\n",
    "        sum_g = sum_g + it\n",
    "        print(\"{:>5} \".format(it),end = '   ')\n",
    "    print(\"{:>5} {:>10}\".format(sum1,sum_g))\n",
    "\n",
    "\n",
    "\n",
    "\n",
    "print()\n",
    "print(\"{:<10}\".format(' '),end = '  ')\n",
    "for i in range(len(tr_cu_un)):\n",
    "    q = cu_name_id(tr_cu_un[i])\n",
    "    pr = col_sum(q)\n",
    "    print(\"{:>5} \".format(pr),end = '   ')\n",
    "    \n",
    "    \n",
    "    "
   ]
  },
  {
   "cell_type": "code",
   "execution_count": 55,
   "metadata": {},
   "outputs": [
    {
     "output_type": "stream",
     "name": "stdout",
     "text": [
      "Item_Name   Rajesh   Rakesh   Sahil    Jack     Steve    Rohan    Millan   mikul    smile      Sum      C_Sum\n\napple         180        0      600        0      420      600      360      480      600     3240       3240\ngrapes        180        0        0        0      135        0        0        0        0      315       3555\npears           0      180       60      240        0        0        0        0        0      480       4035\nmango           0      400      300        0        0     1100        0      300      750     2850       6885\norange          0      640      160      360        0      520        0        0        0     1680       8565\ncherry          0        0      450        0        0     1350        0        0        0     1800      10365\npineapple       0        0        0      300        0        0        0        0        0      300      10665\nguava           0        0        0        0        0      320        0        0        0      320      10985\nStrawberry      0        0        0        0        0     1500        0        0      900     2400      13385\ndates           0     1500        0        0     1300     1200      800        0        0     4800      18185\nbanana          0      100        0        0      100        0        0        0        0      200      18385\nBlackberry      0        0        0        0      220        0        0        0      880     1100      19485\njelly           0        0        0        0        0        0      100        0        0      100      19585\njackfruit       0        0        0        0        0        0     2000        0     2400     4400      23985\nWaterMelon      0        0        0        0        0        0        0        0     5510     5510      29495\n\nCol_Total     360     2820     1570      900     2175     6590     3260      780    11040    29495\n"
     ]
    }
   ],
   "source": [
    "\n",
    "\n",
    "\n",
    "print(\"{:<10}\".format('Item_Name'),end = '  ')\n",
    "for i in range(len(tr_cu_un)):\n",
    "    cm_name = cu_name_id(tr_cu_un[i])\n",
    "    print(\"{:<7} \".format(cm_name),end = ' ')\n",
    "print(\"{:>5}   {:>8}\".format('Sum','C_Sum'))\n",
    "print()\n",
    "\n",
    "\n",
    "sum_g = 0   #This is for cumulative total sum\n",
    "it = 0\n",
    "co_sum = 0\n",
    "s_sum = 0\n",
    "\n",
    "for j in range(len(tr_item_un)):\n",
    "    sum1 = 0   #This is for each total sum\n",
    "    ina = tr_item_un[j]\n",
    "    print(\"{:<10}\".format(ina),end = '  ')\n",
    "\n",
    "    for i in range(len(tr_cu_un)):\n",
    "        n = cu_name_id(tr_cu_un[i])\n",
    "        it = item_cust(ina,n)\n",
    "        sum1 = sum1 + it\n",
    "        sum_g = sum_g + it\n",
    "        print(\"{:>5} \".format(it),end = '   ')\n",
    "    print(\"{:>5} {:>10}\".format(sum1,sum_g))\n",
    "\n",
    "print()\n",
    "\n",
    "print(\"{:<10}\".format('Col_Total'),end = '  ')\n",
    "for i in range(len(tr_cu_un)):\n",
    "    q = cu_name_id(tr_cu_un[i])\n",
    "    pr = col_sum(q)\n",
    "    s_sum = s_sum + pr\n",
    "    print(\"{:>5} \".format(pr),end = '   ')\n",
    "print(s_sum)    \n",
    "    \n",
    "    "
   ]
  },
  {
   "cell_type": "code",
   "execution_count": 127,
   "metadata": {},
   "outputs": [
    {
     "output_type": "execute_result",
     "data": {
      "text/plain": [
       "1570"
      ]
     },
     "metadata": {},
     "execution_count": 127
    }
   ],
   "source": [
    "col_sum('Sahil')"
   ]
  },
  {
   "cell_type": "code",
   "execution_count": 50,
   "metadata": {},
   "outputs": [
    {
     "output_type": "stream",
     "name": "stdout",
     "text": [
      "Item_Name   Rajesh   Rakesh   Sahil    Jack     Steve    Rohan    Millan   mikul    smile      Sum      C_Sum\n\napple         180        0      600        0      420      600      360      480      600     3240       3240\ngrapes        180        0        0        0      135        0        0        0        0      315       3555\npears           0      180       60      240        0        0        0        0        0      480       4035\nmango           0      400      300        0        0     1100        0      300      750     2850       6885\norange          0      640      160      360        0      520        0        0        0     1680       8565\ncherry          0        0      450        0        0     1350        0        0        0     1800      10365\npineapple       0        0        0      300        0        0        0        0        0      300      10665\nguava           0        0        0        0        0      320        0        0        0      320      10985\nStrawberry      0        0        0        0        0     1500        0        0      900     2400      13385\ndates           0     1500        0        0     1300     1200      800        0        0     4800      18185\nbanana          0      100        0        0      100        0        0        0        0      200      18385\nBlackberry      0        0        0        0      220        0        0        0      880     1100      19485\njelly           0        0        0        0        0        0      100        0        0      100      19585\njackfruit       0        0        0        0        0        0     2000        0     2400     4400      23985\nWaterMelon      0        0        0        0        0        0        0        0     5510     5510      29495\n\nCol_Total     360     2820     1570      900     2175     6590     3260      780    11040    29495\n"
     ]
    }
   ],
   "source": [
    "\n",
    "\n",
    "\n",
    "print(\"{:<10}\".format('Item_Name'),end = '  ')\n",
    "for i in range(len(tr_cu_un)):\n",
    "    cm_name = cu_name_id(tr_cu_un[i])\n",
    "    print(\"{:<7} \".format(cm_name),end = ' ')\n",
    "print(\"{:>5}   {:>8}\".format('Sum','C_Sum'))\n",
    "print()\n",
    "\n",
    "\n",
    "sum_g = 0   #This is for cumulative total sum\n",
    "it = 0\n",
    "co_sum = 0\n",
    "s_sum = 0\n",
    "\n",
    "for j in range(len(tr_item_un)):\n",
    "    sum1 = 0   #This is for each total sum\n",
    "    ina = tr_item_un[j]\n",
    "    print(\"{:<10}\".format(ina),end = '  ')\n",
    "\n",
    "    for i in range(len(tr_cu_un)):\n",
    "        n = cu_name_id(tr_cu_un[i])\n",
    "        it = item_cust(ina,n)\n",
    "        sum1 = sum1 + it\n",
    "        sum_g = sum_g + it\n",
    "        print(\"{:>5} \".format(it),end = '   ')\n",
    "    print(\"{:>5} {:>10}\".format(sum1,sum_g))\n",
    "\n",
    "print()\n",
    "\n",
    "print(\"{:<10}\".format('Col_Total'),end = '  ')\n",
    "for i in range(len(tr_cu_un)):\n",
    "    q = cu_name_id(tr_cu_un[i])\n",
    "    pr = col_sum(q)\n",
    "    s_sum = s_sum + pr\n",
    "    print(\"{:>5} \".format(pr),end = '   ')\n",
    "print(s_sum)    \n",
    "    \n",
    "    "
   ]
  },
  {
   "cell_type": "code",
   "execution_count": 104,
   "metadata": {},
   "outputs": [
    {
     "output_type": "stream",
     "name": "stdout",
     "text": [
      "Item_Name   Rajesh   Rakesh   Sahil    Jack     Steve    Rohan    Millan   mikul    smile      Sum      C_Sum\n\napple         180        0      600        0      420      600      360      480      600     3240       3240\ngrapes        180        0        0        0      135        0        0        0        0      315       3555\npears           0      180       60      240        0        0        0        0        0      480       4035\nmango           0      400      300        0        0     1100        0      300      750     2850       6885\norange          0      640      160      360        0      520        0        0        0     1680       8565\ncherry          0        0      450        0        0     1350        0        0        0     1800      10365\npineapple       0        0        0      300        0        0        0        0        0      300      10665\nguava           0        0        0        0        0      320        0        0        0      320      10985\nStrawberry      0        0        0        0        0     1500        0        0      900     2400      13385\ndates           0     1500        0        0     1300     1200      800        0        0     4800      18185\nbanana          0      100        0        0      100        0        0        0        0      200      18385\nBlackberry      0        0        0        0      220        0        0        0      880     1100      19485\njelly           0        0        0        0        0        0      100        0        0      100      19585\njackfruit       0        0        0        0        0        0     2000        0     2400     4400      23985\nWaterMelon      0        0        0        0        0        0        0        0     5510     5510      29495\n\nCol_Total     360     2820     1570      900     2175     6590     3260      780    11040    29495\n"
     ]
    }
   ],
   "source": [
    "\n",
    "print(\"{:<10}\".format('Item_Name'),end = '  ')\n",
    "for i in range(len(tr_cu_un)):\n",
    "    cm_name = cu_name_id(tr_cu_un[i])\n",
    "    print(\"{:<7} \".format(cm_name),end = ' ')\n",
    "print(\"{:>5}   {:>8}\".format('Sum','C_Sum'))\n",
    "print()\n",
    "\n",
    "\n",
    "sum_g = 0   #This is for cumulative total sum\n",
    "it = 0\n",
    "q = ''\n",
    "#s_sum = 0\n",
    "#MAIN ENGINE.\n",
    "for j in range(len(tr_item_un)):\n",
    "    sum1 = 0   #This is for each total sum\n",
    "    ina = tr_item_un[j]\n",
    "\n",
    "    print(\"{:<10}\".format(ina),end = '  ')\n",
    "\n",
    "    for i in range(len(tr_cu_un)):\n",
    "        n = cu_name_id(tr_cu_un[i])\n",
    "        it = item_cust(ina,n)\n",
    "        sum1 = sum1 + it\n",
    "        sum_g = sum_g + it\n",
    "        print(\"{:>5} \".format(it),end = '   ')\n",
    "    print(\"{:>5} {:>10}\".format(sum1,sum_g))\n",
    "\n",
    "\n",
    "print()\n",
    "\n",
    "\n",
    "#THIS PARTICULAR CODE IS FOR PRINTING COLUMN TOTAL.\n",
    "\n",
    "print(\"{:<10}\".format('Col_Total'),end = '  ')\n",
    "s_sum = 0\n",
    "for i in range(len(tr_cu_un)):\n",
    "    s = 0\n",
    "    for j in range(len(tr_item_un)):\n",
    "        sum1 = 0   #This is for each total sum\n",
    "        ina = tr_item_un[j]\n",
    "        q = cu_name_id(tr_cu_un[i])\n",
    "        ina = tr_item_un[j]\n",
    "        a = item_cust(ina,q)     \n",
    "        s = s + a\n",
    "    s_sum = s_sum + s\n",
    "    print(\"{:>5} \".format(s),end = '   ')\n",
    "print(s_sum)\n",
    "\n",
    "\n",
    "\n",
    "# for i in range(len(tr_cu_un)):\n",
    "#     q = cu_name_id(tr_cu_un[i])\n",
    "#     pr = col_sum(q)\n",
    "  #   print(\"{:>5} \".format(s),end = '   ')\n",
    "      \n",
    "    \n",
    "    "
   ]
  },
  {
   "cell_type": "code",
   "execution_count": 94,
   "metadata": {},
   "outputs": [
    {
     "output_type": "stream",
     "name": "stdout",
     "text": [
      "Item_Name   Rajesh   Rakesh   Sahil    Jack     Steve    Rohan    Millan   mikul    smile         Sum    C_Sum\n"
     ]
    }
   ],
   "source": [
    "print(\"{:<10}\".format('Item_Name'),end = '  ')\n",
    "for i in range(len(tr_cu_un)):\n",
    "    cm_name = cu_name_id(tr_cu_un[i])\n",
    "    print(\"{:<7} \".format(cm_name),end = ' ')\n",
    "print(\"{:>8} {:>8}\".format('Sum','C_Sum'))"
   ]
  },
  {
   "cell_type": "code",
   "execution_count": 59,
   "metadata": {},
   "outputs": [
    {
     "output_type": "stream",
     "name": "stdout",
     "text": [
      "apple 180\n"
     ]
    }
   ],
   "source": [
    "print('apple',end = ' ')\n",
    "print('180')"
   ]
  },
  {
   "cell_type": "code",
   "execution_count": 47,
   "metadata": {},
   "outputs": [],
   "source": [
    "def col_sum(cst_name):\n",
    "    s = 0\n",
    "    cst_name = cst_name\n",
    "    for i in range(len(tr_item_un)):\n",
    "        k = tr_item_un[i]\n",
    "        a = item_cust(k,cst_name)\n",
    "        pr_h = \"{:<10} {:>3}\".format(k,a)\n",
    "        pr_o = \"{:>3}\".format(a)\n",
    "        s = s + a\n",
    "        #print(pr_o)\n",
    "    return s"
   ]
  },
  {
   "cell_type": "code",
   "execution_count": 48,
   "metadata": {},
   "outputs": [
    {
     "output_type": "execute_result",
     "data": {
      "text/plain": [
       "1570"
      ]
     },
     "metadata": {},
     "execution_count": 48
    }
   ],
   "source": [
    "col_sum('Sahil')"
   ]
  },
  {
   "cell_type": "code",
   "execution_count": 242,
   "metadata": {},
   "outputs": [
    {
     "output_type": "stream",
     "name": "stdout",
     "text": [
      "  180        0      600        0      420      600      360      480     2640       2640\n  180        0        0        0      135        0        0        0      315       2955\n    0      180       60      240        0        0        0        0      480       3435\n    0      400      300        0        0     1100        0      300     2100       5535\n    0      640      160      360        0      520        0        0     1680       7215\n    0        0      450        0        0     1350        0        0     1800       9015\n    0        0        0      300        0        0        0        0      300       9315\n    0        0        0        0        0      320        0        0      320       9635\n    0        0        0        0        0     1500        0        0     1500      11135\n    0     1500        0        0     1300     1200      800        0     4800      15935\n    0      100        0        0      100        0        0        0      200      16135\n    0        0        0        0      220        0        0        0      220      16355\n    0        0        0        0        0        0      100        0      100      16455\n    0        0        0        0        0        0     2000        0     2000      18455\n"
     ]
    }
   ],
   "source": [
    "sum_g = 0   #This is for cumulative total sum\n",
    "it = 0\n",
    "for j in range(len(tr_item_un)):\n",
    "    sum1 = 0   #This is for each total sum\n",
    "    m = tr_item_un[j]\n",
    "    for i in range(len(tr_cu_un)):\n",
    "        n = cu_name_id(tr_cu_un[i])\n",
    "        it = item_cust(m,n)\n",
    "        sum1 = sum1 + it\n",
    "        sum_g = sum_g + it\n",
    "        print(\"{:>5} \".format(it),end = '   ')\n",
    "    print(\"{:>5} {:>10}\".format(sum1,sum_g))\n",
    "\n"
   ]
  },
  {
   "cell_type": "code",
   "execution_count": null,
   "metadata": {},
   "outputs": [],
   "source": []
  },
  {
   "cell_type": "code",
   "execution_count": 56,
   "metadata": {},
   "outputs": [
    {
     "output_type": "stream",
     "name": "stdout",
     "text": [
      "Rajesh   Rakesh   Sahil    Jack     Steve    Rohan    Millan   mikul    \n\n  180               600               420      600      360      480    \n  180                                 135                               \n           180       60      240                                        \n           400      300                       1100               300    \n           640      160      360               520                      \n                    450                       1350                      \n                             300                                        \n                                               320                      \n                                              1500                      \n          1500                       1300     1200      800             \n           100                        100                               \n                                      220                               \n                                                        100             \n                                                       2000             \n"
     ]
    }
   ],
   "source": [
    "for i in range(len(tr_cu_un)):\n",
    "    cm_name = cu_name_id(tr_cu_un[i])\n",
    "    print(\"{:<7} \".format(cm_name),end = ' ')\n",
    "print()\n",
    "print()\n",
    "\n",
    "for j in range(len(tr_item_un)):\n",
    "    m = tr_item_un[j]\n",
    "    for i in range(len(tr_cu_un)):\n",
    "        n = cu_name_id(tr_cu_un[i])\n",
    "        it = item_cust(m,n)\n",
    "        print(\"{:>5} \".format(it),end = '   ')\n",
    "    print()\n"
   ]
  },
  {
   "cell_type": "code",
   "execution_count": 23,
   "metadata": {},
   "outputs": [
    {
     "output_type": "stream",
     "name": "stdout",
     "text": [
      "apple        600\ngrapes         0\npears          0\nmango       1100\norange       520\ncherry      1350\npineapple      0\nguava        320\nStrawberry  1500\ndates       1200\nbanana         0\nBlackberry     0\njelly          0\njackfruit      0\nWaterMelon     0\n"
     ]
    }
   ],
   "source": [
    "c = 'Rohan'\n",
    "for i in range(len(tr_item_un)):\n",
    "    a = item_cust(tr_item_un[i],c)\n",
    "    print(\"{:<10}  {:>4}\".format(tr_item_un[i],a))"
   ]
  },
  {
   "cell_type": "code",
   "execution_count": null,
   "metadata": {},
   "outputs": [],
   "source": []
  },
  {
   "cell_type": "code",
   "execution_count": 7,
   "metadata": {},
   "outputs": [
    {
     "output_type": "stream",
     "name": "stdout",
     "text": [
      "bill     date     tr_cu_id  tr_cu_name  item       item_rate quantity amount a_sum \n\n120001 27/02/2021  1210       Rajesh    apple       60          3      180     180 \n120001 27/02/2021  1210       Rajesh    grapes      45          4      180     360 \n120002 27/02/2021  1211       Rakesh    pears       30          6      180     540 \n120002 27/02/2021  1211       Rakesh    mango       50          8      400     940 \n120002 27/02/2021  1211       Rakesh    orange      40          6      240    1180 \n120003 27/02/2021  1212       Sahil     pears       30          2       60    1240 \n120003 27/02/2021  1212       Sahil     apple       60          3      180    1420 \n120003 27/02/2021  1212       Sahil     orange      40          4      160    1580 \n120003 27/02/2021  1212       Sahil     cherry      90          5      450    2030 \n120003 27/02/2021  1212       Sahil     mango       50          6      300    2330 \n120003 27/02/2021  1212       Sahil     apple       60          7      420    2750 \n120004 28/02/2021  1213       Jack      orange      40          9      360    3110 \n120004 28/02/2021  1213       Jack      pears       30          8      240    3350 \n120004 28/02/2021  1213       Jack      pineapple   60          5      300    3650 \n120005 28/02/2021  1214       Steve     grapes      45          3      135    3785 \n120005 28/02/2021  1214       Steve     apple       60          7      420    4205 \n120006 02/03/2021  1215       Rohan     mango       50         12      600    4805 \n120006 02/03/2021  1215       Rohan     orange      40         13      520    5325 \n120006 02/03/2021  1215       Rohan     guava       40          8      320    5645 \n120006 02/03/2021  1215       Rohan     Strawberry 150         10     1500    7145 \n120006 02/03/2021  1215       Rohan     cherry      90          7      630    7775 \n120007 03/03/2021  1211       Rakesh    dates      100         15     1500    9275 \n120007 03/03/2021  1211       Rakesh    banana      10         10      100    9375 \n120007 03/03/2021  1211       Rakesh    orange      40         10      400    9775 \n120008 04/03/2021  1214       Steve     dates      100         13     1300   11075 \n120008 04/03/2021  1214       Steve     banana      10         10      100   11175 \n120008 04/03/2021  1214       Steve     Blackberry 110          2      220   11395 \n120009 05/03/2021  1215       Rohan     dates      100         12     1200   12595 \n120009 05/03/2021  1215       Rohan     apple       60         10      600   13195 \n120009 05/03/2021  1215       Rohan     mango       50         10      500   13695 \n120009 05/03/2021  1215       Rohan     cherry      90          8      720   14415 \n120010 05/03/2021  1216       Millan    apple       60          6      360   14775 \n120010 05/03/2021  1216       Millan    dates      100          8      800   15575 \n120010 05/03/2021  1216       Millan    jelly       20          5      100   15675 \n120010 05/03/2021  1216       Millan    jackfruit   40         50     2000   17675 \n120011 05/03/2021  1217       mikul     mango       50          6      300   17975 \n120011 05/03/2021  1217       mikul     apple       60          8      480   18455 \n\nTotal ::                                                             18455\n"
     ]
    }
   ],
   "source": [
    "main_tr_db()"
   ]
  },
  {
   "cell_type": "code",
   "execution_count": 10,
   "metadata": {},
   "outputs": [
    {
     "output_type": "stream",
     "name": "stdout",
     "text": [
      "    450      1350      "
     ]
    }
   ],
   "source": [
    "it_name = 'cherry'\n",
    "for i in range(len(tr_cu_un)):\n",
    "    i_name = tr_cu_un[i]\n",
    "    z = cu_name_id(i_name)\n",
    "    item_cust(it_name,z)"
   ]
  },
  {
   "cell_type": "code",
   "execution_count": 106,
   "metadata": {},
   "outputs": [
    {
     "output_type": "stream",
     "name": "stdout",
     "text": [
      "Rajesh   Rakesh   Sahil    Jack     Steve    Rohan    Millan   mikul    smile    \n\napple         180        0      600        0      420      600      360      480      600     3240       3240\ngrapes        180        0        0        0      135        0        0        0        0      315       3555\npears           0      180       60      240        0        0        0        0        0      480       4035\nmango           0      400      300        0        0     1100        0      300      750     2850       6885\norange          0      640      160      360        0      520        0        0        0     1680       8565\ncherry          0        0      450        0        0     1350        0        0        0     1800      10365\npineapple       0        0        0      300        0        0        0        0        0      300      10665\nguava           0        0        0        0        0      320        0        0        0      320      10985\nStrawberry      0        0        0        0        0     1500        0        0      900     2400      13385\ndates           0     1500        0        0     1300     1200      800        0        0     4800      18185\nbanana          0      100        0        0      100        0        0        0        0      200      18385\nBlackberry      0        0        0        0      220        0        0        0      880     1100      19485\njelly           0        0        0        0        0        0      100        0        0      100      19585\njackfruit       0        0        0        0        0        0     2000        0     2400     4400      23985\nWaterMelon      0        0        0        0        0        0        0        0     5510     5510      29495\n\nCol_Total     360     2820     1570      900     2175     6590     3260      780    11040    29495\n"
     ]
    }
   ],
   "source": [
    "\n",
    "#print(\"{:<10}\".format('Item_Name'),end = '  ')\n",
    "for i in range(len(tr_cu_un)):\n",
    "    cm_name = cu_name_id(tr_cu_un[i])\n",
    "    print(\"{:<7} \".format(cm_name),end = ' ')\n",
    "#print(\"{:>5}   {:>8}\".format('Sum','C_Sum'))\n",
    "print()\n",
    "print()\n",
    "\n",
    "sum_g = 0   #This is for cumulative total sum\n",
    "it = 0\n",
    "q = ''\n",
    "#s_sum = 0\n",
    "#MAIN ENGINE.\n",
    "for j in range(len(tr_item_un)):\n",
    "    sum1 = 0   #This is for each total sum\n",
    "    ina = tr_item_un[j]\n",
    "\n",
    "    print(\"{:<10}\".format(ina),end = '  ')\n",
    "\n",
    "    for i in range(len(tr_cu_un)):\n",
    "        n = cu_name_id(tr_cu_un[i])\n",
    "        it = item_cust(ina,n)\n",
    "        sum1 = sum1 + it\n",
    "        sum_g = sum_g + it\n",
    "        print(\"{:>5} \".format(it),end = '   ')\n",
    "    print(\"{:>5} {:>10}\".format(sum1,sum_g))\n",
    "\n",
    "\n",
    "print()\n",
    "\n",
    "\n",
    "#THIS PARTICULAR CODE IS FOR PRINTING COLUMN TOTAL.\n",
    "\n",
    "print(\"{:<10}\".format('Col_Total'),end = '  ')\n",
    "s_sum = 0\n",
    "for i in range(len(tr_cu_un)):\n",
    "    s = 0\n",
    "    for j in range(len(tr_item_un)):\n",
    "        sum1 = 0   #This is for each total sum\n",
    "        ina = tr_item_un[j]\n",
    "        q = cu_name_id(tr_cu_un[i])\n",
    "        ina = tr_item_un[j]\n",
    "        a = item_cust(ina,q)     \n",
    "        s = s + a\n",
    "    s_sum = s_sum + s\n",
    "    print(\"{:>5} \".format(s),end = '   ')\n",
    "print(s_sum)\n",
    "\n",
    "\n",
    "\n",
    "      \n",
    "    \n",
    "    "
   ]
  },
  {
   "cell_type": "code",
   "execution_count": 120,
   "metadata": {},
   "outputs": [
    {
     "output_type": "stream",
     "name": "stdout",
     "text": [
      "name address class "
     ]
    }
   ],
   "source": [
    "lst = ['name','address','class']\n",
    "#print('ide',end = ' ')\n",
    "for i in lst:\n",
    "    print(i,end =' ')"
   ]
  },
  {
   "cell_type": "code",
   "execution_count": 18,
   "metadata": {},
   "outputs": [
    {
     "output_type": "stream",
     "name": "stdout",
     "text": [
      "Item_Name   Rajesh   Rakesh   Sahil    Jack     Steve    Rohan    Millan   mikul    smile      Sum      C_Sum\n\n\n"
     ]
    }
   ],
   "source": [
    "print(\"{:<10}\".format('Item_Name'),end = '  ')\n",
    "for i in range(len(tr_cu_un)):\n",
    "    cm_name = cu_name_id(tr_cu_un[i])\n",
    "    print(\"{:<7} \".format(cm_name),end = ' ')\n",
    "print(\"{:>5}   {:>8}\".format('Sum','C_Sum'))\n",
    "print()\n",
    "print()"
   ]
  },
  {
   "cell_type": "code",
   "execution_count": 20,
   "metadata": {},
   "outputs": [],
   "source": [
    "\n",
    "def item_cust_matrix():\n",
    "\n",
    "    print(\"{:<10}\".format('Item_Name'),end = '  ')\n",
    "    for i in range(len(tr_cu_un)):\n",
    "        cm_name = cu_name_id(tr_cu_un[i])\n",
    "        print(\"{:<7} \".format(cm_name),end = ' ')\n",
    "    print(\"{:>5}   {:>8}\".format('Sum','C_Sum'))\n",
    "    print()\n",
    "\n",
    "\n",
    "    sum_g = 0   #This is for cumulative total sum\n",
    "    it = 0\n",
    "    co_sum = 0\n",
    "    s_sum = 0\n",
    "\n",
    "    for j in range(len(tr_item_un)):\n",
    "        sum1 = 0   #This is for each total sum\n",
    "        ina = tr_item_un[j]\n",
    "        print(\"{:<10}\".format(ina),end = '  ')\n",
    "\n",
    "        for i in range(len(tr_cu_un)):\n",
    "            n = cu_name_id(tr_cu_un[i])\n",
    "            it = item_cust(ina,n)\n",
    "            sum1 = sum1 + it\n",
    "            sum_g = sum_g + it\n",
    "            print(\"{:>5} \".format(it),end = '   ')\n",
    "        print(\"{:>5} {:>10}\".format(sum1,sum_g))\n",
    "\n",
    "    print()\n",
    "\n",
    "    print(\"{:<10}\".format('Col_Total'),end = '  ')\n",
    "    for i in range(len(tr_cu_un)):\n",
    "        q = cu_name_id(tr_cu_un[i])\n",
    "        pr = col_sum(q)\n",
    "        s_sum = s_sum + pr\n",
    "        print(\"{:>5} \".format(pr),end = '   ')\n",
    "    print(s_sum)    \n",
    "        \n",
    "        "
   ]
  },
  {
   "cell_type": "code",
   "execution_count": 22,
   "metadata": {},
   "outputs": [
    {
     "output_type": "stream",
     "name": "stdout",
     "text": [
      "Item_Name   Rajesh   Rakesh   Sahil    Jack     Steve    Rohan    Millan   mikul    smile      Sum      C_Sum\n\napple         180        0      600        0      420      600      360      480      600     3240       3240\ngrapes        180        0        0        0      135        0        0        0        0      315       3555\npears           0      180       60      240        0        0        0        0        0      480       4035\nmango           0      400      300        0        0     1100        0      300      750     2850       6885\norange          0      640      160      360        0      520        0        0        0     1680       8565\ncherry          0        0      450        0        0     1350        0        0        0     1800      10365\npineapple       0        0        0      300        0        0        0        0        0      300      10665\nguava           0        0        0        0        0      320        0        0        0      320      10985\nStrawberry      0        0        0        0        0     1500        0        0      900     2400      13385\ndates           0     1500        0        0     1300     1200      800        0        0     4800      18185\nbanana          0      100        0        0      100        0        0        0        0      200      18385\nBlackberry      0        0        0        0      220        0        0        0      880     1100      19485\njelly           0        0        0        0        0        0      100        0        0      100      19585\njackfruit       0        0        0        0        0        0     2000        0     2400     4400      23985\nWaterMelon      0        0        0        0        0        0        0        0     5510     5510      29495\n\nCol_Total   "
     ]
    },
    {
     "output_type": "error",
     "ename": "NameError",
     "evalue": "name 'col_sum' is not defined",
     "traceback": [
      "\u001b[0;31m---------------------------------------------------------------------------\u001b[0m",
      "\u001b[0;31mNameError\u001b[0m                                 Traceback (most recent call last)",
      "\u001b[0;32m<ipython-input-22-dafffcfb9be2>\u001b[0m in \u001b[0;36m<module>\u001b[0;34m\u001b[0m\n\u001b[0;32m----> 1\u001b[0;31m \u001b[0mitem_cust_matrix\u001b[0m\u001b[0;34m(\u001b[0m\u001b[0;34m)\u001b[0m\u001b[0;34m\u001b[0m\u001b[0;34m\u001b[0m\u001b[0m\n\u001b[0m",
      "\u001b[0;32m<ipython-input-20-6466b7de12a2>\u001b[0m in \u001b[0;36mitem_cust_matrix\u001b[0;34m()\u001b[0m\n\u001b[1;32m     32\u001b[0m     \u001b[0;32mfor\u001b[0m \u001b[0mi\u001b[0m \u001b[0;32min\u001b[0m \u001b[0mrange\u001b[0m\u001b[0;34m(\u001b[0m\u001b[0mlen\u001b[0m\u001b[0;34m(\u001b[0m\u001b[0mtr_cu_un\u001b[0m\u001b[0;34m)\u001b[0m\u001b[0;34m)\u001b[0m\u001b[0;34m:\u001b[0m\u001b[0;34m\u001b[0m\u001b[0;34m\u001b[0m\u001b[0m\n\u001b[1;32m     33\u001b[0m         \u001b[0mq\u001b[0m \u001b[0;34m=\u001b[0m \u001b[0mcu_name_id\u001b[0m\u001b[0;34m(\u001b[0m\u001b[0mtr_cu_un\u001b[0m\u001b[0;34m[\u001b[0m\u001b[0mi\u001b[0m\u001b[0;34m]\u001b[0m\u001b[0;34m)\u001b[0m\u001b[0;34m\u001b[0m\u001b[0;34m\u001b[0m\u001b[0m\n\u001b[0;32m---> 34\u001b[0;31m         \u001b[0mpr\u001b[0m \u001b[0;34m=\u001b[0m \u001b[0mcol_sum\u001b[0m\u001b[0;34m(\u001b[0m\u001b[0mq\u001b[0m\u001b[0;34m)\u001b[0m\u001b[0;34m\u001b[0m\u001b[0;34m\u001b[0m\u001b[0m\n\u001b[0m\u001b[1;32m     35\u001b[0m         \u001b[0ms_sum\u001b[0m \u001b[0;34m=\u001b[0m \u001b[0ms_sum\u001b[0m \u001b[0;34m+\u001b[0m \u001b[0mpr\u001b[0m\u001b[0;34m\u001b[0m\u001b[0;34m\u001b[0m\u001b[0m\n\u001b[1;32m     36\u001b[0m         \u001b[0mprint\u001b[0m\u001b[0;34m(\u001b[0m\u001b[0;34m\"{:>5} \"\u001b[0m\u001b[0;34m.\u001b[0m\u001b[0mformat\u001b[0m\u001b[0;34m(\u001b[0m\u001b[0mpr\u001b[0m\u001b[0;34m)\u001b[0m\u001b[0;34m,\u001b[0m\u001b[0mend\u001b[0m \u001b[0;34m=\u001b[0m \u001b[0;34m'   '\u001b[0m\u001b[0;34m)\u001b[0m\u001b[0;34m\u001b[0m\u001b[0;34m\u001b[0m\u001b[0m\n",
      "\u001b[0;31mNameError\u001b[0m: name 'col_sum' is not defined"
     ]
    }
   ],
   "source": [
    "item_cust_matrix()"
   ]
  },
  {
   "cell_type": "code",
   "execution_count": 29,
   "metadata": {},
   "outputs": [],
   "source": [
    "\n",
    "\n",
    "def item_cust_detail(i_name,c_name):\n",
    "    i_name = i_name\n",
    "    c_name = c_name\n",
    "\n",
    "    item = ''\n",
    "    quantity = 0\n",
    "    tr_cu_id = ''\n",
    "    bill = ''\n",
    "    date = ''\n",
    "    tr_cu_name = ''\n",
    "    item_code = ''\n",
    "    item_rate = 0\n",
    "    amount = 0\n",
    "    c_sum = 0\n",
    "    s_amount = 0\n",
    "    x = 0\n",
    "    prn2 = 0\n",
    "    q_sum = 0\n",
    "    x = 0\n",
    "\n",
    "    print(\"{:>3}     {:<10} {:<8}  {:<6}   {:<5}   {:<5}   {:<8}  {:>3}  {:>3}  {:>6} {:>6}\".format('Sn','date','bill','item','item_code','cu_id',\\\n",
    "                'cu_name','item_rate','qty','amount','a_sum'))\n",
    "    print()\n",
    "\n",
    "    for i in range(len(tr)):\n",
    "        for j in range(1,len(tr[i])):\n",
    "            item = tr[i][j][0]\n",
    "            quantity = tr[i][j][1]\n",
    "            tr_cu_id = tr[i][0][0]\n",
    "            bill = tr[i][0][1]\n",
    "            date = tr[i][0][2]\n",
    "\n",
    "\n",
    "            for k in range(len(cu)):\n",
    "                if tr_cu_id == cu[k][0]:\n",
    "                    tr_cu_name = cu[k][1]\n",
    "            for l in range(len(item_detail)):\n",
    "                if item == item_detail[l][1]:\n",
    "                    item_code = item_detail[l][0]\n",
    "                    item_rate = item_detail[l][2]\n",
    "            amount = item_rate * quantity\n",
    "\n",
    "            if item == i_name:\n",
    "                if tr_cu_name == c_name:\n",
    "                    s_amount = s_amount + amount   \n",
    "                    q_sum = q_sum + quantity\n",
    "                    x = x+1\n",
    "                    #prn2 = s_amount\n",
    "                    print(\"{:>3}  {:<10}   {:<8}  {:<10} {:<5}      {:<5}   {:<8}    {:>3}    {:>3} {:>6}   {:>6}\".format(x,date,bill,item,\\\n",
    "                    item_code,tr_cu_id,tr_cu_name,item_rate,quantity,amount,s_amount))\n",
    "    print()\n",
    "    print(\"Total ::                                                                    {:>4} {:>6}\".format(q_sum,s_amount))\n",
    "    #return prn2\n",
    "                \n",
    "   "
   ]
  },
  {
   "cell_type": "code",
   "execution_count": 167,
   "metadata": {},
   "outputs": [
    {
     "output_type": "stream",
     "name": "stdout",
     "text": [
      " Sn     date       bill      item     item_code   cu_id   cu_name   item_rate  qty  amount  a_sum\n\n  1  27/02/2021   120003    apple      1001       1212    Sahil        60      3    180      180\n  2  27/02/2021   120003    apple      1001       1212    Sahil        60      7    420      600\n\nTotal ::                                                                      10    600\n"
     ]
    }
   ],
   "source": [
    "item_cust_detail('apple','Sahil')"
   ]
  },
  {
   "cell_type": "code",
   "execution_count": 190,
   "metadata": {},
   "outputs": [
    {
     "output_type": "stream",
     "name": "stdout",
     "text": [
      "====================================================================================================\n\nMillan     apple        360\n\n====================================================================================================\n\n Sn     date       bill      item     item_code   cu_id   cu_name   item_rate  qty  amount  a_sum\n\n  1  05/03/2021   120010    apple      1001       1216    Millan       60      6    360      360\n\nTotal ::                                                                       6    360\n\n****************************************************************************************************\n\n\n====================================================================================================\n\nMillan     dates        800\n\n====================================================================================================\n\n Sn     date       bill      item     item_code   cu_id   cu_name   item_rate  qty  amount  a_sum\n\n  1  05/03/2021   120010    dates      1008       1216    Millan      100      8    800      800\n\nTotal ::                                                                       8    800\n\n****************************************************************************************************\n\n\n====================================================================================================\n\nMillan     jelly        100\n\n====================================================================================================\n\n Sn     date       bill      item     item_code   cu_id   cu_name   item_rate  qty  amount  a_sum\n\n  1  05/03/2021   120010    jelly      1013       1216    Millan       20      5    100      100\n\nTotal ::                                                                       5    100\n\n****************************************************************************************************\n\n\n====================================================================================================\n\nMillan     jackfruit   2000\n\n====================================================================================================\n\n Sn     date       bill      item     item_code   cu_id   cu_name   item_rate  qty  amount  a_sum\n\n  1  05/03/2021   120010    jackfruit  1014       1216    Millan       40     50   2000     2000\n\nTotal ::                                                                      50   2000\n\n****************************************************************************************************\n\n\n"
     ]
    }
   ],
   "source": [
    "c = 'Millan'\n",
    "\n",
    "\n",
    "for i in range(len(tr_item_un)):\n",
    "    s = tr_item_un[i]\n",
    "    m = item_cust(s,c)\n",
    "    if m != 0:\n",
    "        print('='*100)\n",
    "        print()\n",
    "        print(\"{:<10} {:<10} {:>5}\".format(c,s,m))\n",
    "        print()\n",
    "        print('='*100)\n",
    "        print()\n",
    "        y = item_cust_detail(s,c)\n",
    "        print()\n",
    "        print('*'*100)\n",
    "        print()\n",
    "        print()"
   ]
  },
  {
   "cell_type": "code",
   "execution_count": 171,
   "metadata": {},
   "outputs": [
    {
     "output_type": "execute_result",
     "data": {
      "text/plain": [
       "600"
      ]
     },
     "metadata": {},
     "execution_count": 171
    }
   ],
   "source": [
    "item_cust('apple','Sahil')"
   ]
  },
  {
   "cell_type": "code",
   "execution_count": 50,
   "metadata": {},
   "outputs": [],
   "source": [
    "def cust_wise_item_detail(c_name):\n",
    "    c_name = c_name\n",
    "\n",
    "    c = c_name\n",
    "    for i in range(len(tr_item_un)):\n",
    "        s = tr_item_un[i]\n",
    "        m = item_cust(s,c)\n",
    "        if m != 0:\n",
    "            print('='*100)\n",
    "            print()\n",
    "            print(\"{:<10} {:<10} {:>5}\".format(c,s,m))\n",
    "            print()\n",
    "            print('='*100)\n",
    "            print()\n",
    "            y = item_cust_detail(s,c)\n",
    "            print()\n",
    "            print('*'*100)\n",
    "            print()\n",
    "            print()"
   ]
  },
  {
   "cell_type": "code",
   "execution_count": 51,
   "metadata": {},
   "outputs": [
    {
     "output_type": "stream",
     "name": "stdout",
     "text": [
      "====================================================================================================\n\nsmile      apple        600\n\n====================================================================================================\n\n Sn     date       bill      item     item_code   cu_id   cu_name   item_rate  qty  amount  a_sum\n\n  1  06/03/2021   120012    apple      1001       1218    smile        60     10    600      600\n\nTotal ::                                                                      10    600\n\n****************************************************************************************************\n\n\n====================================================================================================\n\nsmile      mango        750\n\n====================================================================================================\n\n Sn     date       bill      item     item_code   cu_id   cu_name   item_rate  qty  amount  a_sum\n\n  1  06/03/2021   120012    mango      1004       1218    smile        50     15    750      750\n\nTotal ::                                                                      15    750\n\n****************************************************************************************************\n\n\n====================================================================================================\n\nsmile      Strawberry   900\n\n====================================================================================================\n\n Sn     date       bill      item     item_code   cu_id   cu_name   item_rate  qty  amount  a_sum\n\n  1  06/03/2021   120012    Strawberry 1010       1218    smile       150      6    900      900\n\nTotal ::                                                                       6    900\n\n****************************************************************************************************\n\n\n====================================================================================================\n\nsmile      Blackberry   880\n\n====================================================================================================\n\n Sn     date       bill      item     item_code   cu_id   cu_name   item_rate  qty  amount  a_sum\n\n  1  06/03/2021   120012    Blackberry 1011       1218    smile       110      8    880      880\n\nTotal ::                                                                       8    880\n\n****************************************************************************************************\n\n\n====================================================================================================\n\nsmile      jackfruit   2400\n\n====================================================================================================\n\n Sn     date       bill      item     item_code   cu_id   cu_name   item_rate  qty  amount  a_sum\n\n  1  06/03/2021   120012    jackfruit  1014       1218    smile        40     60   2400     2400\n\nTotal ::                                                                      60   2400\n\n****************************************************************************************************\n\n\n====================================================================================================\n\nsmile      WaterMelon  5510\n\n====================================================================================================\n\n Sn     date       bill      item     item_code   cu_id   cu_name   item_rate  qty  amount  a_sum\n\n  1  06/03/2021   120012    WaterMelon 1015       1218    smile        58     95   5510     5510\n\nTotal ::                                                                      95   5510\n\n****************************************************************************************************\n\n\n"
     ]
    }
   ],
   "source": [
    "cust_wise_item_detail('smile')"
   ]
  },
  {
   "cell_type": "code",
   "execution_count": 52,
   "metadata": {},
   "outputs": [],
   "source": [
    "def item_wise_cust_detail(i_name):\n",
    "    i_name = i_name\n",
    "\n",
    "    w = i_name\n",
    "    for i in range(len(tr_cu_un)):\n",
    "        s = cu_name_id(tr_cu_un[i])\n",
    "        m = item_cust(w,s)\n",
    "        if m != 0:\n",
    "            print('='*100)\n",
    "            print()\n",
    "            print(\"{:<10} {:<10} {:>5}\".format(w,s,m))\n",
    "            print()\n",
    "            print('='*100)\n",
    "            print()\n",
    "            y = item_cust_detail(w,s)\n",
    "            print()\n",
    "            print('*'*100)\n",
    "            print()\n",
    "            print()"
   ]
  },
  {
   "cell_type": "code",
   "execution_count": 53,
   "metadata": {},
   "outputs": [
    {
     "output_type": "stream",
     "name": "stdout",
     "text": [
      "====================================================================================================\n\napple      Rajesh       180\n\n====================================================================================================\n\n Sn     date       bill      item     item_code   cu_id   cu_name   item_rate  qty  amount  a_sum\n\n  1  27/02/2021   120001    apple      1001       1210    Rajesh       60      3    180      180\n\nTotal ::                                                                       3    180\n\n****************************************************************************************************\n\n\n====================================================================================================\n\napple      Sahil        600\n\n====================================================================================================\n\n Sn     date       bill      item     item_code   cu_id   cu_name   item_rate  qty  amount  a_sum\n\n  1  27/02/2021   120003    apple      1001       1212    Sahil        60      3    180      180\n  2  27/02/2021   120003    apple      1001       1212    Sahil        60      7    420      600\n\nTotal ::                                                                      10    600\n\n****************************************************************************************************\n\n\n====================================================================================================\n\napple      Steve        420\n\n====================================================================================================\n\n Sn     date       bill      item     item_code   cu_id   cu_name   item_rate  qty  amount  a_sum\n\n  1  28/02/2021   120005    apple      1001       1214    Steve        60      7    420      420\n\nTotal ::                                                                       7    420\n\n****************************************************************************************************\n\n\n====================================================================================================\n\napple      Rohan        600\n\n====================================================================================================\n\n Sn     date       bill      item     item_code   cu_id   cu_name   item_rate  qty  amount  a_sum\n\n  1  05/03/2021   120009    apple      1001       1215    Rohan        60     10    600      600\n\nTotal ::                                                                      10    600\n\n****************************************************************************************************\n\n\n====================================================================================================\n\napple      Millan       360\n\n====================================================================================================\n\n Sn     date       bill      item     item_code   cu_id   cu_name   item_rate  qty  amount  a_sum\n\n  1  05/03/2021   120010    apple      1001       1216    Millan       60      6    360      360\n\nTotal ::                                                                       6    360\n\n****************************************************************************************************\n\n\n====================================================================================================\n\napple      mikul        480\n\n====================================================================================================\n\n Sn     date       bill      item     item_code   cu_id   cu_name   item_rate  qty  amount  a_sum\n\n  1  05/03/2021   120011    apple      1001       1217    mikul        60      8    480      480\n\nTotal ::                                                                       8    480\n\n****************************************************************************************************\n\n\n====================================================================================================\n\napple      smile        600\n\n====================================================================================================\n\n Sn     date       bill      item     item_code   cu_id   cu_name   item_rate  qty  amount  a_sum\n\n  1  06/03/2021   120012    apple      1001       1218    smile        60     10    600      600\n\nTotal ::                                                                      10    600\n\n****************************************************************************************************\n\n\n"
     ]
    }
   ],
   "source": [
    "item_wise_cust_detail('apple')"
   ]
  },
  {
   "cell_type": "code",
   "execution_count": 31,
   "metadata": {},
   "outputs": [],
   "source": [
    "def item_wise_cust_detail01(*i_name):\n",
    "    # it_name = i_name\n",
    "    \n",
    "    for j in i_name:\n",
    "        w = j\n",
    "        for i in range(len(tr_cu_un)):\n",
    "            s = cu_name_id(tr_cu_un[i])\n",
    "            m = item_cust(w,s)\n",
    "            if m != 0:\n",
    "                print('='*100)\n",
    "                print()\n",
    "                print(\"{:<10} {:<10} {:>5}\".format(w,s,m))\n",
    "                print()\n",
    "                print('='*100)\n",
    "                print()\n",
    "                y = item_cust_detail(w,s)\n",
    "                print()\n",
    "                print('*'*100)\n",
    "                print()\n",
    "                print()"
   ]
  },
  {
   "cell_type": "code",
   "execution_count": 36,
   "metadata": {},
   "outputs": [
    {
     "output_type": "stream",
     "name": "stdout",
     "text": [
      "====================================================================================================\n\napple      Rajesh       180\n\n====================================================================================================\n\n Sn     date       bill      item     item_code   cu_id   cu_name   item_rate  qty  amount  a_sum\n\n  1  27/02/2021   120001    apple      1001       1210    Rajesh       60      3    180      180\n\nTotal ::                                                                       3    180\n\n****************************************************************************************************\n\n\n====================================================================================================\n\napple      Sahil        600\n\n====================================================================================================\n\n Sn     date       bill      item     item_code   cu_id   cu_name   item_rate  qty  amount  a_sum\n\n  1  27/02/2021   120003    apple      1001       1212    Sahil        60      3    180      180\n  2  27/02/2021   120003    apple      1001       1212    Sahil        60      7    420      600\n\nTotal ::                                                                      10    600\n\n****************************************************************************************************\n\n\n====================================================================================================\n\napple      Steve        420\n\n====================================================================================================\n\n Sn     date       bill      item     item_code   cu_id   cu_name   item_rate  qty  amount  a_sum\n\n  1  28/02/2021   120005    apple      1001       1214    Steve        60      7    420      420\n\nTotal ::                                                                       7    420\n\n****************************************************************************************************\n\n\n====================================================================================================\n\napple      Rohan        600\n\n====================================================================================================\n\n Sn     date       bill      item     item_code   cu_id   cu_name   item_rate  qty  amount  a_sum\n\n  1  05/03/2021   120009    apple      1001       1215    Rohan        60     10    600      600\n\nTotal ::                                                                      10    600\n\n****************************************************************************************************\n\n\n====================================================================================================\n\napple      Millan       360\n\n====================================================================================================\n\n Sn     date       bill      item     item_code   cu_id   cu_name   item_rate  qty  amount  a_sum\n\n  1  05/03/2021   120010    apple      1001       1216    Millan       60      6    360      360\n\nTotal ::                                                                       6    360\n\n****************************************************************************************************\n\n\n====================================================================================================\n\napple      mikul        480\n\n====================================================================================================\n\n Sn     date       bill      item     item_code   cu_id   cu_name   item_rate  qty  amount  a_sum\n\n  1  05/03/2021   120011    apple      1001       1217    mikul        60      8    480      480\n\nTotal ::                                                                       8    480\n\n****************************************************************************************************\n\n\n====================================================================================================\n\napple      smile        600\n\n====================================================================================================\n\n Sn     date       bill      item     item_code   cu_id   cu_name   item_rate  qty  amount  a_sum\n\n  1  06/03/2021   120012    apple      1001       1218    smile        60     10    600      600\n\nTotal ::                                                                      10    600\n\n****************************************************************************************************\n\n\n====================================================================================================\n\norange     Rakesh       640\n\n====================================================================================================\n\n Sn     date       bill      item     item_code   cu_id   cu_name   item_rate  qty  amount  a_sum\n\n  1  27/02/2021   120002    orange     1002       1211    Rakesh       40      6    240      240\n  2  03/03/2021   120007    orange     1002       1211    Rakesh       40     10    400      640\n\nTotal ::                                                                      16    640\n\n****************************************************************************************************\n\n\n====================================================================================================\n\norange     Sahil        160\n\n====================================================================================================\n\n Sn     date       bill      item     item_code   cu_id   cu_name   item_rate  qty  amount  a_sum\n\n  1  27/02/2021   120003    orange     1002       1212    Sahil        40      4    160      160\n\nTotal ::                                                                       4    160\n\n****************************************************************************************************\n\n\n====================================================================================================\n\norange     Jack         360\n\n====================================================================================================\n\n Sn     date       bill      item     item_code   cu_id   cu_name   item_rate  qty  amount  a_sum\n\n  1  28/02/2021   120004    orange     1002       1213    Jack         40      9    360      360\n\nTotal ::                                                                       9    360\n\n****************************************************************************************************\n\n\n====================================================================================================\n\norange     Rohan        520\n\n====================================================================================================\n\n Sn     date       bill      item     item_code   cu_id   cu_name   item_rate  qty  amount  a_sum\n\n  1  02/03/2021   120006    orange     1002       1215    Rohan        40     13    520      520\n\nTotal ::                                                                      13    520\n\n****************************************************************************************************\n\n\n====================================================================================================\n\ngrapes     Rajesh       180\n\n====================================================================================================\n\n Sn     date       bill      item     item_code   cu_id   cu_name   item_rate  qty  amount  a_sum\n\n  1  27/02/2021   120001    grapes     1005       1210    Rajesh       45      4    180      180\n\nTotal ::                                                                       4    180\n\n****************************************************************************************************\n\n\n====================================================================================================\n\ngrapes     Steve        135\n\n====================================================================================================\n\n Sn     date       bill      item     item_code   cu_id   cu_name   item_rate  qty  amount  a_sum\n\n  1  28/02/2021   120005    grapes     1005       1214    Steve        45      3    135      135\n\nTotal ::                                                                       3    135\n\n****************************************************************************************************\n\n\n"
     ]
    }
   ],
   "source": [
    "item_wise_cust_detail01('apple','orange','grapes')"
   ]
  },
  {
   "cell_type": "code",
   "execution_count": 44,
   "metadata": {},
   "outputs": [],
   "source": [
    "a = ['apple','orange']\n",
    "item_wise_cust_detail01(a)"
   ]
  },
  {
   "cell_type": "code",
   "execution_count": 286,
   "metadata": {},
   "outputs": [],
   "source": [
    "def sum_total(*n):\n",
    "    x = 0\n",
    "    for i in n:\n",
    "        x = x+i\n",
    "    print(x)"
   ]
  },
  {
   "cell_type": "code",
   "execution_count": 253,
   "metadata": {},
   "outputs": [
    {
     "output_type": "stream",
     "name": "stdout",
     "text": [
      "11\n"
     ]
    }
   ],
   "source": [
    "sum_total(11)"
   ]
  },
  {
   "cell_type": "code",
   "execution_count": 265,
   "metadata": {},
   "outputs": [],
   "source": [
    "def sum_total1(*n):\n",
    "    x = 0\n",
    "    for i in n:\n",
    "        x = x+i\n",
    "    print(x)"
   ]
  },
  {
   "cell_type": "code",
   "execution_count": 266,
   "metadata": {},
   "outputs": [
    {
     "output_type": "stream",
     "name": "stdout",
     "text": [
      "131\n"
     ]
    }
   ],
   "source": [
    "sum_total1(12,20,12,45,10,32)"
   ]
  },
  {
   "cell_type": "code",
   "execution_count": 45,
   "metadata": {},
   "outputs": [],
   "source": [
    "\n",
    "def item_wise_cust_detail12(i_name):\n",
    "    # it_name = i_name\n",
    "    \n",
    "    for j in i_name:\n",
    "        w = j\n",
    "        for i in range(len(tr_cu_un)):\n",
    "            s = cu_name_id(tr_cu_un[i])\n",
    "            m = item_cust(w,s)\n",
    "            if m != 0:\n",
    "                print('='*100)\n",
    "                print()\n",
    "                print(\"{:<10} {:<10} {:>5}\".format(w,s,m))\n",
    "                print()\n",
    "                print('='*100)\n",
    "                print()\n",
    "                y = item_cust_detail(w,s)\n",
    "                print()\n",
    "                print('*'*100)\n",
    "                print()\n",
    "                print()"
   ]
  },
  {
   "cell_type": "code",
   "execution_count": 49,
   "metadata": {},
   "outputs": [
    {
     "output_type": "stream",
     "name": "stdout",
     "text": [
      "====================================================================================================\n\napple      Rajesh       180\n\n====================================================================================================\n\n Sn     date       bill      item     item_code   cu_id   cu_name   item_rate  qty  amount  a_sum\n\n  1  27/02/2021   120001    apple      1001       1210    Rajesh       60      3    180      180\n\nTotal ::                                                                       3    180\n\n****************************************************************************************************\n\n\n====================================================================================================\n\napple      Sahil        600\n\n====================================================================================================\n\n Sn     date       bill      item     item_code   cu_id   cu_name   item_rate  qty  amount  a_sum\n\n  1  27/02/2021   120003    apple      1001       1212    Sahil        60      3    180      180\n  2  27/02/2021   120003    apple      1001       1212    Sahil        60      7    420      600\n\nTotal ::                                                                      10    600\n\n****************************************************************************************************\n\n\n====================================================================================================\n\napple      Steve        420\n\n====================================================================================================\n\n Sn     date       bill      item     item_code   cu_id   cu_name   item_rate  qty  amount  a_sum\n\n  1  28/02/2021   120005    apple      1001       1214    Steve        60      7    420      420\n\nTotal ::                                                                       7    420\n\n****************************************************************************************************\n\n\n====================================================================================================\n\napple      Rohan        600\n\n====================================================================================================\n\n Sn     date       bill      item     item_code   cu_id   cu_name   item_rate  qty  amount  a_sum\n\n  1  05/03/2021   120009    apple      1001       1215    Rohan        60     10    600      600\n\nTotal ::                                                                      10    600\n\n****************************************************************************************************\n\n\n====================================================================================================\n\napple      Millan       360\n\n====================================================================================================\n\n Sn     date       bill      item     item_code   cu_id   cu_name   item_rate  qty  amount  a_sum\n\n  1  05/03/2021   120010    apple      1001       1216    Millan       60      6    360      360\n\nTotal ::                                                                       6    360\n\n****************************************************************************************************\n\n\n====================================================================================================\n\napple      mikul        480\n\n====================================================================================================\n\n Sn     date       bill      item     item_code   cu_id   cu_name   item_rate  qty  amount  a_sum\n\n  1  05/03/2021   120011    apple      1001       1217    mikul        60      8    480      480\n\nTotal ::                                                                       8    480\n\n****************************************************************************************************\n\n\n====================================================================================================\n\napple      smile        600\n\n====================================================================================================\n\n Sn     date       bill      item     item_code   cu_id   cu_name   item_rate  qty  amount  a_sum\n\n  1  06/03/2021   120012    apple      1001       1218    smile        60     10    600      600\n\nTotal ::                                                                      10    600\n\n****************************************************************************************************\n\n\n"
     ]
    }
   ],
   "source": [
    "b = ['apple']\n",
    "item_wise_cust_detail12(b)"
   ]
  },
  {
   "cell_type": "code",
   "execution_count": 46,
   "metadata": {},
   "outputs": [
    {
     "output_type": "stream",
     "name": "stdout",
     "text": [
      "====================================================================================================\n\nmango      Rakesh       400\n\n====================================================================================================\n\n Sn     date       bill      item     item_code   cu_id   cu_name   item_rate  qty  amount  a_sum\n\n  1  27/02/2021   120002    mango      1004       1211    Rakesh       50      8    400      400\n\nTotal ::                                                                       8    400\n\n****************************************************************************************************\n\n\n====================================================================================================\n\nmango      Sahil        300\n\n====================================================================================================\n\n Sn     date       bill      item     item_code   cu_id   cu_name   item_rate  qty  amount  a_sum\n\n  1  27/02/2021   120003    mango      1004       1212    Sahil        50      6    300      300\n\nTotal ::                                                                       6    300\n\n****************************************************************************************************\n\n\n====================================================================================================\n\nmango      Rohan       1100\n\n====================================================================================================\n\n Sn     date       bill      item     item_code   cu_id   cu_name   item_rate  qty  amount  a_sum\n\n  1  02/03/2021   120006    mango      1004       1215    Rohan        50     12    600      600\n  2  05/03/2021   120009    mango      1004       1215    Rohan        50     10    500     1100\n\nTotal ::                                                                      22   1100\n\n****************************************************************************************************\n\n\n====================================================================================================\n\nmango      mikul        300\n\n====================================================================================================\n\n Sn     date       bill      item     item_code   cu_id   cu_name   item_rate  qty  amount  a_sum\n\n  1  05/03/2021   120011    mango      1004       1217    mikul        50      6    300      300\n\nTotal ::                                                                       6    300\n\n****************************************************************************************************\n\n\n====================================================================================================\n\nmango      smile        750\n\n====================================================================================================\n\n Sn     date       bill      item     item_code   cu_id   cu_name   item_rate  qty  amount  a_sum\n\n  1  06/03/2021   120012    mango      1004       1218    smile        50     15    750      750\n\nTotal ::                                                                      15    750\n\n****************************************************************************************************\n\n\n====================================================================================================\n\npears      Rakesh       180\n\n====================================================================================================\n\n Sn     date       bill      item     item_code   cu_id   cu_name   item_rate  qty  amount  a_sum\n\n  1  27/02/2021   120002    pears      1003       1211    Rakesh       30      6    180      180\n\nTotal ::                                                                       6    180\n\n****************************************************************************************************\n\n\n====================================================================================================\n\npears      Sahil         60\n\n====================================================================================================\n\n Sn     date       bill      item     item_code   cu_id   cu_name   item_rate  qty  amount  a_sum\n\n  1  27/02/2021   120003    pears      1003       1212    Sahil        30      2     60       60\n\nTotal ::                                                                       2     60\n\n****************************************************************************************************\n\n\n====================================================================================================\n\npears      Jack         240\n\n====================================================================================================\n\n Sn     date       bill      item     item_code   cu_id   cu_name   item_rate  qty  amount  a_sum\n\n  1  28/02/2021   120004    pears      1003       1213    Jack         30      8    240      240\n\nTotal ::                                                                       8    240\n\n****************************************************************************************************\n\n\n"
     ]
    }
   ],
   "source": [
    "a = ['mango','pears']\n",
    "item_wise_cust_detail12(a)"
   ]
  },
  {
   "cell_type": "code",
   "execution_count": 346,
   "metadata": {},
   "outputs": [],
   "source": [
    "def main_tr_db_101(i_name = None):\n",
    "\n",
    "    i_name = i_name\n",
    "\n",
    "    item = ''\n",
    "    quantity = 0\n",
    "    tr_cu_id = ''\n",
    "    bill = ''\n",
    "    date = ''\n",
    "    tr_cu_name = ''\n",
    "    item_code = ''\n",
    "    item_rate = 0\n",
    "    amount = 0\n",
    "    a_sum = 0\n",
    "    x = 0\n",
    "    f_sum = 0\n",
    "    prn = 0\n",
    "    prn1 = 0\n",
    "\n",
    "    print(\"{}     {}     {}  {:<8}  {:<10} {:>3} {:>3} {:>4} {:>5} \".format('bill','date','tr_cu_id','tr_cu_name','item','item_rate','quantity','amount','a_sum'))\n",
    "    print()\n",
    "\n",
    "    for i in range(len(tr)):\n",
    "        for j in range(1,len(tr[i])):\n",
    "            item = tr[i][j][0]\n",
    "            quantity = tr[i][j][1]\n",
    "            tr_cu_id = tr[i][0][0]\n",
    "            bill = tr[i][0][1]\n",
    "            date = tr[i][0][2]\n",
    "\n",
    "\n",
    "            for k in range(len(cu)):\n",
    "                if tr_cu_id == cu[k][0]:\n",
    "                    tr_cu_name = cu[k][1]\n",
    "            for l in range(len(item_detail)):\n",
    "                if item == item_detail[l][1]:\n",
    "                    item_code = item_detail[l][0]\n",
    "                    item_rate = item_detail[l][2]\n",
    "            amount = item_rate * quantity\n",
    "            a_sum = a_sum + amount\n",
    "            x = x+1\n",
    "\n",
    "            if i_name == None:\n",
    "                print(\"{} {}  {}       {:<8}  {:<10} {:>3}        {:>3}     {:>4}   {:>5} \".format(bill,date,tr_cu_id,tr_cu_name,item,item_rate,\\\n",
    "                                                                                                   quantity,amount,a_sum))\n",
    "                prn = (\"Total ::                                                             {:>5}\".format(a_sum))\n",
    "\n",
    "            else:\n",
    "                if item == i_name:\n",
    "                    f_sum = f_sum + amount\n",
    "\n",
    "                    print(\"{} {}  {}       {:<8}  {:<10} {:>3}        {:>3}     {:>4}   {:>5} \".format(bill,date,tr_cu_id,tr_cu_name,item,item_rate,\\\n",
    "                                                                                                       quantity,amount,a_sum))\n",
    "                    prn1 = (\"Total ::                                                             {:>5}\".format(f_sum))\n",
    "    \n",
    "    print()\n",
    "    if i_name == None:\n",
    "        print(prn)\n",
    "    else:\n",
    "        print(prn1)\n",
    "\n",
    "    print()\n",
    "    #print(\"Total ::                                                             {:>5}\".format(a_sum))\n",
    "\n"
   ]
  },
  {
   "cell_type": "code",
   "execution_count": 348,
   "metadata": {},
   "outputs": [
    {
     "output_type": "stream",
     "name": "stdout",
     "text": [
      "bill     date     tr_cu_id  tr_cu_name  item       item_rate quantity amount a_sum \n\n120001 27/02/2021  1210       Rajesh    apple       60          3      180     180 \n120001 27/02/2021  1210       Rajesh    grapes      45          4      180     360 \n120002 27/02/2021  1211       Rakesh    pears       30          6      180     540 \n120002 27/02/2021  1211       Rakesh    mango       50          8      400     940 \n120002 27/02/2021  1211       Rakesh    orange      40          6      240    1180 \n120003 27/02/2021  1212       Sahil     pears       30          2       60    1240 \n120003 27/02/2021  1212       Sahil     apple       60          3      180    1420 \n120003 27/02/2021  1212       Sahil     orange      40          4      160    1580 \n120003 27/02/2021  1212       Sahil     cherry      90          5      450    2030 \n120003 27/02/2021  1212       Sahil     mango       50          6      300    2330 \n120003 27/02/2021  1212       Sahil     apple       60          7      420    2750 \n120004 28/02/2021  1213       Jack      orange      40          9      360    3110 \n120004 28/02/2021  1213       Jack      pears       30          8      240    3350 \n120004 28/02/2021  1213       Jack      pineapple   60          5      300    3650 \n120005 28/02/2021  1214       Steve     grapes      45          3      135    3785 \n120005 28/02/2021  1214       Steve     apple       60          7      420    4205 \n120006 02/03/2021  1215       Rohan     mango       50         12      600    4805 \n120006 02/03/2021  1215       Rohan     orange      40         13      520    5325 \n120006 02/03/2021  1215       Rohan     guava       40          8      320    5645 \n120006 02/03/2021  1215       Rohan     Strawberry 150         10     1500    7145 \n120006 02/03/2021  1215       Rohan     cherry      90          7      630    7775 \n120007 03/03/2021  1211       Rakesh    dates      100         15     1500    9275 \n120007 03/03/2021  1211       Rakesh    banana      10         10      100    9375 \n120007 03/03/2021  1211       Rakesh    orange      40         10      400    9775 \n120008 04/03/2021  1214       Steve     dates      100         13     1300   11075 \n120008 04/03/2021  1214       Steve     banana      10         10      100   11175 \n120008 04/03/2021  1214       Steve     Blackberry 110          2      220   11395 \n120009 05/03/2021  1215       Rohan     dates      100         12     1200   12595 \n120009 05/03/2021  1215       Rohan     apple       60         10      600   13195 \n120009 05/03/2021  1215       Rohan     mango       50         10      500   13695 \n120009 05/03/2021  1215       Rohan     cherry      90          8      720   14415 \n120010 05/03/2021  1216       Millan    apple       60          6      360   14775 \n120010 05/03/2021  1216       Millan    dates      100          8      800   15575 \n120010 05/03/2021  1216       Millan    jelly       20          5      100   15675 \n120010 05/03/2021  1216       Millan    jackfruit   40         50     2000   17675 \n120011 05/03/2021  1217       mikul     mango       50          6      300   17975 \n120011 05/03/2021  1217       mikul     apple       60          8      480   18455 \n120012 06/03/2021  1218       smile     Blackberry 110          8      880   19335 \n120012 06/03/2021  1218       smile     Strawberry 150          6      900   20235 \n120012 06/03/2021  1218       smile     jackfruit   40         60     2400   22635 \n120012 06/03/2021  1218       smile     mango       50         15      750   23385 \n120012 06/03/2021  1218       smile     apple       60         10      600   23985 \n120012 06/03/2021  1218       smile     WaterMelon  58         95     5510   29495 \n\nTotal ::                                                             29495\n\n"
     ]
    }
   ],
   "source": [
    "main_tr_db_101()"
   ]
  },
  {
   "cell_type": "code",
   "execution_count": 352,
   "metadata": {},
   "outputs": [
    {
     "output_type": "stream",
     "name": "stdout",
     "text": [
      "bill     date     tr_cu_id  tr_cu_name  item       item_rate quantity amount a_sum \n\n120012 06/03/2021  1218       smile     WaterMelon  58         95     5510   29495 \n\nTotal ::                                                              5510\n\n"
     ]
    }
   ],
   "source": [
    "main_tr_db_101('WaterMelon')"
   ]
  },
  {
   "cell_type": "code",
   "execution_count": 22,
   "metadata": {},
   "outputs": [],
   "source": [
    "def main_tr_db_102(i_name = None,c_name = None,c_date = None):\n",
    "\n",
    "    i_name = i_name\n",
    "    c_name = c_name\n",
    "    c_date = c_date\n",
    "\n",
    "    item = ''\n",
    "    quantity = 0\n",
    "    tr_cu_id = ''\n",
    "    bill = ''\n",
    "    date = ''\n",
    "    tr_cu_name = ''\n",
    "    item_code = ''\n",
    "    item_rate = 0\n",
    "    amount = 0\n",
    "    a_sum = 0\n",
    "    x = 0\n",
    "    f_sum = 0\n",
    "    prn = 0\n",
    "    prn1 = 0\n",
    "\n",
    "    print(\"{}     {}     {}  {:<8}  {:<10} {:>3} {:>3} {:>4} {:>5} \".format('bill','date','tr_cu_id','tr_cu_name','item','item_rate','quantity','amount','a_sum'))\n",
    "    print()\n",
    "\n",
    "    for i in range(len(tr)):\n",
    "        for j in range(1,len(tr[i])):\n",
    "            item = tr[i][j][0]\n",
    "            quantity = tr[i][j][1]\n",
    "            tr_cu_id = tr[i][0][0]\n",
    "            bill = tr[i][0][1]\n",
    "            date = tr[i][0][2]\n",
    "\n",
    "\n",
    "            for k in range(len(cu)):\n",
    "                if tr_cu_id == cu[k][0]:\n",
    "                    tr_cu_name = cu[k][1]\n",
    "            for l in range(len(item_detail)):\n",
    "                if item == item_detail[l][1]:\n",
    "                    item_code = item_detail[l][0]\n",
    "                    item_rate = item_detail[l][2]\n",
    "            amount = item_rate * quantity\n",
    "            a_sum = a_sum + amount\n",
    "            x = x+1\n",
    "\n",
    "            if i_name == None and c_name == None and c_date == None:\n",
    "                print(\"{} {}  {}       {:<8}  {:<10} {:>3}        {:>3}     {:>4}   {:>5} \".format(bill,date,tr_cu_id,tr_cu_name,item,item_rate,\\\n",
    "                                                                                                   quantity,amount,a_sum))\n",
    "                prn = (\"Total ::                                                             {:>5}\".format(a_sum))\n",
    "\n",
    "            else:\n",
    "                # if item == i_name and tr_cu_name == c_name and date == c_date:\n",
    "                #     f_sum = f_sum + amount\n",
    "                if item == i_name or tr_cu_name == c_name or date == c_date:\n",
    "                    f_sum = f_sum + amount\n",
    "\n",
    "                    print(\"{} {}  {}       {:<8}  {:<10} {:>3}        {:>3}     {:>4}   {:>5} \".format(bill,date,tr_cu_id,tr_cu_name,item,item_rate,\\\n",
    "                                                                                                       quantity,amount,f_sum))\n",
    "\n",
    "                    prn1 = (\"Total ::                                                             {:>5}\".format(f_sum))\n",
    "    \n",
    "    print()\n",
    "    if i_name == None and c_name == None and c_date == None:\n",
    "        print(prn)\n",
    "    else:\n",
    "        print(prn1)\n",
    "\n",
    "    print()\n",
    "    #print(\"Total ::                                                             {:>5}\".format(a_sum))\n",
    "\n"
   ]
  },
  {
   "cell_type": "code",
   "execution_count": 486,
   "metadata": {},
   "outputs": [
    {
     "output_type": "stream",
     "name": "stdout",
     "text": [
      "bill     date     tr_cu_id  tr_cu_name  item       item_rate quantity amount a_sum \n\n120005 28/02/2021  1214       Steve     apple       60          7      420     420 \n\nTotal ::                                                               420\n\n"
     ]
    }
   ],
   "source": [
    "main_tr_db_102(c_date = '28/02/2021',i_name = 'apple',c_name = 'Steve')  #3240"
   ]
  },
  {
   "cell_type": "code",
   "execution_count": 488,
   "metadata": {},
   "outputs": [
    {
     "output_type": "stream",
     "name": "stdout",
     "text": [
      "bill     date     tr_cu_id  tr_cu_name  item       item_rate quantity amount a_sum \n\n\n0\n\n"
     ]
    }
   ],
   "source": [
    "main_tr_db_102(c_date = '28/02/2021')"
   ]
  },
  {
   "cell_type": "code",
   "execution_count": 489,
   "metadata": {},
   "outputs": [
    {
     "output_type": "stream",
     "name": "stdout",
     "text": [
      "18\n24\n32\n"
     ]
    }
   ],
   "source": [
    "ages = [5, 12, 17, 18, 24, 32]\n",
    "for i in ages:\n",
    "    if i >= 18:\n",
    "        print(i)"
   ]
  },
  {
   "cell_type": "code",
   "execution_count": 56,
   "metadata": {},
   "outputs": [],
   "source": [
    "def main_tr_db_or_102(i_name = None,c_name = None,c_date = None):\n",
    "\n",
    "    i_name = i_name\n",
    "    c_name = c_name\n",
    "    c_date = c_date\n",
    "\n",
    "    item = ''\n",
    "    quantity = 0\n",
    "    tr_cu_id = ''\n",
    "    bill = ''\n",
    "    date = ''\n",
    "    tr_cu_name = ''\n",
    "    item_code = ''\n",
    "    item_rate = 0\n",
    "    amount = 0\n",
    "    a_sum = 0\n",
    "    x = 0\n",
    "    f_sum = 0\n",
    "    prn = 0\n",
    "    prn1 = 0\n",
    "\n",
    "    print(\"{}     {}     {}  {:<8}  {:<10} {:>3} {:>3} {:>4} {:>5} \".format('bill','date','tr_cu_id','tr_cu_name','item','item_rate','quantity','amount','a_sum'))\n",
    "    print()\n",
    "\n",
    "    for i in range(len(tr)):\n",
    "        for j in range(1,len(tr[i])):\n",
    "            item = tr[i][j][0]\n",
    "            quantity = tr[i][j][1]\n",
    "            tr_cu_id = tr[i][0][0]\n",
    "            bill = tr[i][0][1]\n",
    "            date = tr[i][0][2]\n",
    "\n",
    "\n",
    "            for k in range(len(cu)):\n",
    "                if tr_cu_id == cu[k][0]:\n",
    "                    tr_cu_name = cu[k][1]\n",
    "            for l in range(len(item_detail)):\n",
    "                if item == item_detail[l][1]:\n",
    "                    item_code = item_detail[l][0]\n",
    "                    item_rate = item_detail[l][2]\n",
    "            amount = item_rate * quantity\n",
    "            a_sum = a_sum + amount\n",
    "            x = x+1\n",
    "\n",
    "            if i_name == None and c_name == None and c_date == None:\n",
    "                print(\"{} {}  {}       {:<8}  {:<10} {:>3}        {:>3}     {:>4}   {:>5} \".format(bill,date,tr_cu_id,tr_cu_name,item,item_rate,\\\n",
    "                                                                                                   quantity,amount,a_sum))\n",
    "                prn = (\"Total ::                                                             {:>5}\".format(a_sum))\n",
    "\n",
    "            else:\n",
    "                \n",
    "                if item == i_name or tr_cu_name == c_name or date == c_date:\n",
    "                    f_sum = f_sum + amount\n",
    "\n",
    "                    print(\"{} {}  {}       {:<8}  {:<10} {:>3}        {:>3}     {:>4}   {:>5} \".format(bill,date,tr_cu_id,tr_cu_name,item,item_rate,\\\n",
    "                                                                                                       quantity,amount,f_sum))\n",
    "\n",
    "                    prn1 = (\"Total ::                                                             {:>5}\".format(f_sum))\n",
    "    \n",
    "    print()\n",
    "    if i_name == None and c_name == None and c_date == None:\n",
    "        print(prn)\n",
    "    else:\n",
    "        print(prn1)\n",
    "\n",
    "    print()\n",
    "    #print(\"Total ::                                                             {:>5}\".format(a_sum))\n",
    "\n"
   ]
  },
  {
   "cell_type": "code",
   "execution_count": 57,
   "metadata": {},
   "outputs": [],
   "source": [
    "def main_tr_db_and_102(i_name = None,c_name = None,c_date = None):\n",
    "\n",
    "    i_name = i_name\n",
    "    c_name = c_name\n",
    "    c_date = c_date\n",
    "\n",
    "    item = ''\n",
    "    quantity = 0\n",
    "    tr_cu_id = ''\n",
    "    bill = ''\n",
    "    date = ''\n",
    "    tr_cu_name = ''\n",
    "    item_code = ''\n",
    "    item_rate = 0\n",
    "    amount = 0\n",
    "    a_sum = 0\n",
    "    x = 0\n",
    "    f_sum = 0\n",
    "    prn = 0\n",
    "    prn1 = 0\n",
    "\n",
    "    print(\"{}     {}     {}  {:<8}  {:<10} {:>3} {:>3} {:>4} {:>5} \".format('bill','date','tr_cu_id','tr_cu_name','item','item_rate','quantity','amount','a_sum'))\n",
    "    print()\n",
    "\n",
    "    for i in range(len(tr)):\n",
    "        for j in range(1,len(tr[i])):\n",
    "            item = tr[i][j][0]\n",
    "            quantity = tr[i][j][1]\n",
    "            tr_cu_id = tr[i][0][0]\n",
    "            bill = tr[i][0][1]\n",
    "            date = tr[i][0][2]\n",
    "\n",
    "\n",
    "            for k in range(len(cu)):\n",
    "                if tr_cu_id == cu[k][0]:\n",
    "                    tr_cu_name = cu[k][1]\n",
    "            for l in range(len(item_detail)):\n",
    "                if item == item_detail[l][1]:\n",
    "                    item_code = item_detail[l][0]\n",
    "                    item_rate = item_detail[l][2]\n",
    "            amount = item_rate * quantity\n",
    "            a_sum = a_sum + amount\n",
    "            x = x+1\n",
    "\n",
    "            if i_name == None and c_name == None and c_date == None:\n",
    "                print(\"{} {}  {}       {:<8}  {:<10} {:>3}        {:>3}     {:>4}   {:>5} \".format(bill,date,tr_cu_id,tr_cu_name,item,item_rate,\\\n",
    "                                                                                                   quantity,amount,a_sum))\n",
    "                prn = (\"Total ::                                                             {:>5}\".format(a_sum))\n",
    "\n",
    "            else:\n",
    "                if item == i_name and tr_cu_name == c_name and date == c_date:\n",
    "                    f_sum = f_sum + amount\n",
    "                \n",
    "\n",
    "                    print(\"{} {}  {}       {:<8}  {:<10} {:>3}        {:>3}     {:>4}   {:>5} \".format(bill,date,tr_cu_id,tr_cu_name,item,item_rate,\\\n",
    "                                                                                                       quantity,amount,f_sum))\n",
    "\n",
    "                    prn1 = (\"Total ::                                                             {:>5}\".format(f_sum))\n",
    "    \n",
    "    print()\n",
    "    if i_name == None and c_name == None and c_date == None:\n",
    "        print(prn)\n",
    "    else:\n",
    "        print(prn1)\n",
    "\n",
    "    print()\n",
    "    #print(\"Total ::                                                             {:>5}\".format(a_sum))\n",
    "\n"
   ]
  },
  {
   "cell_type": "code",
   "execution_count": 59,
   "metadata": {},
   "outputs": [
    {
     "output_type": "stream",
     "name": "stdout",
     "text": [
      "bill     date     tr_cu_id  tr_cu_name  item       item_rate quantity amount a_sum \n\n120003 27/02/2021  1212       Sahil     apple       60          3      180     180 \n120003 27/02/2021  1212       Sahil     apple       60          7      420     600 \n\nTotal ::                                                               600\n\n"
     ]
    }
   ],
   "source": [
    "main_tr_db_and_102(i_name = 'apple',c_name = 'Sahil',c_date = '27/02/2021')"
   ]
  },
  {
   "cell_type": "code",
   "execution_count": 60,
   "metadata": {},
   "outputs": [
    {
     "output_type": "stream",
     "name": "stdout",
     "text": [
      "bill     date     tr_cu_id  tr_cu_name  item       item_rate quantity amount a_sum \n\n120001 27/02/2021  1210       Rajesh    apple       60          3      180     180 \n120003 27/02/2021  1212       Sahil     apple       60          3      180     360 \n120003 27/02/2021  1212       Sahil     apple       60          7      420     780 \n120005 28/02/2021  1214       Steve     apple       60          7      420    1200 \n120009 05/03/2021  1215       Rohan     apple       60         10      600    1800 \n120010 05/03/2021  1216       Millan    apple       60          6      360    2160 \n120011 05/03/2021  1217       mikul     apple       60          8      480    2640 \n120012 06/03/2021  1218       smile     apple       60         10      600    3240 \n\nTotal ::                                                              3240\n\n"
     ]
    }
   ],
   "source": [
    "main_tr_db_or_102(i_name = 'apple')"
   ]
  },
  {
   "cell_type": "code",
   "execution_count": 61,
   "metadata": {},
   "outputs": [
    {
     "output_type": "stream",
     "name": "stdout",
     "text": [
      "bill     date     tr_cu_id  tr_cu_name  item       item_rate quantity amount a_sum \n\n120010 05/03/2021  1216       Millan    apple       60          6      360     360 \n120010 05/03/2021  1216       Millan    dates      100          8      800    1160 \n120010 05/03/2021  1216       Millan    jelly       20          5      100    1260 \n120010 05/03/2021  1216       Millan    jackfruit   40         50     2000    3260 \n\nTotal ::                                                              3260\n\n"
     ]
    }
   ],
   "source": [
    "main_tr_db_or_102(c_name = 'Millan')"
   ]
  },
  {
   "cell_type": "code",
   "execution_count": 62,
   "metadata": {},
   "outputs": [
    {
     "output_type": "stream",
     "name": "stdout",
     "text": [
      "bill     date     tr_cu_id  tr_cu_name  item       item_rate quantity amount a_sum \n\n120004 28/02/2021  1213       Jack      orange      40          9      360     360 \n120004 28/02/2021  1213       Jack      pears       30          8      240     600 \n120004 28/02/2021  1213       Jack      pineapple   60          5      300     900 \n120005 28/02/2021  1214       Steve     grapes      45          3      135    1035 \n120005 28/02/2021  1214       Steve     apple       60          7      420    1455 \n\nTotal ::                                                              1455\n\n"
     ]
    }
   ],
   "source": [
    "main_tr_db_or_102(c_date = '28/02/2021')"
   ]
  },
  {
   "cell_type": "code",
   "execution_count": 63,
   "metadata": {},
   "outputs": [
    {
     "output_type": "stream",
     "name": "stdout",
     "text": [
      "bill     date     tr_cu_id  tr_cu_name  item       item_rate quantity amount a_sum \n\n120001 27/02/2021  1210       Rajesh    apple       60          3      180     180 \n120003 27/02/2021  1212       Sahil     pears       30          2       60     240 \n120003 27/02/2021  1212       Sahil     apple       60          3      180     420 \n120003 27/02/2021  1212       Sahil     orange      40          4      160     580 \n120003 27/02/2021  1212       Sahil     cherry      90          5      450    1030 \n120003 27/02/2021  1212       Sahil     mango       50          6      300    1330 \n120003 27/02/2021  1212       Sahil     apple       60          7      420    1750 \n120005 28/02/2021  1214       Steve     apple       60          7      420    2170 \n120009 05/03/2021  1215       Rohan     apple       60         10      600    2770 \n120010 05/03/2021  1216       Millan    apple       60          6      360    3130 \n120011 05/03/2021  1217       mikul     apple       60          8      480    3610 \n120012 06/03/2021  1218       smile     apple       60         10      600    4210 \n\nTotal ::                                                              4210\n\n"
     ]
    }
   ],
   "source": [
    "main_tr_db_or_102(i_name = 'apple',c_name = 'Sahil')"
   ]
  },
  {
   "cell_type": "code",
   "execution_count": 64,
   "metadata": {},
   "outputs": [
    {
     "output_type": "stream",
     "name": "stdout",
     "text": [
      "bill     date     tr_cu_id  tr_cu_name  item       item_rate quantity amount a_sum \n\n120002 27/02/2021  1211       Rakesh    pears       30          6      180     180 \n120003 27/02/2021  1212       Sahil     pears       30          2       60     240 \n120003 27/02/2021  1212       Sahil     apple       60          3      180     420 \n120003 27/02/2021  1212       Sahil     orange      40          4      160     580 \n120003 27/02/2021  1212       Sahil     cherry      90          5      450    1030 \n120003 27/02/2021  1212       Sahil     mango       50          6      300    1330 \n120003 27/02/2021  1212       Sahil     apple       60          7      420    1750 \n120004 28/02/2021  1213       Jack      pears       30          8      240    1990 \n\nTotal ::                                                              1990\n\n"
     ]
    }
   ],
   "source": [
    "main_tr_db_or_102(c_name = 'Sahil',i_name = 'pears')"
   ]
  },
  {
   "cell_type": "code",
   "execution_count": 65,
   "metadata": {},
   "outputs": [
    {
     "output_type": "stream",
     "name": "stdout",
     "text": [
      "bill     date     tr_cu_id  tr_cu_name  item       item_rate quantity amount a_sum \n\n120002 27/02/2021  1211       Rakesh    mango       50          8      400     400 \n120003 27/02/2021  1212       Sahil     mango       50          6      300     700 \n120004 28/02/2021  1213       Jack      orange      40          9      360    1060 \n120004 28/02/2021  1213       Jack      pears       30          8      240    1300 \n120004 28/02/2021  1213       Jack      pineapple   60          5      300    1600 \n120006 02/03/2021  1215       Rohan     mango       50         12      600    2200 \n120007 03/03/2021  1211       Rakesh    dates      100         15     1500    3700 \n120007 03/03/2021  1211       Rakesh    banana      10         10      100    3800 \n120007 03/03/2021  1211       Rakesh    orange      40         10      400    4200 \n120009 05/03/2021  1215       Rohan     mango       50         10      500    4700 \n120011 05/03/2021  1217       mikul     mango       50          6      300    5000 \n120012 06/03/2021  1218       smile     mango       50         15      750    5750 \n\nTotal ::                                                              5750\n\n"
     ]
    }
   ],
   "source": [
    "main_tr_db_or_102(c_date = '03/03/2021',i_name = 'mango',c_name = 'Jack')"
   ]
  },
  {
   "cell_type": "code",
   "execution_count": 24,
   "metadata": {},
   "outputs": [],
   "source": [
    "def main_tr_db_103(*i_name):\n",
    "\n",
    "    print(\"{}     {}     {}  {:<8}  {:<10} {:>3} {:>3} {:>4} {:>5} \".format('bill','date','tr_cu_id','tr_cu_name','item','item_rate','quantity',\\\n",
    "            'amount','a_sum'))\n",
    "    print()\n",
    "\n",
    "    for q in i_name:\n",
    "\n",
    "        item = ''\n",
    "        quantity = 0\n",
    "        tr_cu_id = ''\n",
    "        bill = ''\n",
    "        date = ''\n",
    "        tr_cu_name = ''\n",
    "        item_code = ''\n",
    "        item_rate = 0\n",
    "        amount = 0\n",
    "        a_sum = 0\n",
    "        x = 0\n",
    "        f_sum = 0\n",
    "        prn = 0\n",
    "        prn1 = 0\n",
    "\n",
    "        # print(\"{}     {}     {}  {:<8}  {:<10} {:>3} {:>3} {:>4} {:>5} \".format('bill','date','tr_cu_id','tr_cu_name','item','item_rate','quantity',\\\n",
    "        #     'amount','a_sum'))\n",
    "        # print()\n",
    "\n",
    "        for i in range(len(tr)):\n",
    "            for j in range(1,len(tr[i])):\n",
    "                item = tr[i][j][0]\n",
    "                quantity = tr[i][j][1]\n",
    "                tr_cu_id = tr[i][0][0]\n",
    "                bill = tr[i][0][1]\n",
    "                date = tr[i][0][2]\n",
    "\n",
    "\n",
    "                for k in range(len(cu)):\n",
    "                    if tr_cu_id == cu[k][0]:\n",
    "                        tr_cu_name = cu[k][1]\n",
    "                for l in range(len(item_detail)):\n",
    "                    if item == item_detail[l][1]:\n",
    "                        item_code = item_detail[l][0]\n",
    "                        item_rate = item_detail[l][2]\n",
    "                amount = item_rate * quantity\n",
    "                #a_sum = a_sum + amount\n",
    "                x = x+1\n",
    "\n",
    "                if item == q:\n",
    "                    a_sum = a_sum + amount\n",
    "\n",
    "                    print(\"{} {}  {}       {:<8}  {:<10} {:>3}        {:>3}     {:>4}   {:>5} \".format(bill,date,tr_cu_id,tr_cu_name,item,item_rate,\\\n",
    "                                                                                                    quantity,amount,a_sum))\n",
    "                prn = (\"Total ::                                                             {:>5}\".format(a_sum))\n",
    "    print()\n",
    "    print(prn)\n",
    "                \n",
    "                \n",
    "                \n",
    "        "
   ]
  },
  {
   "cell_type": "code",
   "execution_count": 25,
   "metadata": {},
   "outputs": [
    {
     "output_type": "stream",
     "name": "stdout",
     "text": [
      "bill     date     tr_cu_id  tr_cu_name  item       item_rate quantity amount a_sum \n\n120001 27/02/2021  1210       Rajesh    grapes      45          4      180     180 \n120005 28/02/2021  1214       Steve     grapes      45          3      135     315 \n120002 27/02/2021  1211       Rakesh    pears       30          6      180     180 \n120003 27/02/2021  1212       Sahil     pears       30          2       60     240 \n120004 28/02/2021  1213       Jack      pears       30          8      240     480 \n120002 27/02/2021  1211       Rakesh    mango       50          8      400     400 \n120003 27/02/2021  1212       Sahil     mango       50          6      300     700 \n120006 02/03/2021  1215       Rohan     mango       50         12      600    1300 \n120009 05/03/2021  1215       Rohan     mango       50         10      500    1800 \n120011 05/03/2021  1217       mikul     mango       50          6      300    2100 \n120012 06/03/2021  1218       smile     mango       50         15      750    2850 \n120003 27/02/2021  1212       Sahil     cherry      90          5      450     450 \n120006 02/03/2021  1215       Rohan     cherry      90          7      630    1080 \n120009 05/03/2021  1215       Rohan     cherry      90          8      720    1800 \n\nTotal ::                                                              1800\n"
     ]
    }
   ],
   "source": [
    "main_tr_db_103('grapes','pears','mango','cherry')"
   ]
  },
  {
   "cell_type": "code",
   "execution_count": 26,
   "metadata": {},
   "outputs": [
    {
     "output_type": "error",
     "ename": "NameError",
     "evalue": "name 'main_tr_db_102' is not defined",
     "traceback": [
      "\u001b[0;31m---------------------------------------------------------------------------\u001b[0m",
      "\u001b[0;31mNameError\u001b[0m                                 Traceback (most recent call last)",
      "\u001b[0;32m<ipython-input-26-bbcc52bde4fc>\u001b[0m in \u001b[0;36m<module>\u001b[0;34m\u001b[0m\n\u001b[0;32m----> 1\u001b[0;31m \u001b[0mmain_tr_db_102\u001b[0m\u001b[0;34m(\u001b[0m\u001b[0mc_date\u001b[0m \u001b[0;34m=\u001b[0m \u001b[0;34m'28/02/2021'\u001b[0m\u001b[0;34m,\u001b[0m\u001b[0mi_name\u001b[0m \u001b[0;34m=\u001b[0m \u001b[0;34m'apple'\u001b[0m\u001b[0;34m,\u001b[0m\u001b[0mc_name\u001b[0m \u001b[0;34m=\u001b[0m \u001b[0;34m'Steve'\u001b[0m\u001b[0;34m)\u001b[0m\u001b[0;34m\u001b[0m\u001b[0;34m\u001b[0m\u001b[0m\n\u001b[0m",
      "\u001b[0;31mNameError\u001b[0m: name 'main_tr_db_102' is not defined"
     ]
    }
   ],
   "source": [
    "main_tr_db_102(c_date = '28/02/2021',i_name = 'apple',c_name = 'Steve') "
   ]
  },
  {
   "cell_type": "code",
   "execution_count": 104,
   "metadata": {},
   "outputs": [],
   "source": [
    "def main_tr_db_104(*i_name):\n",
    "\n",
    "    print(\"{}     {}     {}  {:<8}  {:<10} {:>3} {:>3} {:>4} {:>5} \".format('bill','date','tr_cu_id','tr_cu_name','item','item_rate','quantity',\\\n",
    "            'amount','a_sum'))\n",
    "    print()\n",
    "\n",
    "    for q in i_name:\n",
    "\n",
    "        item = ''\n",
    "        quantity = 0\n",
    "        tr_cu_id = ''\n",
    "        bill = ''\n",
    "        date = ''\n",
    "        tr_cu_name = ''\n",
    "        item_code = ''\n",
    "        item_rate = 0\n",
    "        amount = 0\n",
    "        a_sum = 0\n",
    "        x = 0\n",
    "        f_sum = 0\n",
    "        prn = 0\n",
    "        prn1 = 0\n",
    "\n",
    "        # print(\"{}     {}     {}  {:<8}  {:<10} {:>3} {:>3} {:>4} {:>5} \".format('bill','date','tr_cu_id','tr_cu_name','item','item_rate','quantity',\\\n",
    "        #     'amount','a_sum'))\n",
    "        # print()\n",
    "\n",
    "        for i in range(len(tr)):\n",
    "            for j in range(1,len(tr[i])):\n",
    "                item = tr[i][j][0]\n",
    "                quantity = tr[i][j][1]\n",
    "                tr_cu_id = tr[i][0][0]\n",
    "                bill = tr[i][0][1]\n",
    "                date = tr[i][0][2]\n",
    "\n",
    "\n",
    "                for k in range(len(cu)):\n",
    "                    if tr_cu_id == cu[k][0]:\n",
    "                        tr_cu_name = cu[k][1]\n",
    "                for l in range(len(item_detail)):\n",
    "                    if item == item_detail[l][1]:\n",
    "                        item_code = item_detail[l][0]\n",
    "                        item_rate = item_detail[l][2]\n",
    "                amount = item_rate * quantity\n",
    "                #a_sum = a_sum + amount\n",
    "                x = x+1\n",
    "\n",
    "                if item == q:\n",
    "                    a_sum = a_sum + amount\n",
    "                    print(\"{} {}  {}       {:<8}  {:<10} {:>3}        {:>3}     {:>4}   {:>5} \".format(bill,date,tr_cu_id,tr_cu_name,item,item_rate,\\\n",
    "                                                                                                    quantity,amount,a_sum))\n",
    "                #prn = (\"Total ::                                                             {:>5}\".format(a_sum))\n",
    "\n",
    "                if tr_cu_id == q:\n",
    "                    a_sum = a_sum + amount\n",
    "\n",
    "                    print(\"{} {}  {}       {:<8}  {:<10} {:>3}        {:>3}     {:>4}   {:>5} \".format(bill,date,tr_cu_id,tr_cu_name,item,item_rate,\\\n",
    "                                                                                                    quantity,amount,a_sum))\n",
    "                prn = (\"Total ::                                                             {:>5}\".format(a_sum))\n",
    "    print()\n",
    "    print(prn)\n",
    "                \n",
    "                \n",
    "                \n",
    "        "
   ]
  },
  {
   "cell_type": "code",
   "execution_count": 112,
   "metadata": {},
   "outputs": [
    {
     "output_type": "stream",
     "name": "stdout",
     "text": [
      "bill     date     tr_cu_id  tr_cu_name  item       item_rate quantity amount a_sum \n\n120005 28/02/2021  1214       Steve     grapes      45          3      135     135 \n120005 28/02/2021  1214       Steve     apple       60          7      420     555 \n120008 04/03/2021  1214       Steve     dates      100         13     1300    1855 \n120008 04/03/2021  1214       Steve     banana      10         10      100    1955 \n120008 04/03/2021  1214       Steve     Blackberry 110          2      220    2175 \n120003 27/02/2021  1212       Sahil     pears       30          2       60      60 \n120003 27/02/2021  1212       Sahil     apple       60          3      180     240 \n120003 27/02/2021  1212       Sahil     orange      40          4      160     400 \n120003 27/02/2021  1212       Sahil     cherry      90          5      450     850 \n120003 27/02/2021  1212       Sahil     mango       50          6      300    1150 \n120003 27/02/2021  1212       Sahil     apple       60          7      420    1570 \n120001 27/02/2021  1210       Rajesh    apple       60          3      180     180 \n120003 27/02/2021  1212       Sahil     apple       60          3      180     360 \n120003 27/02/2021  1212       Sahil     apple       60          7      420     780 \n120005 28/02/2021  1214       Steve     apple       60          7      420    1200 \n120009 05/03/2021  1215       Rohan     apple       60         10      600    1800 \n120010 05/03/2021  1216       Millan    apple       60          6      360    2160 \n120011 05/03/2021  1217       mikul     apple       60          8      480    2640 \n120012 06/03/2021  1218       smile     apple       60         10      600    3240 \n\nTotal ::                                                              3240\n"
     ]
    }
   ],
   "source": [
    "main_tr_db_104('1214','1212','apple')"
   ]
  },
  {
   "cell_type": "code",
   "execution_count": 44,
   "metadata": {},
   "outputs": [],
   "source": [
    "def main_tr_db_104(*i_name):\n",
    "    f_sum = 0\n",
    "\n",
    "    print(\"{}     {}     {}  {:<8}  {:<10} {:>3} {:>3} {:>4} {:>5} \".format('bill','date','tr_cu_id','tr_cu_name','item','item_rate','quantity',\\\n",
    "            'amount','a_sum'))\n",
    "    print()\n",
    "\n",
    "    for q in i_name:\n",
    "        print()\n",
    "        f_sum = f_sum + a_sum\n",
    "\n",
    "        item = ''\n",
    "        quantity = 0\n",
    "        tr_cu_id = ''\n",
    "        bill = ''\n",
    "        date = ''\n",
    "        tr_cu_name = ''\n",
    "        item_code = ''\n",
    "        item_rate = 0\n",
    "        amount = 0\n",
    "        a_sum = 0\n",
    "        x = 0\n",
    "\n",
    "        prn = 0\n",
    "        prn1 = 0\n",
    "       \n",
    "        # print(\"{}     {}     {}  {:<8}  {:<10} {:>3} {:>3} {:>4} {:>5} \".format('bill','date','tr_cu_id','tr_cu_name','item','item_rate','quantity',\\\n",
    "        #     'amount','a_sum'))\n",
    "        # print()\n",
    "\n",
    "        for i in range(len(tr)):\n",
    "            for j in range(1,len(tr[i])):\n",
    "                item = tr[i][j][0]\n",
    "                quantity = tr[i][j][1]\n",
    "                tr_cu_id = tr[i][0][0]\n",
    "                bill = tr[i][0][1]\n",
    "                date = tr[i][0][2]\n",
    "\n",
    "\n",
    "                for k in range(len(cu)):\n",
    "                    if tr_cu_id == cu[k][0]:\n",
    "                        tr_cu_name = cu[k][1]\n",
    "                for l in range(len(item_detail)):\n",
    "                    if item == item_detail[l][1]:\n",
    "                        item_code = item_detail[l][0]\n",
    "                        item_rate = item_detail[l][2]\n",
    "                amount = item_rate * quantity\n",
    "                #a_sum = a_sum + amount\n",
    "                x = x+1\n",
    "\n",
    "                if item == q:\n",
    "                    a_sum = a_sum + amount\n",
    "                    a = a_sum \n",
    "                    print(\"{} {}  {}       {:<8}  {:<10} {:>3}        {:>3}     {:>4}   {:>5} \".format(bill,date,tr_cu_id,tr_cu_name,item,item_rate,\\\n",
    "                                                                                                   quantity,amount,a_sum))\n",
    "                #prn = (\"Total ::                                                             {:>5}\".format(a_sum))\n",
    "\n",
    "                if cu_name_id(tr_cu_id) == q:\n",
    "                    a_sum = a_sum + amount\n",
    "                    b = a_sum\n",
    "\n",
    "                    print(\"{} {}  {}       {:<8}  {:<10} {:>3}        {:>3}     {:>4}   {:>5} \".format(bill,date,tr_cu_id,tr_cu_name,item,item_rate,\\\n",
    "                                                                                                        quantity,amount,a_sum))\n",
    "                \n",
    "                \n",
    "                if date == q:\n",
    "                    a_sum = a_sum + amount\n",
    "                    c = a_sum\n",
    "                    print(\"{} {}  {}       {:<8}  {:<10} {:>3}        {:>3}     {:>4}   {:>5} \".format(bill,date,tr_cu_id,tr_cu_name,item,item_rate,\\\n",
    "                                                                                                   quantity,amount,a_sum))                                             \n",
    "                if bill == q:\n",
    "                    a_sum = a_sum + amount\n",
    "                    d = a+b+a_sum\n",
    "\n",
    "                    print(\"{} {}  {}       {:<8}  {:<10} {:>3}        {:>3}     {:>4}   {:>5} \".format(bill,date,tr_cu_id,tr_cu_name,item,item_rate,\\\n",
    "                                                                                                    quantity,amount,a_sum))                                                                                                                           \n",
    "                \n",
    "                prn = (\"Total ::                                                             {:>5}\".format(f_sum))\n",
    "    print()\n",
    "    print(prn)\n",
    "                \n",
    "                \n",
    "                \n",
    "        "
   ]
  },
  {
   "cell_type": "code",
   "execution_count": 45,
   "metadata": {},
   "outputs": [
    {
     "output_type": "stream",
     "name": "stdout",
     "text": [
      "bill     date     tr_cu_id  tr_cu_name  item       item_rate quantity amount a_sum \n\n\n"
     ]
    },
    {
     "output_type": "error",
     "ename": "UnboundLocalError",
     "evalue": "local variable 'a_sum' referenced before assignment",
     "traceback": [
      "\u001b[0;31m---------------------------------------------------------------------------\u001b[0m",
      "\u001b[0;31mUnboundLocalError\u001b[0m                         Traceback (most recent call last)",
      "\u001b[0;32m<ipython-input-45-e3d7fbe49291>\u001b[0m in \u001b[0;36m<module>\u001b[0;34m\u001b[0m\n\u001b[0;32m----> 1\u001b[0;31m \u001b[0mmain_tr_db_104\u001b[0m\u001b[0;34m(\u001b[0m\u001b[0;34m'120002'\u001b[0m\u001b[0;34m,\u001b[0m\u001b[0;34m'120005'\u001b[0m\u001b[0;34m,\u001b[0m\u001b[0;34m'27/02/2021'\u001b[0m\u001b[0;34m,\u001b[0m\u001b[0;34m'pears'\u001b[0m\u001b[0;34m,\u001b[0m\u001b[0;34m'Millan'\u001b[0m\u001b[0;34m)\u001b[0m\u001b[0;34m\u001b[0m\u001b[0;34m\u001b[0m\u001b[0m\n\u001b[0m",
      "\u001b[0;32m<ipython-input-44-e2f22c7097dc>\u001b[0m in \u001b[0;36mmain_tr_db_104\u001b[0;34m(*i_name)\u001b[0m\n\u001b[1;32m      8\u001b[0m     \u001b[0;32mfor\u001b[0m \u001b[0mq\u001b[0m \u001b[0;32min\u001b[0m \u001b[0mi_name\u001b[0m\u001b[0;34m:\u001b[0m\u001b[0;34m\u001b[0m\u001b[0;34m\u001b[0m\u001b[0m\n\u001b[1;32m      9\u001b[0m         \u001b[0mprint\u001b[0m\u001b[0;34m(\u001b[0m\u001b[0;34m)\u001b[0m\u001b[0;34m\u001b[0m\u001b[0;34m\u001b[0m\u001b[0m\n\u001b[0;32m---> 10\u001b[0;31m         \u001b[0mf_sum\u001b[0m \u001b[0;34m=\u001b[0m \u001b[0mf_sum\u001b[0m \u001b[0;34m+\u001b[0m \u001b[0ma_sum\u001b[0m\u001b[0;34m\u001b[0m\u001b[0;34m\u001b[0m\u001b[0m\n\u001b[0m\u001b[1;32m     11\u001b[0m \u001b[0;34m\u001b[0m\u001b[0m\n\u001b[1;32m     12\u001b[0m         \u001b[0mitem\u001b[0m \u001b[0;34m=\u001b[0m \u001b[0;34m''\u001b[0m\u001b[0;34m\u001b[0m\u001b[0;34m\u001b[0m\u001b[0m\n",
      "\u001b[0;31mUnboundLocalError\u001b[0m: local variable 'a_sum' referenced before assignment"
     ]
    }
   ],
   "source": [
    "main_tr_db_104('120002','120005','27/02/2021','pears','Millan'"
   ]
  },
  {
   "cell_type": "code",
   "execution_count": 136,
   "metadata": {},
   "outputs": [
    {
     "output_type": "stream",
     "name": "stdout",
     "text": [
      "1210 Rajesh\n1211 Rakesh\n1212 Sahil\n1213 Jack\n1214 Steve\n1215 Rohan\n1211 Rakesh\n1214 Steve\n1215 Rohan\n1216 Millan\n1217 mikul\n1218 smile\n"
     ]
    }
   ],
   "source": [
    "for i in range(len(tr)):\n",
    "    for j in range(1,len(tr[i])):\n",
    "        item = tr[i][j][0]\n",
    "        quantity = tr[i][j][1]\n",
    "        tr_cu_id = tr[i][0][0]\n",
    "        bill = tr[i][0][1]\n",
    "        date = tr[i][0][2]\n",
    "\n",
    "    print(tr_cu_id,cu_name_id(tr_cu_id))"
   ]
  }
 ]
}